{
 "cells": [
  {
   "cell_type": "markdown",
   "id": "bc937c12",
   "metadata": {},
   "source": [
    "# PAI CA2: Phase 2 Taxi Safety Classifier | Just Taxi\n",
    "## Names & Admin No:\n",
    "### Quah Johnnie (2007476), Jayden Yap (2112790), Bey Wee Loon (2112802)\n",
    "\n",
    "\n",
    "<br><br>\n",
    "\n",
    "<h3 align=\"center\"><a id=\"content-table\"></a>Notebook Table of Contents (Clickable)</h3>\n",
    "\n",
    "| Description  | Headings | \n",
    "| --- | --- |\n",
    "| <p style=\"color:blue;font-weight:bold;font-size:larger\">Extracting data</p>| <p style=\"font-size:larger\">[`1`](#1) |\n",
    "| <p style=\"color:blue;font-weight:bold;font-size:larger\">Handling Missing Values</p>| <p style=\"font-size:larger\">[`2`](#2) |\n",
    "| <p style=\"color:blue;font-weight:bold;font-size:larger\">Outlier Analysis</p> | <p style=\"font-size:larger\">[`3`](#3) |\n",
    "| <p style=\"color:blue;font-weight:bold;font-size:larger\">Feature Engineering</p> | <p style=\"font-size:larger\">[`4`](#4) |\n",
    "| <p style=\"color:blue;font-weight:bold;font-size:larger\">Addressing Highly Correlated Columns</p> | <p style=\"font-size:larger\">[`5`](#5) |\n",
    "| <p style=\"color:blue;font-weight:bold;font-size:larger\">Feature Selection</p>| <p style=\"font-size:larger\">[`6`](#6) |\n",
    "| <p style=\"color:blue;font-weight:bold;font-size:larger\">Outlier Removal Techniques Comparison</p> | <p style=\"font-size:larger\">[`7`](#7) |\n",
    "| <p style=\"color:blue;font-weight:bold;font-size:larger\">Handling Imbalanced Classes</p>| <p style=\"font-size:larger\">[`8`](#8) |\n",
    "| <p style=\"color:blue;font-weight:bold;font-size:larger\">Model Comparison</p> | <p style=\"font-size:larger\">[`9`](#9) |\n",
    "| <p style=\"color:blue;font-weight:bold;font-size:larger\">Hyperparameter Tuning</p>| <p style=\"font-size:larger\">[`10`](#10) |\n",
    "| <p style=\"color:blue;font-weight:bold;font-size:larger\">Training an unsupervised model</p> | <p style=\"font-size:larger\">[`11`](#11) |"
   ]
  },
  {
   "cell_type": "code",
   "execution_count": 1,
   "id": "76981ec0",
   "metadata": {},
   "outputs": [],
   "source": [
    "from sqlalchemy import create_engine\n",
    "import pandas as pd\n",
    "import dask.dataframe as dd\n",
    "import numpy as np\n",
    "import re, mlflow\n",
    "\n",
    "import seaborn as sns\n",
    "import matplotlib.pyplot as plt\n",
    "import matplotlib.gridspec as gridspec\n",
    "from mpl_toolkits.mplot3d import Axes3D\n",
    "\n",
    "import dask_ml.linear_model\n",
    "\n",
    "from sklearn.ensemble import IsolationForest\n",
    "\n",
    "from dask.diagnostics import ProgressBar\n",
    "from sklearn.ensemble import IsolationForest\n",
    "\n",
    "from sklearn.preprocessing import StandardScaler\n",
    "from sklearn.model_selection import train_test_split\n",
    "from sklearn.metrics import classification_report\n",
    "from sklearn.model_selection import cross_val_score\n",
    "\n",
    "from sklearn.experimental import enable_iterative_imputer\n",
    "from sklearn.impute import IterativeImputer\n",
    "from sklearn.linear_model import LinearRegression\n",
    "\n",
    "from sklearn.feature_selection import RFECV\n",
    "from sklearn.model_selection import KFold\n",
    "\n",
    "from sklearn.compose import ColumnTransformer\n",
    "from sklearn.preprocessing import OneHotEncoder\n",
    "\n",
    "from datetime import datetime\n",
    "from sklearn.pipeline import Pipeline\n",
    "from sklearn.preprocessing import StandardScaler\n",
    "from sklearn.model_selection import StratifiedKFold\n",
    "\n",
    "from sklearn.dummy import DummyClassifier\n",
    "from sklearn.neighbors import KNeighborsClassifier\n",
    "from sklearn.svm import SVC\n",
    "from sklearn.linear_model import SGDClassifier, LogisticRegression\n",
    "from sklearn.naive_bayes import GaussianNB\n",
    "from sklearn.tree import DecisionTreeClassifier\n",
    "from sklearn.ensemble import AdaBoostClassifier, RandomForestClassifier, GradientBoostingClassifier, BaggingClassifier"
   ]
  },
  {
   "cell_type": "markdown",
   "id": "1e3b033c",
   "metadata": {},
   "source": [
    "# 1. Extracting data <a id=\"1\"></a>\n",
    "\n",
    "<br>\n",
    "\n",
    "- [Back to content table](#content-table)"
   ]
  },
  {
   "cell_type": "markdown",
   "id": "592f73ea",
   "metadata": {},
   "source": [
    "### Connect to MSSQL server"
   ]
  },
  {
   "cell_type": "code",
   "execution_count": 2,
   "id": "77854fcc",
   "metadata": {},
   "outputs": [],
   "source": [
    "# Connect to MSSQL server\n",
    "server = 'JONI\\SQLEXPRESS' # <- change server\n",
    "database = 'Taxi_Trip'\n",
    "engine = create_engine(f'mssql+pyodbc://{server}/{database}?driver=SQL Server')"
   ]
  },
  {
   "cell_type": "markdown",
   "id": "b119934b",
   "metadata": {},
   "source": [
    "### 1.1 Driver Data Table"
   ]
  },
  {
   "cell_type": "code",
   "execution_count": 3,
   "id": "c23c5f01",
   "metadata": {
    "scrolled": true
   },
   "outputs": [
    {
     "name": "stderr",
     "output_type": "stream",
     "text": [
      "<timed exec>:3: RemovedIn20Warning: Deprecated API features detected! These feature(s) are not compatible with SQLAlchemy 2.0. To prevent incompatible upgrades prior to updating applications, ensure requirements files are pinned to \"sqlalchemy<2.0\". Set environment variable SQLALCHEMY_WARN_20=1 to show all deprecation warnings.  Set environment variable SQLALCHEMY_SILENCE_UBER_WARNING=1 to silence this message. (Background on SQLAlchemy 2.0 at: https://sqlalche.me/e/b8d9)\n"
     ]
    },
    {
     "data": {
      "text/html": [
       "<div>\n",
       "<style scoped>\n",
       "    .dataframe tbody tr th:only-of-type {\n",
       "        vertical-align: middle;\n",
       "    }\n",
       "\n",
       "    .dataframe tbody tr th {\n",
       "        vertical-align: top;\n",
       "    }\n",
       "\n",
       "    .dataframe thead th {\n",
       "        text-align: right;\n",
       "    }\n",
       "</style>\n",
       "<table border=\"1\" class=\"dataframe\">\n",
       "  <thead>\n",
       "    <tr style=\"text-align: right;\">\n",
       "      <th></th>\n",
       "      <th>driver_id</th>\n",
       "      <th>name</th>\n",
       "      <th>date_of_birth</th>\n",
       "      <th>gender</th>\n",
       "      <th>car_model</th>\n",
       "      <th>car_make_year</th>\n",
       "      <th>rating</th>\n",
       "    </tr>\n",
       "  </thead>\n",
       "  <tbody>\n",
       "    <tr>\n",
       "      <th>0</th>\n",
       "      <td>1</td>\n",
       "      <td>Tressa</td>\n",
       "      <td>1/12/1992</td>\n",
       "      <td>Female</td>\n",
       "      <td>Mazda</td>\n",
       "      <td>2011</td>\n",
       "      <td>4.5</td>\n",
       "    </tr>\n",
       "    <tr>\n",
       "      <th>1</th>\n",
       "      <td>2</td>\n",
       "      <td>Virgilio</td>\n",
       "      <td>10/23/1992</td>\n",
       "      <td>Male</td>\n",
       "      <td>Mazda</td>\n",
       "      <td>2004</td>\n",
       "      <td>3.5</td>\n",
       "    </tr>\n",
       "    <tr>\n",
       "      <th>2</th>\n",
       "      <td>3</td>\n",
       "      <td>Bert</td>\n",
       "      <td>8/10/1989</td>\n",
       "      <td>Male</td>\n",
       "      <td>Nissan</td>\n",
       "      <td>2008</td>\n",
       "      <td>4.5</td>\n",
       "    </tr>\n",
       "    <tr>\n",
       "      <th>3</th>\n",
       "      <td>4</td>\n",
       "      <td>Mahmoud</td>\n",
       "      <td>8/14/1981</td>\n",
       "      <td>Male</td>\n",
       "      <td>Toyota</td>\n",
       "      <td>2008</td>\n",
       "      <td>4.5</td>\n",
       "    </tr>\n",
       "    <tr>\n",
       "      <th>4</th>\n",
       "      <td>5</td>\n",
       "      <td>Felecia</td>\n",
       "      <td>7/20/1990</td>\n",
       "      <td>Female</td>\n",
       "      <td>Hyundai</td>\n",
       "      <td>2010</td>\n",
       "      <td>4.5</td>\n",
       "    </tr>\n",
       "  </tbody>\n",
       "</table>\n",
       "</div>"
      ],
      "text/plain": [
       "   driver_id      name date_of_birth  gender car_model car_make_year rating\n",
       "0          1    Tressa     1/12/1992  Female     Mazda          2011    4.5\n",
       "1          2  Virgilio    10/23/1992    Male     Mazda          2004    3.5\n",
       "2          3      Bert     8/10/1989    Male    Nissan          2008    4.5\n",
       "3          4   Mahmoud     8/14/1981    Male    Toyota          2008    4.5\n",
       "4          5   Felecia     7/20/1990  Female   Hyundai          2010    4.5"
      ]
     },
     "metadata": {},
     "output_type": "display_data"
    },
    {
     "name": "stdout",
     "output_type": "stream",
     "text": [
      "Shape: (148, 7)\n",
      "CPU times: total: 0 ns\n",
      "Wall time: 141 ms\n"
     ]
    }
   ],
   "source": [
    "%%time\n",
    "# Retrieve Data\n",
    "connection = engine.connect()\n",
    "cursor = connection.execute('SELECT * FROM dataLake.drivers')\n",
    "drivers_df = dd.from_pandas(pd.DataFrame(data=cursor.fetchall(), columns=cursor.keys()), npartitions=4).compute()\n",
    "\n",
    "display(drivers_df.head())\n",
    "print(f'Shape: {drivers_df.shape}')"
   ]
  },
  {
   "cell_type": "markdown",
   "id": "22bc0db4",
   "metadata": {},
   "source": [
    "### 1.2 Safety Labels Table"
   ]
  },
  {
   "cell_type": "code",
   "execution_count": 4,
   "id": "5e86f34e",
   "metadata": {},
   "outputs": [
    {
     "data": {
      "text/html": [
       "<div>\n",
       "<style scoped>\n",
       "    .dataframe tbody tr th:only-of-type {\n",
       "        vertical-align: middle;\n",
       "    }\n",
       "\n",
       "    .dataframe tbody tr th {\n",
       "        vertical-align: top;\n",
       "    }\n",
       "\n",
       "    .dataframe thead th {\n",
       "        text-align: right;\n",
       "    }\n",
       "</style>\n",
       "<table border=\"1\" class=\"dataframe\">\n",
       "  <thead>\n",
       "    <tr style=\"text-align: right;\">\n",
       "      <th></th>\n",
       "      <th>booking_id</th>\n",
       "      <th>driver_id</th>\n",
       "      <th>label</th>\n",
       "    </tr>\n",
       "  </thead>\n",
       "  <tbody>\n",
       "    <tr>\n",
       "      <th>0</th>\n",
       "      <td>0</td>\n",
       "      <td>48</td>\n",
       "      <td>0</td>\n",
       "    </tr>\n",
       "    <tr>\n",
       "      <th>1</th>\n",
       "      <td>1</td>\n",
       "      <td>74</td>\n",
       "      <td>1</td>\n",
       "    </tr>\n",
       "    <tr>\n",
       "      <th>2</th>\n",
       "      <td>2</td>\n",
       "      <td>40</td>\n",
       "      <td>1</td>\n",
       "    </tr>\n",
       "    <tr>\n",
       "      <th>3</th>\n",
       "      <td>4</td>\n",
       "      <td>112</td>\n",
       "      <td>1</td>\n",
       "    </tr>\n",
       "    <tr>\n",
       "      <th>4</th>\n",
       "      <td>6</td>\n",
       "      <td>68</td>\n",
       "      <td>0</td>\n",
       "    </tr>\n",
       "  </tbody>\n",
       "</table>\n",
       "</div>"
      ],
      "text/plain": [
       "   booking_id  driver_id  label\n",
       "0           0         48      0\n",
       "1           1         74      1\n",
       "2           2         40      1\n",
       "3           4        112      1\n",
       "4           6         68      0"
      ]
     },
     "metadata": {},
     "output_type": "display_data"
    },
    {
     "name": "stdout",
     "output_type": "stream",
     "text": [
      "Shape: (20000, 3)\n",
      "CPU times: total: 46.9 ms\n",
      "Wall time: 63.5 ms\n"
     ]
    }
   ],
   "source": [
    "%%time\n",
    "# Retrieve Data\n",
    "cursor = connection.execute('SELECT * FROM dataLake.safety_labels')\n",
    "safety_labels_df = dd.from_pandas(pd.DataFrame(data=cursor.fetchall(), columns=cursor.keys()), npartitions=4).compute()\n",
    "\n",
    "display(safety_labels_df.head(5))\n",
    "print(f'Shape: {safety_labels_df.shape}')"
   ]
  },
  {
   "cell_type": "markdown",
   "id": "276e9408",
   "metadata": {},
   "source": [
    "### 1.3 Sensor Table"
   ]
  },
  {
   "cell_type": "code",
   "execution_count": 5,
   "id": "39426d56",
   "metadata": {},
   "outputs": [
    {
     "data": {
      "text/html": [
       "<div>\n",
       "<style scoped>\n",
       "    .dataframe tbody tr th:only-of-type {\n",
       "        vertical-align: middle;\n",
       "    }\n",
       "\n",
       "    .dataframe tbody tr th {\n",
       "        vertical-align: top;\n",
       "    }\n",
       "\n",
       "    .dataframe thead th {\n",
       "        text-align: right;\n",
       "    }\n",
       "</style>\n",
       "<table border=\"1\" class=\"dataframe\">\n",
       "  <thead>\n",
       "    <tr style=\"text-align: right;\">\n",
       "      <th></th>\n",
       "      <th>booking_id</th>\n",
       "      <th>accuracy</th>\n",
       "      <th>bearing</th>\n",
       "      <th>acceleration_x</th>\n",
       "      <th>acceleration_y</th>\n",
       "      <th>acceleration_z</th>\n",
       "      <th>gyro_x</th>\n",
       "      <th>gyro_y</th>\n",
       "      <th>gyro_z</th>\n",
       "      <th>second</th>\n",
       "      <th>speed</th>\n",
       "      <th>sensorKey</th>\n",
       "    </tr>\n",
       "  </thead>\n",
       "  <tbody>\n",
       "    <tr>\n",
       "      <th>0</th>\n",
       "      <td>1202590843006</td>\n",
       "      <td>3.000</td>\n",
       "      <td>353.0</td>\n",
       "      <td>1.228867</td>\n",
       "      <td>8.900100</td>\n",
       "      <td>3.986968</td>\n",
       "      <td>0.008221</td>\n",
       "      <td>0.002269</td>\n",
       "      <td>-0.009966</td>\n",
       "      <td>1362.0</td>\n",
       "      <td>0.000000</td>\n",
       "      <td>1</td>\n",
       "    </tr>\n",
       "    <tr>\n",
       "      <th>1</th>\n",
       "      <td>274877907034</td>\n",
       "      <td>9.293</td>\n",
       "      <td>17.0</td>\n",
       "      <td>0.032775</td>\n",
       "      <td>8.659933</td>\n",
       "      <td>4.737300</td>\n",
       "      <td>0.024629</td>\n",
       "      <td>0.004028</td>\n",
       "      <td>-0.010858</td>\n",
       "      <td>257.0</td>\n",
       "      <td>0.190000</td>\n",
       "      <td>2</td>\n",
       "    </tr>\n",
       "    <tr>\n",
       "      <th>2</th>\n",
       "      <td>884763263056</td>\n",
       "      <td>3.000</td>\n",
       "      <td>189.0</td>\n",
       "      <td>1.139675</td>\n",
       "      <td>9.545974</td>\n",
       "      <td>1.951334</td>\n",
       "      <td>-0.006899</td>\n",
       "      <td>-0.015080</td>\n",
       "      <td>0.001122</td>\n",
       "      <td>973.0</td>\n",
       "      <td>0.667059</td>\n",
       "      <td>3</td>\n",
       "    </tr>\n",
       "    <tr>\n",
       "      <th>3</th>\n",
       "      <td>1073741824054</td>\n",
       "      <td>3.900</td>\n",
       "      <td>126.0</td>\n",
       "      <td>3.871542</td>\n",
       "      <td>10.386364</td>\n",
       "      <td>-0.136474</td>\n",
       "      <td>0.001344</td>\n",
       "      <td>-0.339601</td>\n",
       "      <td>-0.017956</td>\n",
       "      <td>902.0</td>\n",
       "      <td>7.913285</td>\n",
       "      <td>4</td>\n",
       "    </tr>\n",
       "    <tr>\n",
       "      <th>4</th>\n",
       "      <td>1056561954943</td>\n",
       "      <td>3.900</td>\n",
       "      <td>50.0</td>\n",
       "      <td>-0.112882</td>\n",
       "      <td>10.550960</td>\n",
       "      <td>-1.560110</td>\n",
       "      <td>0.130568</td>\n",
       "      <td>-0.061697</td>\n",
       "      <td>0.161530</td>\n",
       "      <td>820.0</td>\n",
       "      <td>20.419409</td>\n",
       "      <td>5</td>\n",
       "    </tr>\n",
       "  </tbody>\n",
       "</table>\n",
       "</div>"
      ],
      "text/plain": [
       "      booking_id  accuracy  bearing  acceleration_x  acceleration_y  \\\n",
       "0  1202590843006     3.000    353.0        1.228867        8.900100   \n",
       "1   274877907034     9.293     17.0        0.032775        8.659933   \n",
       "2   884763263056     3.000    189.0        1.139675        9.545974   \n",
       "3  1073741824054     3.900    126.0        3.871542       10.386364   \n",
       "4  1056561954943     3.900     50.0       -0.112882       10.550960   \n",
       "\n",
       "   acceleration_z    gyro_x    gyro_y    gyro_z  second      speed  sensorKey  \n",
       "0        3.986968  0.008221  0.002269 -0.009966  1362.0   0.000000          1  \n",
       "1        4.737300  0.024629  0.004028 -0.010858   257.0   0.190000          2  \n",
       "2        1.951334 -0.006899 -0.015080  0.001122   973.0   0.667059          3  \n",
       "3       -0.136474  0.001344 -0.339601 -0.017956   902.0   7.913285          4  \n",
       "4       -1.560110  0.130568 -0.061697  0.161530   820.0  20.419409          5  "
      ]
     },
     "metadata": {},
     "output_type": "display_data"
    },
    {
     "name": "stdout",
     "output_type": "stream",
     "text": [
      "Shape: (7469656, 12)\n",
      "CPU times: total: 29.9 s\n",
      "Wall time: 44.7 s\n"
     ]
    }
   ],
   "source": [
    "%%time\n",
    "# Retrieve Data\n",
    "cursor = connection.execute('SELECT * FROM dataLake.sensor')\n",
    "sensor_df = dd.from_pandas(pd.DataFrame(data=cursor.fetchall(), columns=cursor.keys()), npartitions=4).compute()\n",
    "connection.close()\n",
    "\n",
    "display(sensor_df.head(5))\n",
    "print(f'Shape: {sensor_df.shape}')\n",
    "#7+ million rows"
   ]
  },
  {
   "cell_type": "markdown",
   "id": "7ddecd62",
   "metadata": {},
   "source": [
    "## Change Datatypes (Save RAM)"
   ]
  },
  {
   "cell_type": "markdown",
   "id": "ca597100",
   "metadata": {},
   "source": [
    "Drivers dataframe only takes up 8.2 KB | That is alright"
   ]
  },
  {
   "cell_type": "code",
   "execution_count": 6,
   "id": "ce404217",
   "metadata": {},
   "outputs": [
    {
     "name": "stdout",
     "output_type": "stream",
     "text": [
      "<class 'pandas.core.frame.DataFrame'>\n",
      "RangeIndex: 148 entries, 0 to 147\n",
      "Data columns (total 7 columns):\n",
      " #   Column         Non-Null Count  Dtype \n",
      "---  ------         --------------  ----- \n",
      " 0   driver_id      148 non-null    int64 \n",
      " 1   name           148 non-null    object\n",
      " 2   date_of_birth  148 non-null    object\n",
      " 3   gender         148 non-null    object\n",
      " 4   car_model      148 non-null    object\n",
      " 5   car_make_year  148 non-null    object\n",
      " 6   rating         148 non-null    object\n",
      "dtypes: int64(1), object(6)\n",
      "memory usage: 8.2+ KB\n"
     ]
    }
   ],
   "source": [
    "drivers_df.info()"
   ]
  },
  {
   "cell_type": "markdown",
   "id": "7253fa7a",
   "metadata": {},
   "source": [
    "Hmm safety labels dataframes take up more memory, but if we turn it to a 32-bit integer we are losing a lot of values"
   ]
  },
  {
   "cell_type": "code",
   "execution_count": 7,
   "id": "f049a39f",
   "metadata": {},
   "outputs": [
    {
     "name": "stdout",
     "output_type": "stream",
     "text": [
      "<class 'pandas.core.frame.DataFrame'>\n",
      "RangeIndex: 20000 entries, 0 to 19999\n",
      "Data columns (total 3 columns):\n",
      " #   Column      Non-Null Count  Dtype\n",
      "---  ------      --------------  -----\n",
      " 0   booking_id  20000 non-null  int64\n",
      " 1   driver_id   20000 non-null  int64\n",
      " 2   label       20000 non-null  int64\n",
      "dtypes: int64(3)\n",
      "memory usage: 468.9 KB\n"
     ]
    }
   ],
   "source": [
    "safety_labels_df.info()"
   ]
  },
  {
   "cell_type": "code",
   "execution_count": 8,
   "id": "5b67375f",
   "metadata": {},
   "outputs": [
    {
     "data": {
      "text/plain": [
       "booking_id    1709396983975\n",
       "driver_id               148\n",
       "label                     1\n",
       "dtype: int64"
      ]
     },
     "execution_count": 8,
     "metadata": {},
     "output_type": "execute_result"
    }
   ],
   "source": [
    "safety_labels_df.astype('int64').max()"
   ]
  },
  {
   "cell_type": "code",
   "execution_count": 9,
   "id": "d6009c90",
   "metadata": {},
   "outputs": [
    {
     "data": {
      "text/plain": [
       "booking_id    204\n",
       "driver_id     148\n",
       "label           1\n",
       "dtype: int32"
      ]
     },
     "execution_count": 9,
     "metadata": {},
     "output_type": "execute_result"
    }
   ],
   "source": [
    "safety_labels_df.astype('int32').max()"
   ]
  },
  {
   "cell_type": "code",
   "execution_count": 10,
   "id": "1d89f764",
   "metadata": {},
   "outputs": [
    {
     "name": "stdout",
     "output_type": "stream",
     "text": [
      "<class 'pandas.core.frame.DataFrame'>\n",
      "RangeIndex: 7469656 entries, 0 to 7469655\n",
      "Data columns (total 12 columns):\n",
      " #   Column          Dtype  \n",
      "---  ------          -----  \n",
      " 0   booking_id      int64  \n",
      " 1   accuracy        float64\n",
      " 2   bearing         float64\n",
      " 3   acceleration_x  float64\n",
      " 4   acceleration_y  float64\n",
      " 5   acceleration_z  float64\n",
      " 6   gyro_x          float64\n",
      " 7   gyro_y          float64\n",
      " 8   gyro_z          float64\n",
      " 9   second          float64\n",
      " 10  speed           float64\n",
      " 11  sensorKey       int64  \n",
      "dtypes: float64(10), int64(2)\n",
      "memory usage: 683.9 MB\n"
     ]
    }
   ],
   "source": [
    "sensor_df.info()"
   ]
  },
  {
   "cell_type": "code",
   "execution_count": 11,
   "id": "cc346324",
   "metadata": {},
   "outputs": [
    {
     "data": {
      "text/html": [
       "<div>\n",
       "<style scoped>\n",
       "    .dataframe tbody tr th:only-of-type {\n",
       "        vertical-align: middle;\n",
       "    }\n",
       "\n",
       "    .dataframe tbody tr th {\n",
       "        vertical-align: top;\n",
       "    }\n",
       "\n",
       "    .dataframe thead th {\n",
       "        text-align: right;\n",
       "    }\n",
       "</style>\n",
       "<table border=\"1\" class=\"dataframe\">\n",
       "  <thead>\n",
       "    <tr style=\"text-align: right;\">\n",
       "      <th></th>\n",
       "      <th>booking_id</th>\n",
       "      <th>accuracy</th>\n",
       "      <th>bearing</th>\n",
       "      <th>acceleration_x</th>\n",
       "      <th>acceleration_y</th>\n",
       "      <th>acceleration_z</th>\n",
       "      <th>gyro_x</th>\n",
       "      <th>gyro_y</th>\n",
       "      <th>gyro_z</th>\n",
       "      <th>second</th>\n",
       "      <th>speed</th>\n",
       "      <th>sensorKey</th>\n",
       "    </tr>\n",
       "  </thead>\n",
       "  <tbody>\n",
       "    <tr>\n",
       "      <th>count</th>\n",
       "      <td>7.469656e+06</td>\n",
       "      <td>7.351631e+06</td>\n",
       "      <td>7.350253e+06</td>\n",
       "      <td>7.364539e+06</td>\n",
       "      <td>7.346553e+06</td>\n",
       "      <td>7.370520e+06</td>\n",
       "      <td>7.336398e+06</td>\n",
       "      <td>7.329944e+06</td>\n",
       "      <td>7.404168e+06</td>\n",
       "      <td>7.469656e+06</td>\n",
       "      <td>7.346079e+06</td>\n",
       "      <td>7.469656e+06</td>\n",
       "    </tr>\n",
       "    <tr>\n",
       "      <th>mean</th>\n",
       "      <td>8.183371e+11</td>\n",
       "      <td>1.162066e+01</td>\n",
       "      <td>1.689699e+02</td>\n",
       "      <td>6.918624e-02</td>\n",
       "      <td>4.467981e+00</td>\n",
       "      <td>8.964518e-01</td>\n",
       "      <td>-1.738806e-03</td>\n",
       "      <td>2.046962e-04</td>\n",
       "      <td>-2.468964e-04</td>\n",
       "      <td>3.669335e+03</td>\n",
       "      <td>9.003918e+00</td>\n",
       "      <td>3.734828e+06</td>\n",
       "    </tr>\n",
       "    <tr>\n",
       "      <th>std</th>\n",
       "      <td>4.953348e+11</td>\n",
       "      <td>8.727007e+01</td>\n",
       "      <td>1.072942e+02</td>\n",
       "      <td>1.424023e+00</td>\n",
       "      <td>8.130443e+00</td>\n",
       "      <td>3.252218e+00</td>\n",
       "      <td>1.445958e-01</td>\n",
       "      <td>3.371285e-01</td>\n",
       "      <td>1.480074e-01</td>\n",
       "      <td>1.378355e+06</td>\n",
       "      <td>8.105558e+00</td>\n",
       "      <td>2.156304e+06</td>\n",
       "    </tr>\n",
       "    <tr>\n",
       "      <th>min</th>\n",
       "      <td>0.000000e+00</td>\n",
       "      <td>7.500000e-01</td>\n",
       "      <td>0.000000e+00</td>\n",
       "      <td>-3.898399e+01</td>\n",
       "      <td>-5.780019e+01</td>\n",
       "      <td>-7.844842e+01</td>\n",
       "      <td>-4.845575e+01</td>\n",
       "      <td>-5.734489e+01</td>\n",
       "      <td>-5.355445e+01</td>\n",
       "      <td>0.000000e+00</td>\n",
       "      <td>-2.000000e+00</td>\n",
       "      <td>1.000000e+00</td>\n",
       "    </tr>\n",
       "    <tr>\n",
       "      <th>25%</th>\n",
       "      <td>3.779571e+11</td>\n",
       "      <td>3.900000e+00</td>\n",
       "      <td>7.800000e+01</td>\n",
       "      <td>-5.087219e-01</td>\n",
       "      <td>-2.026514e+00</td>\n",
       "      <td>-9.295166e-01</td>\n",
       "      <td>-2.679080e-02</td>\n",
       "      <td>-2.996360e-02</td>\n",
       "      <td>-1.872362e-02</td>\n",
       "      <td>2.410000e+02</td>\n",
       "      <td>1.017968e+00</td>\n",
       "      <td>1.867415e+06</td>\n",
       "    </tr>\n",
       "    <tr>\n",
       "      <th>50%</th>\n",
       "      <td>8.074539e+11</td>\n",
       "      <td>4.247000e+00</td>\n",
       "      <td>1.688404e+02</td>\n",
       "      <td>6.130981e-02</td>\n",
       "      <td>9.081485e+00</td>\n",
       "      <td>7.776642e-01</td>\n",
       "      <td>-6.561279e-04</td>\n",
       "      <td>2.583960e-04</td>\n",
       "      <td>-3.051758e-05</td>\n",
       "      <td>5.200000e+02</td>\n",
       "      <td>7.524900e+00</td>\n",
       "      <td>3.734828e+06</td>\n",
       "    </tr>\n",
       "    <tr>\n",
       "      <th>75%</th>\n",
       "      <td>1.254130e+12</td>\n",
       "      <td>8.000000e+00</td>\n",
       "      <td>2.630000e+02</td>\n",
       "      <td>6.355286e-01</td>\n",
       "      <td>9.710308e+00</td>\n",
       "      <td>2.753036e+00</td>\n",
       "      <td>2.329046e-02</td>\n",
       "      <td>3.142024e-02</td>\n",
       "      <td>1.825411e-02</td>\n",
       "      <td>8.620000e+02</td>\n",
       "      <td>1.547718e+01</td>\n",
       "      <td>5.602242e+06</td>\n",
       "    </tr>\n",
       "    <tr>\n",
       "      <th>max</th>\n",
       "      <td>1.709397e+12</td>\n",
       "      <td>6.070101e+03</td>\n",
       "      <td>3.599995e+02</td>\n",
       "      <td>6.687346e+01</td>\n",
       "      <td>7.281000e+01</td>\n",
       "      <td>7.805576e+01</td>\n",
       "      <td>3.870809e+01</td>\n",
       "      <td>8.031496e+01</td>\n",
       "      <td>4.505986e+01</td>\n",
       "      <td>6.193165e+08</td>\n",
       "      <td>8.803725e+01</td>\n",
       "      <td>7.469656e+06</td>\n",
       "    </tr>\n",
       "  </tbody>\n",
       "</table>\n",
       "</div>"
      ],
      "text/plain": [
       "         booking_id      accuracy       bearing  acceleration_x  \\\n",
       "count  7.469656e+06  7.351631e+06  7.350253e+06    7.364539e+06   \n",
       "mean   8.183371e+11  1.162066e+01  1.689699e+02    6.918624e-02   \n",
       "std    4.953348e+11  8.727007e+01  1.072942e+02    1.424023e+00   \n",
       "min    0.000000e+00  7.500000e-01  0.000000e+00   -3.898399e+01   \n",
       "25%    3.779571e+11  3.900000e+00  7.800000e+01   -5.087219e-01   \n",
       "50%    8.074539e+11  4.247000e+00  1.688404e+02    6.130981e-02   \n",
       "75%    1.254130e+12  8.000000e+00  2.630000e+02    6.355286e-01   \n",
       "max    1.709397e+12  6.070101e+03  3.599995e+02    6.687346e+01   \n",
       "\n",
       "       acceleration_y  acceleration_z        gyro_x        gyro_y  \\\n",
       "count    7.346553e+06    7.370520e+06  7.336398e+06  7.329944e+06   \n",
       "mean     4.467981e+00    8.964518e-01 -1.738806e-03  2.046962e-04   \n",
       "std      8.130443e+00    3.252218e+00  1.445958e-01  3.371285e-01   \n",
       "min     -5.780019e+01   -7.844842e+01 -4.845575e+01 -5.734489e+01   \n",
       "25%     -2.026514e+00   -9.295166e-01 -2.679080e-02 -2.996360e-02   \n",
       "50%      9.081485e+00    7.776642e-01 -6.561279e-04  2.583960e-04   \n",
       "75%      9.710308e+00    2.753036e+00  2.329046e-02  3.142024e-02   \n",
       "max      7.281000e+01    7.805576e+01  3.870809e+01  8.031496e+01   \n",
       "\n",
       "             gyro_z        second         speed     sensorKey  \n",
       "count  7.404168e+06  7.469656e+06  7.346079e+06  7.469656e+06  \n",
       "mean  -2.468964e-04  3.669335e+03  9.003918e+00  3.734828e+06  \n",
       "std    1.480074e-01  1.378355e+06  8.105558e+00  2.156304e+06  \n",
       "min   -5.355445e+01  0.000000e+00 -2.000000e+00  1.000000e+00  \n",
       "25%   -1.872362e-02  2.410000e+02  1.017968e+00  1.867415e+06  \n",
       "50%   -3.051758e-05  5.200000e+02  7.524900e+00  3.734828e+06  \n",
       "75%    1.825411e-02  8.620000e+02  1.547718e+01  5.602242e+06  \n",
       "max    4.505986e+01  6.193165e+08  8.803725e+01  7.469656e+06  "
      ]
     },
     "execution_count": 11,
     "metadata": {},
     "output_type": "execute_result"
    }
   ],
   "source": [
    "sensor_df.describe()"
   ]
  },
  {
   "cell_type": "markdown",
   "id": "c8689476",
   "metadata": {},
   "source": [
    "Since we know that booking_id needs to be int64, we will only change the datatype of all the floats to 32 bit"
   ]
  },
  {
   "cell_type": "code",
   "execution_count": 12,
   "id": "450a6eff",
   "metadata": {},
   "outputs": [
    {
     "name": "stdout",
     "output_type": "stream",
     "text": [
      "<class 'pandas.core.frame.DataFrame'>\n",
      "RangeIndex: 7469656 entries, 0 to 7469655\n",
      "Data columns (total 12 columns):\n",
      " #   Column          Dtype  \n",
      "---  ------          -----  \n",
      " 0   booking_id      int64  \n",
      " 1   accuracy        float32\n",
      " 2   bearing         float32\n",
      " 3   acceleration_x  float32\n",
      " 4   acceleration_y  float32\n",
      " 5   acceleration_z  float32\n",
      " 6   gyro_x          float32\n",
      " 7   gyro_y          float32\n",
      " 8   gyro_z          float32\n",
      " 9   second          float32\n",
      " 10  speed           float32\n",
      " 11  sensorKey       int64  \n",
      "dtypes: float32(10), int64(2)\n",
      "memory usage: 398.9 MB\n"
     ]
    }
   ],
   "source": [
    "for col in sensor_df.columns:\n",
    "    if sensor_df[col].dtype == 'float64':\n",
    "        sensor_df[col] = sensor_df[col].astype('float32')\n",
    "sensor_df.info()"
   ]
  },
  {
   "cell_type": "code",
   "execution_count": 13,
   "id": "234e8632",
   "metadata": {},
   "outputs": [
    {
     "data": {
      "text/html": [
       "<div>\n",
       "<style scoped>\n",
       "    .dataframe tbody tr th:only-of-type {\n",
       "        vertical-align: middle;\n",
       "    }\n",
       "\n",
       "    .dataframe tbody tr th {\n",
       "        vertical-align: top;\n",
       "    }\n",
       "\n",
       "    .dataframe thead th {\n",
       "        text-align: right;\n",
       "    }\n",
       "</style>\n",
       "<table border=\"1\" class=\"dataframe\">\n",
       "  <thead>\n",
       "    <tr style=\"text-align: right;\">\n",
       "      <th></th>\n",
       "      <th>booking_id</th>\n",
       "      <th>accuracy</th>\n",
       "      <th>bearing</th>\n",
       "      <th>acceleration_x</th>\n",
       "      <th>acceleration_y</th>\n",
       "      <th>acceleration_z</th>\n",
       "      <th>gyro_x</th>\n",
       "      <th>gyro_y</th>\n",
       "      <th>gyro_z</th>\n",
       "      <th>second</th>\n",
       "      <th>speed</th>\n",
       "      <th>sensorKey</th>\n",
       "    </tr>\n",
       "  </thead>\n",
       "  <tbody>\n",
       "    <tr>\n",
       "      <th>count</th>\n",
       "      <td>7.469656e+06</td>\n",
       "      <td>7.351631e+06</td>\n",
       "      <td>7.350253e+06</td>\n",
       "      <td>7.364539e+06</td>\n",
       "      <td>7.346553e+06</td>\n",
       "      <td>7.370520e+06</td>\n",
       "      <td>7.336398e+06</td>\n",
       "      <td>7.329944e+06</td>\n",
       "      <td>7.404168e+06</td>\n",
       "      <td>7.469656e+06</td>\n",
       "      <td>7.346079e+06</td>\n",
       "      <td>7.469656e+06</td>\n",
       "    </tr>\n",
       "    <tr>\n",
       "      <th>mean</th>\n",
       "      <td>8.183371e+11</td>\n",
       "      <td>1.162065e+01</td>\n",
       "      <td>1.689698e+02</td>\n",
       "      <td>6.918617e-02</td>\n",
       "      <td>4.467984e+00</td>\n",
       "      <td>8.964521e-01</td>\n",
       "      <td>-1.738805e-03</td>\n",
       "      <td>2.046962e-04</td>\n",
       "      <td>-2.468965e-04</td>\n",
       "      <td>3.669337e+03</td>\n",
       "      <td>9.003914e+00</td>\n",
       "      <td>3.734828e+06</td>\n",
       "    </tr>\n",
       "    <tr>\n",
       "      <th>std</th>\n",
       "      <td>4.953348e+11</td>\n",
       "      <td>8.727007e+01</td>\n",
       "      <td>1.072942e+02</td>\n",
       "      <td>1.424023e+00</td>\n",
       "      <td>8.130443e+00</td>\n",
       "      <td>3.252218e+00</td>\n",
       "      <td>1.445958e-01</td>\n",
       "      <td>3.371285e-01</td>\n",
       "      <td>1.480074e-01</td>\n",
       "      <td>1.378356e+06</td>\n",
       "      <td>8.105558e+00</td>\n",
       "      <td>2.156304e+06</td>\n",
       "    </tr>\n",
       "    <tr>\n",
       "      <th>min</th>\n",
       "      <td>0.000000e+00</td>\n",
       "      <td>7.500000e-01</td>\n",
       "      <td>0.000000e+00</td>\n",
       "      <td>-3.898399e+01</td>\n",
       "      <td>-5.780019e+01</td>\n",
       "      <td>-7.844842e+01</td>\n",
       "      <td>-4.845575e+01</td>\n",
       "      <td>-5.734489e+01</td>\n",
       "      <td>-5.355445e+01</td>\n",
       "      <td>0.000000e+00</td>\n",
       "      <td>-2.000000e+00</td>\n",
       "      <td>1.000000e+00</td>\n",
       "    </tr>\n",
       "    <tr>\n",
       "      <th>25%</th>\n",
       "      <td>3.779571e+11</td>\n",
       "      <td>3.900000e+00</td>\n",
       "      <td>7.800000e+01</td>\n",
       "      <td>-5.087219e-01</td>\n",
       "      <td>-2.026514e+00</td>\n",
       "      <td>-9.295166e-01</td>\n",
       "      <td>-2.679080e-02</td>\n",
       "      <td>-2.996360e-02</td>\n",
       "      <td>-1.872362e-02</td>\n",
       "      <td>2.410000e+02</td>\n",
       "      <td>1.017968e+00</td>\n",
       "      <td>1.867415e+06</td>\n",
       "    </tr>\n",
       "    <tr>\n",
       "      <th>50%</th>\n",
       "      <td>8.074539e+11</td>\n",
       "      <td>4.247000e+00</td>\n",
       "      <td>1.688404e+02</td>\n",
       "      <td>6.130981e-02</td>\n",
       "      <td>9.081485e+00</td>\n",
       "      <td>7.776642e-01</td>\n",
       "      <td>-6.561279e-04</td>\n",
       "      <td>2.583960e-04</td>\n",
       "      <td>-3.051758e-05</td>\n",
       "      <td>5.200000e+02</td>\n",
       "      <td>7.524900e+00</td>\n",
       "      <td>3.734828e+06</td>\n",
       "    </tr>\n",
       "    <tr>\n",
       "      <th>75%</th>\n",
       "      <td>1.254130e+12</td>\n",
       "      <td>8.000000e+00</td>\n",
       "      <td>2.630000e+02</td>\n",
       "      <td>6.355286e-01</td>\n",
       "      <td>9.710308e+00</td>\n",
       "      <td>2.753036e+00</td>\n",
       "      <td>2.329046e-02</td>\n",
       "      <td>3.142024e-02</td>\n",
       "      <td>1.825411e-02</td>\n",
       "      <td>8.620000e+02</td>\n",
       "      <td>1.547718e+01</td>\n",
       "      <td>5.602242e+06</td>\n",
       "    </tr>\n",
       "    <tr>\n",
       "      <th>max</th>\n",
       "      <td>1.709397e+12</td>\n",
       "      <td>6.070101e+03</td>\n",
       "      <td>3.599995e+02</td>\n",
       "      <td>6.687346e+01</td>\n",
       "      <td>7.281000e+01</td>\n",
       "      <td>7.805576e+01</td>\n",
       "      <td>3.870809e+01</td>\n",
       "      <td>8.031496e+01</td>\n",
       "      <td>4.505986e+01</td>\n",
       "      <td>6.193165e+08</td>\n",
       "      <td>8.803725e+01</td>\n",
       "      <td>7.469656e+06</td>\n",
       "    </tr>\n",
       "  </tbody>\n",
       "</table>\n",
       "</div>"
      ],
      "text/plain": [
       "         booking_id      accuracy       bearing  acceleration_x  \\\n",
       "count  7.469656e+06  7.351631e+06  7.350253e+06    7.364539e+06   \n",
       "mean   8.183371e+11  1.162065e+01  1.689698e+02    6.918617e-02   \n",
       "std    4.953348e+11  8.727007e+01  1.072942e+02    1.424023e+00   \n",
       "min    0.000000e+00  7.500000e-01  0.000000e+00   -3.898399e+01   \n",
       "25%    3.779571e+11  3.900000e+00  7.800000e+01   -5.087219e-01   \n",
       "50%    8.074539e+11  4.247000e+00  1.688404e+02    6.130981e-02   \n",
       "75%    1.254130e+12  8.000000e+00  2.630000e+02    6.355286e-01   \n",
       "max    1.709397e+12  6.070101e+03  3.599995e+02    6.687346e+01   \n",
       "\n",
       "       acceleration_y  acceleration_z        gyro_x        gyro_y  \\\n",
       "count    7.346553e+06    7.370520e+06  7.336398e+06  7.329944e+06   \n",
       "mean     4.467984e+00    8.964521e-01 -1.738805e-03  2.046962e-04   \n",
       "std      8.130443e+00    3.252218e+00  1.445958e-01  3.371285e-01   \n",
       "min     -5.780019e+01   -7.844842e+01 -4.845575e+01 -5.734489e+01   \n",
       "25%     -2.026514e+00   -9.295166e-01 -2.679080e-02 -2.996360e-02   \n",
       "50%      9.081485e+00    7.776642e-01 -6.561279e-04  2.583960e-04   \n",
       "75%      9.710308e+00    2.753036e+00  2.329046e-02  3.142024e-02   \n",
       "max      7.281000e+01    7.805576e+01  3.870809e+01  8.031496e+01   \n",
       "\n",
       "             gyro_z        second         speed     sensorKey  \n",
       "count  7.404168e+06  7.469656e+06  7.346079e+06  7.469656e+06  \n",
       "mean  -2.468965e-04  3.669337e+03  9.003914e+00  3.734828e+06  \n",
       "std    1.480074e-01  1.378356e+06  8.105558e+00  2.156304e+06  \n",
       "min   -5.355445e+01  0.000000e+00 -2.000000e+00  1.000000e+00  \n",
       "25%   -1.872362e-02  2.410000e+02  1.017968e+00  1.867415e+06  \n",
       "50%   -3.051758e-05  5.200000e+02  7.524900e+00  3.734828e+06  \n",
       "75%    1.825411e-02  8.620000e+02  1.547718e+01  5.602242e+06  \n",
       "max    4.505986e+01  6.193165e+08  8.803725e+01  7.469656e+06  "
      ]
     },
     "execution_count": 13,
     "metadata": {},
     "output_type": "execute_result"
    }
   ],
   "source": [
    "sensor_df.describe()"
   ]
  },
  {
   "cell_type": "markdown",
   "id": "14354029",
   "metadata": {},
   "source": [
    "min, max & mean did not change much after we change datatypes from float64 to float32. Seems like float32 can be use!<br>\n",
    "we managed cut down the memory size by half"
   ]
  },
  {
   "cell_type": "markdown",
   "id": "5ca1f438",
   "metadata": {},
   "source": [
    "# 2. Handling Missing Values <a id=\"2\"></a>\n",
    "\n",
    "<br>\n",
    "\n",
    "- [Back to content table](#content-table)"
   ]
  },
  {
   "cell_type": "code",
   "execution_count": 14,
   "id": "cb380c75",
   "metadata": {},
   "outputs": [
    {
     "data": {
      "text/plain": [
       "booking_id             0\n",
       "accuracy          118025\n",
       "bearing           119403\n",
       "acceleration_x    105117\n",
       "acceleration_y    123103\n",
       "acceleration_z     99136\n",
       "gyro_x            133258\n",
       "gyro_y            139712\n",
       "gyro_z             65488\n",
       "second                 0\n",
       "speed             123577\n",
       "sensorKey              0\n",
       "dtype: int64"
      ]
     },
     "metadata": {},
     "output_type": "display_data"
    }
   ],
   "source": [
    "display(sensor_df.isna().sum())"
   ]
  },
  {
   "cell_type": "markdown",
   "id": "a400e9b3",
   "metadata": {},
   "source": [
    "### 2.1 Drop sensorKey & NaN in Accuracy\n",
    "- It does not make sense to impute accuracy"
   ]
  },
  {
   "cell_type": "code",
   "execution_count": 15,
   "id": "9f657c69",
   "metadata": {},
   "outputs": [],
   "source": [
    "sensor_df.dropna(subset=['accuracy'], inplace=True)\n",
    "sensor_df.drop(columns=['sensorKey'], inplace=True)"
   ]
  },
  {
   "cell_type": "code",
   "execution_count": 16,
   "id": "8d8f16b4",
   "metadata": {},
   "outputs": [
    {
     "data": {
      "text/plain": [
       "0"
      ]
     },
     "metadata": {},
     "output_type": "display_data"
    }
   ],
   "source": [
    "display(sensor_df['accuracy'].isna().sum())"
   ]
  },
  {
   "cell_type": "markdown",
   "id": "c5ec1290",
   "metadata": {},
   "source": [
    "### Impute Null Values"
   ]
  },
  {
   "cell_type": "code",
   "execution_count": 17,
   "id": "bd1c96a4",
   "metadata": {},
   "outputs": [
    {
     "data": {
      "text/plain": [
       "accuracy          0\n",
       "bearing           0\n",
       "acceleration_x    0\n",
       "acceleration_y    0\n",
       "acceleration_z    0\n",
       "gyro_x            0\n",
       "gyro_y            0\n",
       "gyro_z            0\n",
       "second            0\n",
       "speed             0\n",
       "booking_id        0\n",
       "dtype: int64"
      ]
     },
     "metadata": {},
     "output_type": "display_data"
    }
   ],
   "source": [
    "# Impute null values\n",
    "sensor_df.reset_index(drop=True, inplace=True)\n",
    "\n",
    "# Iterative imputer used to impute null values (With Dask linear model)\n",
    "imp_mean = IterativeImputer(\n",
    "   estimator=dask_ml.linear_model.LinearRegression(n_jobs=6),\n",
    "   random_state=1\n",
    ")\n",
    "\n",
    "# Passing all columns except 'booking_id'\n",
    "sensor_df_cols = list(sensor_df.columns[1:])\n",
    "num_df = sensor_df[sensor_df_cols]\n",
    "\n",
    "# Imputing null values\n",
    "sensor_list = imp_mean.fit_transform(num_df)\n",
    "newSensor_df = pd.DataFrame(sensor_list, columns=sensor_df_cols)\n",
    "newSensor_df['booking_id'] = sensor_df['booking_id'].copy()\n",
    "\n",
    "display(newSensor_df.isna().sum())\n",
    "del sensor_df"
   ]
  },
  {
   "cell_type": "markdown",
   "id": "98585bc9",
   "metadata": {},
   "source": [
    "### Correlation Plot \n",
    "- Check if any columns are highly correlated...seems fine"
   ]
  },
  {
   "cell_type": "code",
   "execution_count": 18,
   "id": "d5fdf56a",
   "metadata": {},
   "outputs": [],
   "source": [
    "def plotCorrelation(data, title, annot=True):\n",
    "    # Compute the correlation matrix\n",
    "    corr = data.corr()\n",
    "    \n",
    "    # Generate a mask for the upper triangle\n",
    "    mask = np.zeros_like(corr, dtype=bool)\n",
    "    mask[np.triu_indices_from(mask)] = True\n",
    "    \n",
    "    # Set up the matplotlib figure\n",
    "    f, ax = plt.subplots(figsize=(11, 9))\n",
    "    \n",
    "    # Generate a custom diverging colormap\n",
    "    cmap = sns.diverging_palette(220, 10, as_cmap=True)\n",
    "    \n",
    "    # Draw the heatmap with the mask and correct aspect ratio\n",
    "    sns.heatmap(corr, mask=mask, cmap=cmap, vmax=.3, center=0, annot=annot,\n",
    "                annot_kws={\"size\": 10},fmt=\".2f\", square=True, linewidths=.5, cbar_kws={\"shrink\": .5})\n",
    "    \n",
    "    plt.title(title)\n",
    "    plt.show()"
   ]
  },
  {
   "cell_type": "code",
   "execution_count": 19,
   "id": "50f2d152",
   "metadata": {},
   "outputs": [
    {
     "data": {
      "image/png": "[encoded data removed]",
      "text/plain": [
       "<Figure size 1100x900 with 2 Axes>"
      ]
     },
     "metadata": {},
     "output_type": "display_data"
    }
   ],
   "source": [
    "plotCorrelation(newSensor_df.drop(['booking_id'], axis=1), 'Sensor Data Correlation Heatmap')"
   ]
  },
  {
   "cell_type": "markdown",
   "id": "a284c0df",
   "metadata": {},
   "source": [
    "# 3. Outlier Analysis <a id=\"3\"></a>\n",
    "### Univariate Outlier Detection:\n",
    "- Domain knownledge applied to remove outliers the 7.4 million data\n",
    "- Using multivariant outlier to remove outliers from the 7.4 million records would take hours\n",
    "- Later multivariable outlier detection will be used (After aggregation)\n",
    "\n",
    "### Multivariate Outlier Detection:\n",
    "- Isolation Forest will be used for multivariate outlier detection\n",
    "\n",
    "<br>\n",
    "\n",
    "- [Back to content table](#content-table)"
   ]
  },
  {
   "cell_type": "markdown",
   "id": "933ff886",
   "metadata": {},
   "source": [
    "### Univariate Outlier Detection"
   ]
  },
  {
   "cell_type": "code",
   "execution_count": 20,
   "id": "768082db",
   "metadata": {},
   "outputs": [],
   "source": [
    "# Save a copy of original dataframe\n",
    "import copy\n",
    "og_sensor = copy.deepcopy(newSensor_df)"
   ]
  },
  {
   "cell_type": "code",
   "execution_count": 21,
   "id": "1b38d1ec",
   "metadata": {},
   "outputs": [],
   "source": [
    "def returnOutliers(df,columnName,magnitude=1.5):\n",
    "    IQR = df[columnName].quantile(0.75) - df[columnName].quantile(0.25)\n",
    "    lowerFence = df[columnName].quantile(0.25) - (IQR * magnitude)\n",
    "    upperFence = df[columnName].quantile(0.75) + (IQR * magnitude)\n",
    "    outlier_df = df[columnName][(df[columnName]<=lowerFence) | (df[columnName]>=upperFence)]\n",
    "    print('Number of outliers Dropped: ',len(outlier_df))\n",
    "    return outlier_df\n",
    "\n",
    "def returnUpper(df,columnName,magnitude=3):\n",
    "    IQR = df[columnName].quantile(0.75) - df[columnName].quantile(0.25)\n",
    "    upperFence = df[columnName].quantile(0.75) + (IQR * magnitude)\n",
    "    outlier_df = df[columnName][(df[columnName]>=upperFence)]\n",
    "    print('Number of outliers Dropped: ',len(outlier_df))\n",
    "    return outlier_df"
   ]
  },
  {
   "cell_type": "code",
   "execution_count": 22,
   "id": "5b5e3571",
   "metadata": {},
   "outputs": [
    {
     "data": {
      "text/plain": [
       "accuracy           0.750000\n",
       "bearing           -1.296322\n",
       "acceleration_x   -38.983994\n",
       "acceleration_y   -57.800190\n",
       "acceleration_z   -78.448418\n",
       "gyro_x           -48.455750\n",
       "gyro_y           -57.344891\n",
       "gyro_z           -37.465385\n",
       "second             0.000000\n",
       "speed            -29.132727\n",
       "booking_id         0.000000\n",
       "dtype: float64"
      ]
     },
     "metadata": {},
     "output_type": "display_data"
    },
    {
     "data": {
      "text/plain": [
       "accuracy          6.070101e+03\n",
       "bearing           3.599995e+02\n",
       "acceleration_x    6.687346e+01\n",
       "acceleration_y    7.281000e+01\n",
       "acceleration_z    7.805576e+01\n",
       "gyro_x            3.870809e+01\n",
       "gyro_y            8.031496e+01\n",
       "gyro_z            4.505986e+01\n",
       "second            6.193165e+08\n",
       "speed             8.803725e+01\n",
       "booking_id        1.709397e+12\n",
       "dtype: float64"
      ]
     },
     "metadata": {},
     "output_type": "display_data"
    }
   ],
   "source": [
    "display(newSensor_df.min())\n",
    "display(newSensor_df.max())"
   ]
  },
  {
   "cell_type": "markdown",
   "id": "fdfd5135",
   "metadata": {},
   "source": [
    "Bearing and Speed minimum should be 0 and max is 360 (domain knownledge better)"
   ]
  },
  {
   "cell_type": "code",
   "execution_count": 23,
   "id": "5a128687",
   "metadata": {},
   "outputs": [],
   "source": [
    "newSensor_df['bearing'] = newSensor_df['bearing'].clip(lower=0)\n",
    "newSensor_df['speed'] = newSensor_df['speed'].clip(lower=0)"
   ]
  },
  {
   "cell_type": "markdown",
   "id": "47102a36",
   "metadata": {},
   "source": [
    "Using the IQR fence, we will drop the outliers where it is 7 IQR from lower/upper quartile (Standard is 1.5 or 1.7)"
   ]
  },
  {
   "cell_type": "code",
   "execution_count": 24,
   "id": "2e43ebf9",
   "metadata": {},
   "outputs": [],
   "source": [
    "def outlierAnalysis(df=newSensor_df, column=None, magnitude=1.5, upperOnly = False):\n",
    "    if not upperOnly:\n",
    "        outliers = returnOutliers(df,column, magnitude)\n",
    "    else:\n",
    "        outliers = returnUpper(df,column, magnitude)\n",
    "    print(f'Outlier Minimum For {column}: {outliers.min()}')\n",
    "    print(f'Outlier Maximum For {column}: {outliers.max()}')\n",
    "    print(f'Outlier Mean {outliers.mean()}')\n",
    "    \n",
    "    return outliers.index"
   ]
  },
  {
   "cell_type": "markdown",
   "id": "1e7006e7",
   "metadata": {},
   "source": [
    "Using magnitude 7 IQR for upper and lower fence for gyro"
   ]
  },
  {
   "cell_type": "code",
   "execution_count": 25,
   "id": "a20461ef",
   "metadata": {},
   "outputs": [
    {
     "name": "stdout",
     "output_type": "stream",
     "text": [
      "Number of outliers Dropped:  45194\n",
      "Outlier Minimum For gyro_x: -48.45574951171875\n",
      "Outlier Maximum For gyro_x: 38.70808792114258\n",
      "Outlier Mean -0.005732840392738581\n",
      "Number of outliers Dropped:  37997\n",
      "Outlier Minimum For gyro_y: -27.12116813659668\n",
      "Outlier Maximum For gyro_y: 52.2602424621582\n",
      "Outlier Mean -0.0768883153796196\n",
      "Number of outliers Dropped:  25995\n",
      "Outlier Minimum For gyro_z: -12.614401817321777\n",
      "Outlier Maximum For gyro_z: 9.951005935668945\n",
      "Outlier Mean -0.002035723999142647\n"
     ]
    }
   ],
   "source": [
    "newSensor_df.drop(outlierAnalysis(newSensor_df,'gyro_x',magnitude=12), inplace=True)\n",
    "newSensor_df.drop(outlierAnalysis(newSensor_df,'gyro_y',magnitude=12), inplace=True)\n",
    "newSensor_df.drop(outlierAnalysis(newSensor_df,'gyro_z',magnitude=12), inplace=True)"
   ]
  },
  {
   "cell_type": "markdown",
   "id": "9ccafafc",
   "metadata": {},
   "source": [
    "Using magnitude 3.4 IQR for upper and lower fence for acceleration"
   ]
  },
  {
   "cell_type": "code",
   "execution_count": 26,
   "id": "6a76a8ec",
   "metadata": {},
   "outputs": [
    {
     "name": "stdout",
     "output_type": "stream",
     "text": [
      "Number of outliers Dropped:  152\n",
      "Outlier Minimum For acceleration_x: -33.44083786010742\n",
      "Outlier Maximum For acceleration_x: 29.616470336914062\n",
      "Outlier Mean -1.6980048418045044\n",
      "Number of outliers Dropped:  0\n",
      "Outlier Minimum For acceleration_y: nan\n",
      "Outlier Maximum For acceleration_y: nan\n",
      "Outlier Mean nan\n",
      "Number of outliers Dropped:  12\n",
      "Outlier Minimum For acceleration_z: -58.72074508666992\n",
      "Outlier Maximum For acceleration_z: 78.05575561523438\n",
      "Outlier Mean 21.18684959411621\n"
     ]
    }
   ],
   "source": [
    "newSensor_df.drop(outlierAnalysis(newSensor_df,'acceleration_x',magnitude=12), inplace=True)\n",
    "newSensor_df.drop(outlierAnalysis(newSensor_df,'acceleration_y',magnitude=12), inplace=True)\n",
    "newSensor_df.drop(outlierAnalysis(newSensor_df,'acceleration_z',magnitude=12), inplace=True)"
   ]
  },
  {
   "cell_type": "markdown",
   "id": "a6555fe7",
   "metadata": {},
   "source": [
    "Speed where car is moving faster than 36.89m/s is dropped (36.89m/s is about 130+ km/h)"
   ]
  },
  {
   "cell_type": "code",
   "execution_count": 27,
   "id": "0ecd4d76",
   "metadata": {},
   "outputs": [
    {
     "name": "stdout",
     "output_type": "stream",
     "text": [
      "Number of outliers Dropped:  85\n",
      "Outlier Minimum For speed: 36.739803314208984\n",
      "Outlier Maximum For speed: 88.0372543334961\n",
      "Outlier Mean 39.30602264404297\n"
     ]
    }
   ],
   "source": [
    "newSensor_df.drop(outlierAnalysis(newSensor_df,'speed',magnitude=1.5,upperOnly = True), inplace=True)"
   ]
  },
  {
   "cell_type": "code",
   "execution_count": 28,
   "id": "8bb656e5",
   "metadata": {},
   "outputs": [
    {
     "name": "stdout",
     "output_type": "stream",
     "text": [
      "Number of outliers Dropped:  34\n",
      "Outlier Minimum For second: 619315328.0\n",
      "Outlier Maximum For second: 619316544.0\n",
      "Outlier Mean 619315712.0\n"
     ]
    }
   ],
   "source": [
    "newSensor_df.drop(outlierAnalysis(newSensor_df,'second',magnitude=12,upperOnly = True), inplace=True)"
   ]
  },
  {
   "cell_type": "markdown",
   "id": "557afd75",
   "metadata": {},
   "source": [
    "Lets see min, max and mean of original vs univariate outlier removed\n",
    "- Seems like extreme values are removed, min and max seems more 'normal'"
   ]
  },
  {
   "cell_type": "code",
   "execution_count": 29,
   "id": "b286478b",
   "metadata": {},
   "outputs": [
    {
     "data": {
      "text/html": [
       "<div>\n",
       "<style scoped>\n",
       "    .dataframe tbody tr th:only-of-type {\n",
       "        vertical-align: middle;\n",
       "    }\n",
       "\n",
       "    .dataframe tbody tr th {\n",
       "        vertical-align: top;\n",
       "    }\n",
       "\n",
       "    .dataframe thead th {\n",
       "        text-align: right;\n",
       "    }\n",
       "</style>\n",
       "<table border=\"1\" class=\"dataframe\">\n",
       "  <thead>\n",
       "    <tr style=\"text-align: right;\">\n",
       "      <th></th>\n",
       "      <th>accuracy</th>\n",
       "      <th>bearing</th>\n",
       "      <th>acceleration_x</th>\n",
       "      <th>acceleration_y</th>\n",
       "      <th>acceleration_z</th>\n",
       "      <th>gyro_x</th>\n",
       "      <th>gyro_y</th>\n",
       "      <th>gyro_z</th>\n",
       "      <th>second</th>\n",
       "      <th>speed</th>\n",
       "      <th>booking_id</th>\n",
       "    </tr>\n",
       "  </thead>\n",
       "  <tbody>\n",
       "    <tr>\n",
       "      <th>count</th>\n",
       "      <td>7.351631e+06</td>\n",
       "      <td>7.351631e+06</td>\n",
       "      <td>7.351631e+06</td>\n",
       "      <td>7.351631e+06</td>\n",
       "      <td>7.351631e+06</td>\n",
       "      <td>7.351631e+06</td>\n",
       "      <td>7.351631e+06</td>\n",
       "      <td>7.351631e+06</td>\n",
       "      <td>7.351631e+06</td>\n",
       "      <td>7.351631e+06</td>\n",
       "      <td>7.351631e+06</td>\n",
       "    </tr>\n",
       "    <tr>\n",
       "      <th>mean</th>\n",
       "      <td>1.162066e+01</td>\n",
       "      <td>1.689563e+02</td>\n",
       "      <td>6.918514e-02</td>\n",
       "      <td>4.467709e+00</td>\n",
       "      <td>8.962134e-01</td>\n",
       "      <td>-1.733407e-03</td>\n",
       "      <td>1.789847e-04</td>\n",
       "      <td>-2.510934e-04</td>\n",
       "      <td>3.550076e+03</td>\n",
       "      <td>9.002687e+00</td>\n",
       "      <td>8.183458e+11</td>\n",
       "    </tr>\n",
       "    <tr>\n",
       "      <th>std</th>\n",
       "      <td>8.727007e+01</td>\n",
       "      <td>1.064551e+02</td>\n",
       "      <td>1.413816e+00</td>\n",
       "      <td>8.071938e+00</td>\n",
       "      <td>3.233408e+00</td>\n",
       "      <td>1.431632e-01</td>\n",
       "      <td>3.339006e-01</td>\n",
       "      <td>1.458490e-01</td>\n",
       "      <td>1.351304e+06</td>\n",
       "      <td>8.039881e+00</td>\n",
       "      <td>4.953331e+11</td>\n",
       "    </tr>\n",
       "    <tr>\n",
       "      <th>min</th>\n",
       "      <td>7.500000e-01</td>\n",
       "      <td>-1.296322e+00</td>\n",
       "      <td>-3.898399e+01</td>\n",
       "      <td>-5.780019e+01</td>\n",
       "      <td>-7.844842e+01</td>\n",
       "      <td>-4.845575e+01</td>\n",
       "      <td>-5.734489e+01</td>\n",
       "      <td>-3.746539e+01</td>\n",
       "      <td>0.000000e+00</td>\n",
       "      <td>-2.913273e+01</td>\n",
       "      <td>0.000000e+00</td>\n",
       "    </tr>\n",
       "    <tr>\n",
       "      <th>25%</th>\n",
       "      <td>3.900000e+00</td>\n",
       "      <td>7.900000e+01</td>\n",
       "      <td>-4.980091e-01</td>\n",
       "      <td>-9.648633e-01</td>\n",
       "      <td>-9.241901e-01</td>\n",
       "      <td>-2.590942e-02</td>\n",
       "      <td>-2.929160e-02</td>\n",
       "      <td>-1.841816e-02</td>\n",
       "      <td>2.410000e+02</td>\n",
       "      <td>1.110000e+00</td>\n",
       "      <td>3.779571e+11</td>\n",
       "    </tr>\n",
       "    <tr>\n",
       "      <th>50%</th>\n",
       "      <td>4.247000e+00</td>\n",
       "      <td>1.680000e+02</td>\n",
       "      <td>6.700134e-02</td>\n",
       "      <td>9.052753e+00</td>\n",
       "      <td>7.972935e-01</td>\n",
       "      <td>-6.750061e-04</td>\n",
       "      <td>2.425135e-04</td>\n",
       "      <td>-3.490658e-05</td>\n",
       "      <td>5.200000e+02</td>\n",
       "      <td>7.720000e+00</td>\n",
       "      <td>8.074539e+11</td>\n",
       "    </tr>\n",
       "    <tr>\n",
       "      <th>75%</th>\n",
       "      <td>8.000000e+00</td>\n",
       "      <td>2.610000e+02</td>\n",
       "      <td>6.249057e-01</td>\n",
       "      <td>9.703699e+00</td>\n",
       "      <td>2.719000e+00</td>\n",
       "      <td>2.247862e-02</td>\n",
       "      <td>3.066524e-02</td>\n",
       "      <td>1.802063e-02</td>\n",
       "      <td>8.620000e+02</td>\n",
       "      <td>1.533112e+01</td>\n",
       "      <td>1.254130e+12</td>\n",
       "    </tr>\n",
       "    <tr>\n",
       "      <th>max</th>\n",
       "      <td>6.070101e+03</td>\n",
       "      <td>3.599995e+02</td>\n",
       "      <td>6.687346e+01</td>\n",
       "      <td>7.281000e+01</td>\n",
       "      <td>7.805576e+01</td>\n",
       "      <td>3.870809e+01</td>\n",
       "      <td>8.031496e+01</td>\n",
       "      <td>4.505986e+01</td>\n",
       "      <td>6.193165e+08</td>\n",
       "      <td>8.803725e+01</td>\n",
       "      <td>1.709397e+12</td>\n",
       "    </tr>\n",
       "  </tbody>\n",
       "</table>\n",
       "</div>"
      ],
      "text/plain": [
       "           accuracy       bearing  acceleration_x  acceleration_y  \\\n",
       "count  7.351631e+06  7.351631e+06    7.351631e+06    7.351631e+06   \n",
       "mean   1.162066e+01  1.689563e+02    6.918514e-02    4.467709e+00   \n",
       "std    8.727007e+01  1.064551e+02    1.413816e+00    8.071938e+00   \n",
       "min    7.500000e-01 -1.296322e+00   -3.898399e+01   -5.780019e+01   \n",
       "25%    3.900000e+00  7.900000e+01   -4.980091e-01   -9.648633e-01   \n",
       "50%    4.247000e+00  1.680000e+02    6.700134e-02    9.052753e+00   \n",
       "75%    8.000000e+00  2.610000e+02    6.249057e-01    9.703699e+00   \n",
       "max    6.070101e+03  3.599995e+02    6.687346e+01    7.281000e+01   \n",
       "\n",
       "       acceleration_z        gyro_x        gyro_y        gyro_z        second  \\\n",
       "count    7.351631e+06  7.351631e+06  7.351631e+06  7.351631e+06  7.351631e+06   \n",
       "mean     8.962134e-01 -1.733407e-03  1.789847e-04 -2.510934e-04  3.550076e+03   \n",
       "std      3.233408e+00  1.431632e-01  3.339006e-01  1.458490e-01  1.351304e+06   \n",
       "min     -7.844842e+01 -4.845575e+01 -5.734489e+01 -3.746539e+01  0.000000e+00   \n",
       "25%     -9.241901e-01 -2.590942e-02 -2.929160e-02 -1.841816e-02  2.410000e+02   \n",
       "50%      7.972935e-01 -6.750061e-04  2.425135e-04 -3.490658e-05  5.200000e+02   \n",
       "75%      2.719000e+00  2.247862e-02  3.066524e-02  1.802063e-02  8.620000e+02   \n",
       "max      7.805576e+01  3.870809e+01  8.031496e+01  4.505986e+01  6.193165e+08   \n",
       "\n",
       "              speed    booking_id  \n",
       "count  7.351631e+06  7.351631e+06  \n",
       "mean   9.002687e+00  8.183458e+11  \n",
       "std    8.039881e+00  4.953331e+11  \n",
       "min   -2.913273e+01  0.000000e+00  \n",
       "25%    1.110000e+00  3.779571e+11  \n",
       "50%    7.720000e+00  8.074539e+11  \n",
       "75%    1.533112e+01  1.254130e+12  \n",
       "max    8.803725e+01  1.709397e+12  "
      ]
     },
     "execution_count": 29,
     "metadata": {},
     "output_type": "execute_result"
    }
   ],
   "source": [
    "# Original dataset, with outliers\n",
    "og_sensor.describe()"
   ]
  },
  {
   "cell_type": "code",
   "execution_count": 30,
   "id": "c9c80ec5",
   "metadata": {},
   "outputs": [
    {
     "data": {
      "text/html": [
       "<div>\n",
       "<style scoped>\n",
       "    .dataframe tbody tr th:only-of-type {\n",
       "        vertical-align: middle;\n",
       "    }\n",
       "\n",
       "    .dataframe tbody tr th {\n",
       "        vertical-align: top;\n",
       "    }\n",
       "\n",
       "    .dataframe thead th {\n",
       "        text-align: right;\n",
       "    }\n",
       "</style>\n",
       "<table border=\"1\" class=\"dataframe\">\n",
       "  <thead>\n",
       "    <tr style=\"text-align: right;\">\n",
       "      <th></th>\n",
       "      <th>accuracy</th>\n",
       "      <th>bearing</th>\n",
       "      <th>acceleration_x</th>\n",
       "      <th>acceleration_y</th>\n",
       "      <th>acceleration_z</th>\n",
       "      <th>gyro_x</th>\n",
       "      <th>gyro_y</th>\n",
       "      <th>gyro_z</th>\n",
       "      <th>second</th>\n",
       "      <th>speed</th>\n",
       "      <th>booking_id</th>\n",
       "    </tr>\n",
       "  </thead>\n",
       "  <tbody>\n",
       "    <tr>\n",
       "      <th>count</th>\n",
       "      <td>7.242162e+06</td>\n",
       "      <td>7.242162e+06</td>\n",
       "      <td>7.242162e+06</td>\n",
       "      <td>7.242162e+06</td>\n",
       "      <td>7.242162e+06</td>\n",
       "      <td>7.242162e+06</td>\n",
       "      <td>7.242162e+06</td>\n",
       "      <td>7.242162e+06</td>\n",
       "      <td>7.242162e+06</td>\n",
       "      <td>7.242162e+06</td>\n",
       "      <td>7.242162e+06</td>\n",
       "    </tr>\n",
       "    <tr>\n",
       "      <th>mean</th>\n",
       "      <td>1.146137e+01</td>\n",
       "      <td>1.689952e+02</td>\n",
       "      <td>6.934907e-02</td>\n",
       "      <td>4.462358e+00</td>\n",
       "      <td>8.876828e-01</td>\n",
       "      <td>-1.634468e-03</td>\n",
       "      <td>2.974791e-05</td>\n",
       "      <td>-4.095973e-04</td>\n",
       "      <td>6.010095e+02</td>\n",
       "      <td>9.044140e+00</td>\n",
       "      <td>8.180595e+11</td>\n",
       "    </tr>\n",
       "    <tr>\n",
       "      <th>std</th>\n",
       "      <td>8.638815e+01</td>\n",
       "      <td>1.064558e+02</td>\n",
       "      <td>1.352000e+00</td>\n",
       "      <td>8.064168e+00</td>\n",
       "      <td>3.158647e+00</td>\n",
       "      <td>8.627993e-02</td>\n",
       "      <td>1.088907e-01</td>\n",
       "      <td>6.070606e-02</td>\n",
       "      <td>4.606105e+02</td>\n",
       "      <td>8.027208e+00</td>\n",
       "      <td>4.953589e+11</td>\n",
       "    </tr>\n",
       "    <tr>\n",
       "      <th>min</th>\n",
       "      <td>7.500000e-01</td>\n",
       "      <td>0.000000e+00</td>\n",
       "      <td>-1.384849e+01</td>\n",
       "      <td>-4.527352e+01</td>\n",
       "      <td>-4.237196e+01</td>\n",
       "      <td>-6.065414e-01</td>\n",
       "      <td>-7.400274e-01</td>\n",
       "      <td>-4.475901e-01</td>\n",
       "      <td>0.000000e+00</td>\n",
       "      <td>0.000000e+00</td>\n",
       "      <td>0.000000e+00</td>\n",
       "    </tr>\n",
       "    <tr>\n",
       "      <th>25%</th>\n",
       "      <td>3.900000e+00</td>\n",
       "      <td>7.900000e+01</td>\n",
       "      <td>-4.932206e-01</td>\n",
       "      <td>-9.976921e-01</td>\n",
       "      <td>-9.194015e-01</td>\n",
       "      <td>-2.535060e-02</td>\n",
       "      <td>-2.842552e-02</td>\n",
       "      <td>-1.806641e-02</td>\n",
       "      <td>2.420000e+02</td>\n",
       "      <td>1.128062e+00</td>\n",
       "      <td>3.779571e+11</td>\n",
       "    </tr>\n",
       "    <tr>\n",
       "      <th>50%</th>\n",
       "      <td>4.206000e+00</td>\n",
       "      <td>1.680663e+02</td>\n",
       "      <td>6.700000e-02</td>\n",
       "      <td>9.062330e+00</td>\n",
       "      <td>7.925050e-01</td>\n",
       "      <td>-6.682866e-04</td>\n",
       "      <td>2.441406e-04</td>\n",
       "      <td>-3.665191e-05</td>\n",
       "      <td>5.190000e+02</td>\n",
       "      <td>7.765673e+00</td>\n",
       "      <td>8.074539e+11</td>\n",
       "    </tr>\n",
       "    <tr>\n",
       "      <th>75%</th>\n",
       "      <td>8.000000e+00</td>\n",
       "      <td>2.610000e+02</td>\n",
       "      <td>6.200982e-01</td>\n",
       "      <td>9.704897e+00</td>\n",
       "      <td>2.698348e+00</td>\n",
       "      <td>2.197907e-02</td>\n",
       "      <td>2.983588e-02</td>\n",
       "      <td>1.753183e-02</td>\n",
       "      <td>8.610000e+02</td>\n",
       "      <td>1.537000e+01</td>\n",
       "      <td>1.254130e+12</td>\n",
       "    </tr>\n",
       "    <tr>\n",
       "      <th>max</th>\n",
       "      <td>6.070101e+03</td>\n",
       "      <td>3.599995e+02</td>\n",
       "      <td>1.392750e+01</td>\n",
       "      <td>4.909026e+01</td>\n",
       "      <td>4.581544e+01</td>\n",
       "      <td>6.031227e-01</td>\n",
       "      <td>7.414414e-01</td>\n",
       "      <td>4.470843e-01</td>\n",
       "      <td>8.234000e+03</td>\n",
       "      <td>3.671104e+01</td>\n",
       "      <td>1.709397e+12</td>\n",
       "    </tr>\n",
       "  </tbody>\n",
       "</table>\n",
       "</div>"
      ],
      "text/plain": [
       "           accuracy       bearing  acceleration_x  acceleration_y  \\\n",
       "count  7.242162e+06  7.242162e+06    7.242162e+06    7.242162e+06   \n",
       "mean   1.146137e+01  1.689952e+02    6.934907e-02    4.462358e+00   \n",
       "std    8.638815e+01  1.064558e+02    1.352000e+00    8.064168e+00   \n",
       "min    7.500000e-01  0.000000e+00   -1.384849e+01   -4.527352e+01   \n",
       "25%    3.900000e+00  7.900000e+01   -4.932206e-01   -9.976921e-01   \n",
       "50%    4.206000e+00  1.680663e+02    6.700000e-02    9.062330e+00   \n",
       "75%    8.000000e+00  2.610000e+02    6.200982e-01    9.704897e+00   \n",
       "max    6.070101e+03  3.599995e+02    1.392750e+01    4.909026e+01   \n",
       "\n",
       "       acceleration_z        gyro_x        gyro_y        gyro_z        second  \\\n",
       "count    7.242162e+06  7.242162e+06  7.242162e+06  7.242162e+06  7.242162e+06   \n",
       "mean     8.876828e-01 -1.634468e-03  2.974791e-05 -4.095973e-04  6.010095e+02   \n",
       "std      3.158647e+00  8.627993e-02  1.088907e-01  6.070606e-02  4.606105e+02   \n",
       "min     -4.237196e+01 -6.065414e-01 -7.400274e-01 -4.475901e-01  0.000000e+00   \n",
       "25%     -9.194015e-01 -2.535060e-02 -2.842552e-02 -1.806641e-02  2.420000e+02   \n",
       "50%      7.925050e-01 -6.682866e-04  2.441406e-04 -3.665191e-05  5.190000e+02   \n",
       "75%      2.698348e+00  2.197907e-02  2.983588e-02  1.753183e-02  8.610000e+02   \n",
       "max      4.581544e+01  6.031227e-01  7.414414e-01  4.470843e-01  8.234000e+03   \n",
       "\n",
       "              speed    booking_id  \n",
       "count  7.242162e+06  7.242162e+06  \n",
       "mean   9.044140e+00  8.180595e+11  \n",
       "std    8.027208e+00  4.953589e+11  \n",
       "min    0.000000e+00  0.000000e+00  \n",
       "25%    1.128062e+00  3.779571e+11  \n",
       "50%    7.765673e+00  8.074539e+11  \n",
       "75%    1.537000e+01  1.254130e+12  \n",
       "max    3.671104e+01  1.709397e+12  "
      ]
     },
     "execution_count": 30,
     "metadata": {},
     "output_type": "execute_result"
    }
   ],
   "source": [
    "# Inliers from univariate outlier detection\n",
    "newSensor_df.describe()"
   ]
  },
  {
   "cell_type": "code",
   "execution_count": 31,
   "id": "b2a6e35a",
   "metadata": {},
   "outputs": [],
   "source": [
    "# Inliers from univariate outlier detection\n",
    "univariate_outlier_sensor = newSensor_df\n",
    "del newSensor_df"
   ]
  },
  {
   "cell_type": "markdown",
   "id": "71ad62d7",
   "metadata": {},
   "source": [
    "### Multivariate Outlier Detection"
   ]
  },
  {
   "cell_type": "code",
   "execution_count": 32,
   "id": "a9df973b",
   "metadata": {},
   "outputs": [],
   "source": [
    "multivariate_outlier_sensor = copy.deepcopy(og_sensor)\n",
    "\n",
    "# Scale the data (z-scaling)\n",
    "scaler = StandardScaler()\n",
    "multivariate_outlier_sensor_scaled = scaler.fit_transform(multivariate_outlier_sensor)\n",
    "\n",
    "# Outlier detection using Isolation Forest\n",
    "lof = IsolationForest(contamination=0.02)\n",
    "multivariate_outlier_sensor[\"anomaly\"] = lof.fit_predict(multivariate_outlier_sensor_scaled)\n",
    "\n",
    "# Mask to remove the outliers from imputed sensor data\n",
    "mask = (multivariate_outlier_sensor[\"anomaly\"] != -1)"
   ]
  },
  {
   "cell_type": "code",
   "execution_count": 33,
   "id": "58214f8a",
   "metadata": {},
   "outputs": [],
   "source": [
    "# Inliers from multivariate outlier detection (Isolation Forest)\n",
    "multivariate_outlier_sensor = multivariate_outlier_sensor[mask]"
   ]
  },
  {
   "cell_type": "markdown",
   "id": "22920abe",
   "metadata": {},
   "source": [
    "We still need to apply some domain knownledge (Speed & Bearing cannot be negative!)"
   ]
  },
  {
   "cell_type": "code",
   "execution_count": 34,
   "id": "5a613e6c",
   "metadata": {},
   "outputs": [],
   "source": [
    "# Clip values that are negative\n",
    "multivariate_outlier_sensor['bearing'] = multivariate_outlier_sensor['bearing'].clip(lower=0)\n",
    "multivariate_outlier_sensor['speed'] = multivariate_outlier_sensor['speed'].clip(lower=0)"
   ]
  },
  {
   "cell_type": "markdown",
   "id": "1e8ee7c0",
   "metadata": {},
   "source": [
    "Lets see min, max and mean of original vs multivariate outlier removed"
   ]
  },
  {
   "cell_type": "code",
   "execution_count": 35,
   "id": "3fb95a81",
   "metadata": {},
   "outputs": [
    {
     "data": {
      "text/html": [
       "<div>\n",
       "<style scoped>\n",
       "    .dataframe tbody tr th:only-of-type {\n",
       "        vertical-align: middle;\n",
       "    }\n",
       "\n",
       "    .dataframe tbody tr th {\n",
       "        vertical-align: top;\n",
       "    }\n",
       "\n",
       "    .dataframe thead th {\n",
       "        text-align: right;\n",
       "    }\n",
       "</style>\n",
       "<table border=\"1\" class=\"dataframe\">\n",
       "  <thead>\n",
       "    <tr style=\"text-align: right;\">\n",
       "      <th></th>\n",
       "      <th>accuracy</th>\n",
       "      <th>bearing</th>\n",
       "      <th>acceleration_x</th>\n",
       "      <th>acceleration_y</th>\n",
       "      <th>acceleration_z</th>\n",
       "      <th>gyro_x</th>\n",
       "      <th>gyro_y</th>\n",
       "      <th>gyro_z</th>\n",
       "      <th>second</th>\n",
       "      <th>speed</th>\n",
       "      <th>booking_id</th>\n",
       "    </tr>\n",
       "  </thead>\n",
       "  <tbody>\n",
       "    <tr>\n",
       "      <th>count</th>\n",
       "      <td>7.351631e+06</td>\n",
       "      <td>7.351631e+06</td>\n",
       "      <td>7.351631e+06</td>\n",
       "      <td>7.351631e+06</td>\n",
       "      <td>7.351631e+06</td>\n",
       "      <td>7.351631e+06</td>\n",
       "      <td>7.351631e+06</td>\n",
       "      <td>7.351631e+06</td>\n",
       "      <td>7.351631e+06</td>\n",
       "      <td>7.351631e+06</td>\n",
       "      <td>7.351631e+06</td>\n",
       "    </tr>\n",
       "    <tr>\n",
       "      <th>mean</th>\n",
       "      <td>1.162066e+01</td>\n",
       "      <td>1.689563e+02</td>\n",
       "      <td>6.918514e-02</td>\n",
       "      <td>4.467709e+00</td>\n",
       "      <td>8.962134e-01</td>\n",
       "      <td>-1.733407e-03</td>\n",
       "      <td>1.789847e-04</td>\n",
       "      <td>-2.510934e-04</td>\n",
       "      <td>3.550076e+03</td>\n",
       "      <td>9.002687e+00</td>\n",
       "      <td>8.183458e+11</td>\n",
       "    </tr>\n",
       "    <tr>\n",
       "      <th>std</th>\n",
       "      <td>8.727007e+01</td>\n",
       "      <td>1.064551e+02</td>\n",
       "      <td>1.413816e+00</td>\n",
       "      <td>8.071938e+00</td>\n",
       "      <td>3.233408e+00</td>\n",
       "      <td>1.431632e-01</td>\n",
       "      <td>3.339006e-01</td>\n",
       "      <td>1.458490e-01</td>\n",
       "      <td>1.351304e+06</td>\n",
       "      <td>8.039881e+00</td>\n",
       "      <td>4.953331e+11</td>\n",
       "    </tr>\n",
       "    <tr>\n",
       "      <th>min</th>\n",
       "      <td>7.500000e-01</td>\n",
       "      <td>-1.296322e+00</td>\n",
       "      <td>-3.898399e+01</td>\n",
       "      <td>-5.780019e+01</td>\n",
       "      <td>-7.844842e+01</td>\n",
       "      <td>-4.845575e+01</td>\n",
       "      <td>-5.734489e+01</td>\n",
       "      <td>-3.746539e+01</td>\n",
       "      <td>0.000000e+00</td>\n",
       "      <td>-2.913273e+01</td>\n",
       "      <td>0.000000e+00</td>\n",
       "    </tr>\n",
       "    <tr>\n",
       "      <th>25%</th>\n",
       "      <td>3.900000e+00</td>\n",
       "      <td>7.900000e+01</td>\n",
       "      <td>-4.980091e-01</td>\n",
       "      <td>-9.648633e-01</td>\n",
       "      <td>-9.241901e-01</td>\n",
       "      <td>-2.590942e-02</td>\n",
       "      <td>-2.929160e-02</td>\n",
       "      <td>-1.841816e-02</td>\n",
       "      <td>2.410000e+02</td>\n",
       "      <td>1.110000e+00</td>\n",
       "      <td>3.779571e+11</td>\n",
       "    </tr>\n",
       "    <tr>\n",
       "      <th>50%</th>\n",
       "      <td>4.247000e+00</td>\n",
       "      <td>1.680000e+02</td>\n",
       "      <td>6.700134e-02</td>\n",
       "      <td>9.052753e+00</td>\n",
       "      <td>7.972935e-01</td>\n",
       "      <td>-6.750061e-04</td>\n",
       "      <td>2.425135e-04</td>\n",
       "      <td>-3.490658e-05</td>\n",
       "      <td>5.200000e+02</td>\n",
       "      <td>7.720000e+00</td>\n",
       "      <td>8.074539e+11</td>\n",
       "    </tr>\n",
       "    <tr>\n",
       "      <th>75%</th>\n",
       "      <td>8.000000e+00</td>\n",
       "      <td>2.610000e+02</td>\n",
       "      <td>6.249057e-01</td>\n",
       "      <td>9.703699e+00</td>\n",
       "      <td>2.719000e+00</td>\n",
       "      <td>2.247862e-02</td>\n",
       "      <td>3.066524e-02</td>\n",
       "      <td>1.802063e-02</td>\n",
       "      <td>8.620000e+02</td>\n",
       "      <td>1.533112e+01</td>\n",
       "      <td>1.254130e+12</td>\n",
       "    </tr>\n",
       "    <tr>\n",
       "      <th>max</th>\n",
       "      <td>6.070101e+03</td>\n",
       "      <td>3.599995e+02</td>\n",
       "      <td>6.687346e+01</td>\n",
       "      <td>7.281000e+01</td>\n",
       "      <td>7.805576e+01</td>\n",
       "      <td>3.870809e+01</td>\n",
       "      <td>8.031496e+01</td>\n",
       "      <td>4.505986e+01</td>\n",
       "      <td>6.193165e+08</td>\n",
       "      <td>8.803725e+01</td>\n",
       "      <td>1.709397e+12</td>\n",
       "    </tr>\n",
       "  </tbody>\n",
       "</table>\n",
       "</div>"
      ],
      "text/plain": [
       "           accuracy       bearing  acceleration_x  acceleration_y  \\\n",
       "count  7.351631e+06  7.351631e+06    7.351631e+06    7.351631e+06   \n",
       "mean   1.162066e+01  1.689563e+02    6.918514e-02    4.467709e+00   \n",
       "std    8.727007e+01  1.064551e+02    1.413816e+00    8.071938e+00   \n",
       "min    7.500000e-01 -1.296322e+00   -3.898399e+01   -5.780019e+01   \n",
       "25%    3.900000e+00  7.900000e+01   -4.980091e-01   -9.648633e-01   \n",
       "50%    4.247000e+00  1.680000e+02    6.700134e-02    9.052753e+00   \n",
       "75%    8.000000e+00  2.610000e+02    6.249057e-01    9.703699e+00   \n",
       "max    6.070101e+03  3.599995e+02    6.687346e+01    7.281000e+01   \n",
       "\n",
       "       acceleration_z        gyro_x        gyro_y        gyro_z        second  \\\n",
       "count    7.351631e+06  7.351631e+06  7.351631e+06  7.351631e+06  7.351631e+06   \n",
       "mean     8.962134e-01 -1.733407e-03  1.789847e-04 -2.510934e-04  3.550076e+03   \n",
       "std      3.233408e+00  1.431632e-01  3.339006e-01  1.458490e-01  1.351304e+06   \n",
       "min     -7.844842e+01 -4.845575e+01 -5.734489e+01 -3.746539e+01  0.000000e+00   \n",
       "25%     -9.241901e-01 -2.590942e-02 -2.929160e-02 -1.841816e-02  2.410000e+02   \n",
       "50%      7.972935e-01 -6.750061e-04  2.425135e-04 -3.490658e-05  5.200000e+02   \n",
       "75%      2.719000e+00  2.247862e-02  3.066524e-02  1.802063e-02  8.620000e+02   \n",
       "max      7.805576e+01  3.870809e+01  8.031496e+01  4.505986e+01  6.193165e+08   \n",
       "\n",
       "              speed    booking_id  \n",
       "count  7.351631e+06  7.351631e+06  \n",
       "mean   9.002687e+00  8.183458e+11  \n",
       "std    8.039881e+00  4.953331e+11  \n",
       "min   -2.913273e+01  0.000000e+00  \n",
       "25%    1.110000e+00  3.779571e+11  \n",
       "50%    7.720000e+00  8.074539e+11  \n",
       "75%    1.533112e+01  1.254130e+12  \n",
       "max    8.803725e+01  1.709397e+12  "
      ]
     },
     "execution_count": 35,
     "metadata": {},
     "output_type": "execute_result"
    }
   ],
   "source": [
    "# Original data with outliers\n",
    "og_sensor.describe()"
   ]
  },
  {
   "cell_type": "code",
   "execution_count": 36,
   "id": "9cbe198a",
   "metadata": {},
   "outputs": [
    {
     "data": {
      "text/html": [
       "<div>\n",
       "<style scoped>\n",
       "    .dataframe tbody tr th:only-of-type {\n",
       "        vertical-align: middle;\n",
       "    }\n",
       "\n",
       "    .dataframe tbody tr th {\n",
       "        vertical-align: top;\n",
       "    }\n",
       "\n",
       "    .dataframe thead th {\n",
       "        text-align: right;\n",
       "    }\n",
       "</style>\n",
       "<table border=\"1\" class=\"dataframe\">\n",
       "  <thead>\n",
       "    <tr style=\"text-align: right;\">\n",
       "      <th></th>\n",
       "      <th>accuracy</th>\n",
       "      <th>bearing</th>\n",
       "      <th>acceleration_x</th>\n",
       "      <th>acceleration_y</th>\n",
       "      <th>acceleration_z</th>\n",
       "      <th>gyro_x</th>\n",
       "      <th>gyro_y</th>\n",
       "      <th>gyro_z</th>\n",
       "      <th>second</th>\n",
       "      <th>speed</th>\n",
       "      <th>booking_id</th>\n",
       "      <th>anomaly</th>\n",
       "    </tr>\n",
       "  </thead>\n",
       "  <tbody>\n",
       "    <tr>\n",
       "      <th>count</th>\n",
       "      <td>7.204598e+06</td>\n",
       "      <td>7.204598e+06</td>\n",
       "      <td>7.204598e+06</td>\n",
       "      <td>7.204598e+06</td>\n",
       "      <td>7.204598e+06</td>\n",
       "      <td>7.204598e+06</td>\n",
       "      <td>7.204598e+06</td>\n",
       "      <td>7.204598e+06</td>\n",
       "      <td>7.204598e+06</td>\n",
       "      <td>7.204598e+06</td>\n",
       "      <td>7.204598e+06</td>\n",
       "      <td>7204598.0</td>\n",
       "    </tr>\n",
       "    <tr>\n",
       "      <th>mean</th>\n",
       "      <td>7.007557e+00</td>\n",
       "      <td>1.688113e+02</td>\n",
       "      <td>6.929965e-02</td>\n",
       "      <td>4.559142e+00</td>\n",
       "      <td>9.166975e-01</td>\n",
       "      <td>-1.527217e-03</td>\n",
       "      <td>-1.904832e-03</td>\n",
       "      <td>-1.212965e-03</td>\n",
       "      <td>3.176144e+03</td>\n",
       "      <td>9.082144e+00</td>\n",
       "      <td>8.185498e+11</td>\n",
       "      <td>1.0</td>\n",
       "    </tr>\n",
       "    <tr>\n",
       "      <th>std</th>\n",
       "      <td>1.239206e+01</td>\n",
       "      <td>1.062568e+02</td>\n",
       "      <td>1.321203e+00</td>\n",
       "      <td>8.007158e+00</td>\n",
       "      <td>3.091368e+00</td>\n",
       "      <td>9.272528e-02</td>\n",
       "      <td>1.888691e-01</td>\n",
       "      <td>6.975791e-02</td>\n",
       "      <td>1.263766e+06</td>\n",
       "      <td>8.006668e+00</td>\n",
       "      <td>4.945043e+11</td>\n",
       "      <td>0.0</td>\n",
       "    </tr>\n",
       "    <tr>\n",
       "      <th>min</th>\n",
       "      <td>7.500000e-01</td>\n",
       "      <td>0.000000e+00</td>\n",
       "      <td>-2.950944e+01</td>\n",
       "      <td>-2.963447e+01</td>\n",
       "      <td>-3.751308e+01</td>\n",
       "      <td>-5.217611e+00</td>\n",
       "      <td>-2.471980e+01</td>\n",
       "      <td>-1.903991e+01</td>\n",
       "      <td>0.000000e+00</td>\n",
       "      <td>0.000000e+00</td>\n",
       "      <td>0.000000e+00</td>\n",
       "      <td>1.0</td>\n",
       "    </tr>\n",
       "    <tr>\n",
       "      <th>25%</th>\n",
       "      <td>3.900000e+00</td>\n",
       "      <td>7.900000e+01</td>\n",
       "      <td>-4.903290e-01</td>\n",
       "      <td>-1.148529e-01</td>\n",
       "      <td>-8.882760e-01</td>\n",
       "      <td>-2.525491e-02</td>\n",
       "      <td>-2.851868e-02</td>\n",
       "      <td>-1.810950e-02</td>\n",
       "      <td>2.410000e+02</td>\n",
       "      <td>1.220000e+00</td>\n",
       "      <td>3.865471e+11</td>\n",
       "      <td>1.0</td>\n",
       "    </tr>\n",
       "    <tr>\n",
       "      <th>50%</th>\n",
       "      <td>4.051000e+00</td>\n",
       "      <td>1.680000e+02</td>\n",
       "      <td>6.703765e-02</td>\n",
       "      <td>9.079090e+00</td>\n",
       "      <td>8.086416e-01</td>\n",
       "      <td>-6.664540e-04</td>\n",
       "      <td>1.983643e-04</td>\n",
       "      <td>-6.475172e-05</td>\n",
       "      <td>5.170000e+02</td>\n",
       "      <td>7.840000e+00</td>\n",
       "      <td>8.074539e+11</td>\n",
       "      <td>1.0</td>\n",
       "    </tr>\n",
       "    <tr>\n",
       "      <th>75%</th>\n",
       "      <td>8.000000e+00</td>\n",
       "      <td>2.610000e+02</td>\n",
       "      <td>6.165375e-01</td>\n",
       "      <td>9.708784e+00</td>\n",
       "      <td>2.705451e+00</td>\n",
       "      <td>2.186348e-02</td>\n",
       "      <td>2.959454e-02</td>\n",
       "      <td>1.731055e-02</td>\n",
       "      <td>8.570000e+02</td>\n",
       "      <td>1.539661e+01</td>\n",
       "      <td>1.245541e+12</td>\n",
       "      <td>1.0</td>\n",
       "    </tr>\n",
       "    <tr>\n",
       "      <th>max</th>\n",
       "      <td>1.899999e+03</td>\n",
       "      <td>3.599995e+02</td>\n",
       "      <td>2.282223e+01</td>\n",
       "      <td>4.756673e+01</td>\n",
       "      <td>7.805576e+01</td>\n",
       "      <td>9.181152e+00</td>\n",
       "      <td>5.226024e+01</td>\n",
       "      <td>4.622006e+00</td>\n",
       "      <td>6.193165e+08</td>\n",
       "      <td>8.803725e+01</td>\n",
       "      <td>1.709397e+12</td>\n",
       "      <td>1.0</td>\n",
       "    </tr>\n",
       "  </tbody>\n",
       "</table>\n",
       "</div>"
      ],
      "text/plain": [
       "           accuracy       bearing  acceleration_x  acceleration_y  \\\n",
       "count  7.204598e+06  7.204598e+06    7.204598e+06    7.204598e+06   \n",
       "mean   7.007557e+00  1.688113e+02    6.929965e-02    4.559142e+00   \n",
       "std    1.239206e+01  1.062568e+02    1.321203e+00    8.007158e+00   \n",
       "min    7.500000e-01  0.000000e+00   -2.950944e+01   -2.963447e+01   \n",
       "25%    3.900000e+00  7.900000e+01   -4.903290e-01   -1.148529e-01   \n",
       "50%    4.051000e+00  1.680000e+02    6.703765e-02    9.079090e+00   \n",
       "75%    8.000000e+00  2.610000e+02    6.165375e-01    9.708784e+00   \n",
       "max    1.899999e+03  3.599995e+02    2.282223e+01    4.756673e+01   \n",
       "\n",
       "       acceleration_z        gyro_x        gyro_y        gyro_z        second  \\\n",
       "count    7.204598e+06  7.204598e+06  7.204598e+06  7.204598e+06  7.204598e+06   \n",
       "mean     9.166975e-01 -1.527217e-03 -1.904832e-03 -1.212965e-03  3.176144e+03   \n",
       "std      3.091368e+00  9.272528e-02  1.888691e-01  6.975791e-02  1.263766e+06   \n",
       "min     -3.751308e+01 -5.217611e+00 -2.471980e+01 -1.903991e+01  0.000000e+00   \n",
       "25%     -8.882760e-01 -2.525491e-02 -2.851868e-02 -1.810950e-02  2.410000e+02   \n",
       "50%      8.086416e-01 -6.664540e-04  1.983643e-04 -6.475172e-05  5.170000e+02   \n",
       "75%      2.705451e+00  2.186348e-02  2.959454e-02  1.731055e-02  8.570000e+02   \n",
       "max      7.805576e+01  9.181152e+00  5.226024e+01  4.622006e+00  6.193165e+08   \n",
       "\n",
       "              speed    booking_id    anomaly  \n",
       "count  7.204598e+06  7.204598e+06  7204598.0  \n",
       "mean   9.082144e+00  8.185498e+11        1.0  \n",
       "std    8.006668e+00  4.945043e+11        0.0  \n",
       "min    0.000000e+00  0.000000e+00        1.0  \n",
       "25%    1.220000e+00  3.865471e+11        1.0  \n",
       "50%    7.840000e+00  8.074539e+11        1.0  \n",
       "75%    1.539661e+01  1.245541e+12        1.0  \n",
       "max    8.803725e+01  1.709397e+12        1.0  "
      ]
     },
     "execution_count": 36,
     "metadata": {},
     "output_type": "execute_result"
    }
   ],
   "source": [
    "# Inliers from Isolation Forest\n",
    "multivariate_outlier_sensor.describe()"
   ]
  },
  {
   "cell_type": "markdown",
   "id": "faf2a3b5",
   "metadata": {},
   "source": [
    "# 4. Feature Engineering<a id=\"4\"></a>\n",
    "\n",
    "<br>\n",
    "\n",
    "- [Back to content table](#content-table)"
   ]
  },
  {
   "cell_type": "markdown",
   "id": "1920c53a",
   "metadata": {},
   "source": [
    "- lambda x: x.quantile(n) -> Interquartile percentile\n",
    "- kurt -> Kurt, or Kurtosis, is a measure of the tailedness of a distribution\n",
    "- skew -> Skew, or Skewness, is a measure of the asymmetry of a distribution\n",
    "\n",
    "<br>\n",
    "\n",
    "Note:\n",
    "- Maybe can include lambda x: x.quantile(.75) - lambda x: x.quantile(.25) as IQR but idk\n",
    "- I think lambda x: x.quantile(.5) and mean got a lot of correlation ah so maybe can drop 1 of them but...\n",
    "- Take like 3 mins to run and will return all the aggregated columns + merge the other tables (driver + safety label)"
   ]
  },
  {
   "cell_type": "code",
   "execution_count": 37,
   "id": "825cef52",
   "metadata": {},
   "outputs": [],
   "source": [
    "multivariate_outlier_sensor.drop(['anomaly'], axis=1, inplace=True)"
   ]
  },
  {
   "cell_type": "code",
   "execution_count": 38,
   "id": "b94e6ebe",
   "metadata": {},
   "outputs": [],
   "source": [
    "# Reset index\n",
    "univariate_outlier_sensor.reset_index(drop=True, inplace=True)\n",
    "multivariate_outlier_sensor.reset_index(drop=True, inplace=True)"
   ]
  },
  {
   "cell_type": "code",
   "execution_count": 39,
   "id": "715c95c5",
   "metadata": {},
   "outputs": [],
   "source": [
    "def feature_engineer(sensor_data):\n",
    "    # Aggregate mean, min, max, std, kurt, skew, 5th quantile, 25th quantile and 75th quantile\n",
    "    agg_df = sensor_data.groupby(by='booking_id', as_index=False).agg({ \n",
    "            'acceleration_x': ['mean', 'min', 'max', 'std', lambda x: x.quantile(.25), lambda x: x.quantile(.5), lambda x: x.quantile(.75), pd.DataFrame.kurt, pd.DataFrame.skew],\n",
    "            'acceleration_y': ['mean', 'min', 'max', 'std', lambda x: x.quantile(.25), lambda x: x.quantile(.5), lambda x: x.quantile(.75), pd.DataFrame.kurt, pd.DataFrame.skew],\n",
    "            'acceleration_z': ['mean', 'min', 'max', 'std', lambda x: x.quantile(.25), lambda x: x.quantile(.5), lambda x: x.quantile(.75), pd.DataFrame.kurt, pd.DataFrame.skew],\n",
    "            'gyro_x': ['mean', 'min', 'max', 'std', lambda x: x.quantile(.25), lambda x: x.quantile(.5), lambda x: x.quantile(.75), pd.DataFrame.kurt, pd.DataFrame.skew],\n",
    "            'gyro_y': ['mean', 'min', 'max', 'std', lambda x: x.quantile(.25), lambda x: x.quantile(.5), lambda x: x.quantile(.75), pd.DataFrame.kurt, pd.DataFrame.skew],\n",
    "            'gyro_z': ['mean', 'min', 'max', 'std', lambda x: x.quantile(.25), lambda x: x.quantile(.5), lambda x: x.quantile(.75), pd.DataFrame.kurt, pd.DataFrame.skew],\n",
    "            'speed': ['mean', 'min', 'max', 'std', lambda x: x.quantile(.25), lambda x: x.quantile(.5), lambda x: x.quantile(.75), pd.DataFrame.kurt, pd.DataFrame.skew],\n",
    "            'accuracy': ['mean', 'min', 'max', 'std', lambda x: x.quantile(.25), lambda x: x.quantile(.5), lambda x: x.quantile(.75), pd.DataFrame.kurt, pd.DataFrame.skew],\n",
    "            'bearing': ['mean', 'min', 'max', 'std', lambda x: x.quantile(.25), lambda x: x.quantile(.5), lambda x: x.quantile(.75), pd.DataFrame.kurt, pd.DataFrame.skew],\n",
    "            'second': ['max']\n",
    "        })\n",
    "\n",
    "    # Join sensor data with driver and safety labels\n",
    "    merge_df = agg_df.merge(safety_labels_df, on='booking_id', how='inner')\n",
    "    merge_df.drop(columns=('booking_id', ''),inplace=True)\n",
    "    merge_df = merge_df.merge(drivers_df,  on='driver_id', how='inner')\n",
    "\n",
    "    # convert the date of birth column to a datetime type\n",
    "    merge_df['date_of_birth'] = pd.to_datetime(merge_df['date_of_birth'], format='%m/%d/%Y')\n",
    "\n",
    "    # calculate the difference in years between the date of birth and current date\n",
    "    now = pd.Timestamp(datetime.now())\n",
    "    merge_df['age'] = (now - merge_df['date_of_birth']).dt.total_seconds() / (365.25 * 24 * 3600)\n",
    "    merge_df['age'] = merge_df['age'].astype(int)\n",
    "    merge_df.drop(['date_of_birth'], axis=1, inplace=True)\n",
    "\n",
    "    # Convert dtype\n",
    "    merge_df = merge_df.astype({'car_make_year': int, 'rating': float})\n",
    "    return merge_df"
   ]
  },
  {
   "cell_type": "markdown",
   "id": "3018930c",
   "metadata": {},
   "source": [
    "We will sine the bearing as well.<br><br>\n",
    "Why do we sine the bearing?<br>\n",
    "Because there is no difference between bearing 0 and 360 degrees, so if the standard deviation of bearing is high it could just mean that the driver is driving in the direction of around 0 degrees. High bearing standard deviation can mean that the drivers are turning very frequently (similar to gyro, but maybe bearing std could be better. Nonetheless, it depends on the RFECV result later.)"
   ]
  },
  {
   "cell_type": "code",
   "execution_count": null,
   "id": "aa7055de",
   "metadata": {},
   "outputs": [],
   "source": [
    "og_sensor_agg['bearing'] = np.sine(og_sensor_agg['bearing'])\n",
    "univariate_outlier_sensor_agg['bearing'] = np.sine(univariate_outlier_sensor_agg['bearing'])\n",
    "multivariate_outlier_sensor_agg['bearing'] = np.sine(multivariate_outlier_sensor_agg['bearing'])"
   ]
  },
  {
   "cell_type": "code",
   "execution_count": 40,
   "id": "730c7f8e",
   "metadata": {},
   "outputs": [
    {
     "name": "stderr",
     "output_type": "stream",
     "text": [
      "C:\\Users\\quahj\\AppData\\Local\\Temp\\ipykernel_4632\\1187169674.py:17: FutureWarning: merging between different levels is deprecated and will be removed in a future version. (2 levels on the left, 1 on the right)\n",
      "  merge_df = agg_df.merge(safety_labels_df, on='booking_id', how='inner')\n",
      "C:\\Users\\quahj\\AppData\\Local\\Temp\\ipykernel_4632\\1187169674.py:17: FutureWarning: merging between different levels is deprecated and will be removed in a future version. (2 levels on the left, 1 on the right)\n",
      "  merge_df = agg_df.merge(safety_labels_df, on='booking_id', how='inner')\n",
      "C:\\Users\\quahj\\AppData\\Local\\Temp\\ipykernel_4632\\1187169674.py:17: FutureWarning: merging between different levels is deprecated and will be removed in a future version. (2 levels on the left, 1 on the right)\n",
      "  merge_df = agg_df.merge(safety_labels_df, on='booking_id', how='inner')\n"
     ]
    }
   ],
   "source": [
    "# Aggregate columns and merge all tables\n",
    "og_sensor_agg = feature_engineer(og_sensor)\n",
    "univariate_outlier_sensor_agg = feature_engineer(univariate_outlier_sensor)\n",
    "multivariate_outlier_sensor_agg = feature_engineer(multivariate_outlier_sensor)"
   ]
  },
  {
   "cell_type": "code",
   "execution_count": 41,
   "id": "a451a4e3",
   "metadata": {},
   "outputs": [],
   "source": [
    "del og_sensor\n",
    "del univariate_outlier_sensor\n",
    "del multivariate_outlier_sensor"
   ]
  },
  {
   "cell_type": "code",
   "execution_count": 42,
   "id": "aa718a7a",
   "metadata": {},
   "outputs": [],
   "source": [
    "# Format column names \n",
    "# e.g. some current column will look like 'acceleration_x, '<lambda_0>'', this will be formatted to 'acceleration_x (25th Quantile)'\n",
    "perc_dict = {\n",
    "    '0>': '25th',\n",
    "    '1>': '5th',\n",
    "    '2>': '75th',\n",
    "}\n",
    "\n",
    "# Change column names\n",
    "def format_columns(df):\n",
    "    # Get a list of the current column names\n",
    "    columns = df.columns\n",
    "    # Create a pattern to match column names that include '<lambda'\n",
    "    lambda_pattern = re.compile(r'<lambda.*')\n",
    "    # Create a pattern to match the element after a comma\n",
    "    comma_pattern = re.compile(r',(.*)')\n",
    "    new_columns = []\n",
    "    same_columns = ['booking_id', 'driver_id', 'label', 'name', 'gender', 'car_model', 'car_make_year', 'rating', 'age']\n",
    "    \n",
    "    # Iterate through the current column names\n",
    "    for col in columns:\n",
    "        if col in same_columns: # Col names that do not need to be changed\n",
    "            new_columns.append(col)\n",
    "        else: # Col names that do needs to be changed\n",
    "            col = ', '.join(col)\n",
    "            if lambda_pattern.search(col):\n",
    "                # Extract the number after '<lambda'\n",
    "                lambda_num = lambda_pattern.search(col).group().replace('<lambda_', '')\n",
    "                # Extract the column name before '<lambda'\n",
    "                lambda_num = perc_dict[lambda_num]\n",
    "                col_name = col.split('<')[0]\n",
    "                new_col = f'{col_name[:-2]} ({lambda_num} Quartile)'\n",
    "            elif comma_pattern.search(col):\n",
    "                comma_text = comma_pattern.search(col).group()[1:]\n",
    "                new_col = f'{col.split(\",\")[0]} ({comma_text[1:].capitalize()})'\n",
    "            else:\n",
    "                new_col = col\n",
    "            new_columns.append(new_col)\n",
    "    return new_columns"
   ]
  },
  {
   "cell_type": "code",
   "execution_count": 43,
   "id": "61863f45",
   "metadata": {},
   "outputs": [],
   "source": [
    "# Format column names\n",
    "og_sensor_agg.columns = format_columns(og_sensor_agg)\n",
    "univariate_outlier_sensor_agg.columns = format_columns(univariate_outlier_sensor_agg)\n",
    "multivariate_outlier_sensor_agg.columns = format_columns(multivariate_outlier_sensor_agg)"
   ]
  },
  {
   "cell_type": "code",
   "execution_count": 44,
   "id": "5c00a195",
   "metadata": {},
   "outputs": [
    {
     "name": "stdout",
     "output_type": "stream",
     "text": [
      "No. of columns (og_sensor_agg): 91\n",
      "No. of columns (univariate_outlier_sensor_agg): 91\n",
      "No. of columns (multivariate_outlier_sensor_agg): 91\n"
     ]
    }
   ],
   "source": [
    "# Display no. of cols in each sensor data \n",
    "print(f'No. of columns (og_sensor_agg): {len(og_sensor_agg.columns)}')\n",
    "print(f'No. of columns (univariate_outlier_sensor_agg): {len(univariate_outlier_sensor_agg.columns)}')\n",
    "print(f'No. of columns (multivariate_outlier_sensor_agg): {len(multivariate_outlier_sensor_agg.columns)}')"
   ]
  },
  {
   "cell_type": "code",
   "execution_count": 45,
   "id": "a8cb6fd2",
   "metadata": {},
   "outputs": [
    {
     "data": {
      "text/html": [
       "<div>\n",
       "<style scoped>\n",
       "    .dataframe tbody tr th:only-of-type {\n",
       "        vertical-align: middle;\n",
       "    }\n",
       "\n",
       "    .dataframe tbody tr th {\n",
       "        vertical-align: top;\n",
       "    }\n",
       "\n",
       "    .dataframe thead th {\n",
       "        text-align: right;\n",
       "    }\n",
       "</style>\n",
       "<table border=\"1\" class=\"dataframe\">\n",
       "  <thead>\n",
       "    <tr style=\"text-align: right;\">\n",
       "      <th></th>\n",
       "      <th>booking_id</th>\n",
       "      <th>acceleration_x (Mean)</th>\n",
       "      <th>acceleration_x (Min)</th>\n",
       "      <th>acceleration_x (Max)</th>\n",
       "      <th>acceleration_x (Std)</th>\n",
       "      <th>acceleration_x (25th Quartile)</th>\n",
       "      <th>acceleration_x (5th Quartile)</th>\n",
       "      <th>acceleration_x (75th Quartile)</th>\n",
       "      <th>acceleration_x (Kurt)</th>\n",
       "      <th>acceleration_x (Skew)</th>\n",
       "      <th>...</th>\n",
       "      <th>bearing (Skew)</th>\n",
       "      <th>second (Max)</th>\n",
       "      <th>driver_id</th>\n",
       "      <th>label</th>\n",
       "      <th>name</th>\n",
       "      <th>gender</th>\n",
       "      <th>car_model</th>\n",
       "      <th>car_make_year</th>\n",
       "      <th>rating</th>\n",
       "      <th>age</th>\n",
       "    </tr>\n",
       "  </thead>\n",
       "  <tbody>\n",
       "    <tr>\n",
       "      <th>0</th>\n",
       "      <td>0</td>\n",
       "      <td>-0.704740</td>\n",
       "      <td>-4.692294</td>\n",
       "      <td>4.782614</td>\n",
       "      <td>0.930657</td>\n",
       "      <td>-1.178906</td>\n",
       "      <td>-0.744466</td>\n",
       "      <td>-0.324344</td>\n",
       "      <td>4.838760</td>\n",
       "      <td>0.600688</td>\n",
       "      <td>...</td>\n",
       "      <td>0.082118</td>\n",
       "      <td>1589.0</td>\n",
       "      <td>48</td>\n",
       "      <td>0</td>\n",
       "      <td>Lilia</td>\n",
       "      <td>Male</td>\n",
       "      <td>Mercedes-Benz</td>\n",
       "      <td>2013</td>\n",
       "      <td>4.0</td>\n",
       "      <td>48</td>\n",
       "    </tr>\n",
       "    <tr>\n",
       "      <th>1</th>\n",
       "      <td>119</td>\n",
       "      <td>-0.442342</td>\n",
       "      <td>-4.647354</td>\n",
       "      <td>6.865158</td>\n",
       "      <td>1.178955</td>\n",
       "      <td>-1.104836</td>\n",
       "      <td>-0.479652</td>\n",
       "      <td>0.070162</td>\n",
       "      <td>8.643552</td>\n",
       "      <td>1.253188</td>\n",
       "      <td>...</td>\n",
       "      <td>-0.169949</td>\n",
       "      <td>809.0</td>\n",
       "      <td>48</td>\n",
       "      <td>1</td>\n",
       "      <td>Lilia</td>\n",
       "      <td>Male</td>\n",
       "      <td>Mercedes-Benz</td>\n",
       "      <td>2013</td>\n",
       "      <td>4.0</td>\n",
       "      <td>48</td>\n",
       "    </tr>\n",
       "    <tr>\n",
       "      <th>2</th>\n",
       "      <td>8589934611</td>\n",
       "      <td>0.473412</td>\n",
       "      <td>-9.452309</td>\n",
       "      <td>3.303998</td>\n",
       "      <td>1.020697</td>\n",
       "      <td>0.000000</td>\n",
       "      <td>0.450110</td>\n",
       "      <td>1.019930</td>\n",
       "      <td>17.882952</td>\n",
       "      <td>-2.195146</td>\n",
       "      <td>...</td>\n",
       "      <td>-1.562295</td>\n",
       "      <td>1407.0</td>\n",
       "      <td>48</td>\n",
       "      <td>0</td>\n",
       "      <td>Lilia</td>\n",
       "      <td>Male</td>\n",
       "      <td>Mercedes-Benz</td>\n",
       "      <td>2013</td>\n",
       "      <td>4.0</td>\n",
       "      <td>48</td>\n",
       "    </tr>\n",
       "    <tr>\n",
       "      <th>3</th>\n",
       "      <td>25769803794</td>\n",
       "      <td>0.006433</td>\n",
       "      <td>-5.165726</td>\n",
       "      <td>3.137119</td>\n",
       "      <td>0.985155</td>\n",
       "      <td>-0.417916</td>\n",
       "      <td>-0.007626</td>\n",
       "      <td>0.500011</td>\n",
       "      <td>2.791735</td>\n",
       "      <td>-0.386575</td>\n",
       "      <td>...</td>\n",
       "      <td>1.534112</td>\n",
       "      <td>869.0</td>\n",
       "      <td>48</td>\n",
       "      <td>0</td>\n",
       "      <td>Lilia</td>\n",
       "      <td>Male</td>\n",
       "      <td>Mercedes-Benz</td>\n",
       "      <td>2013</td>\n",
       "      <td>4.0</td>\n",
       "      <td>48</td>\n",
       "    </tr>\n",
       "    <tr>\n",
       "      <th>4</th>\n",
       "      <td>25769803869</td>\n",
       "      <td>-0.132118</td>\n",
       "      <td>-2.209916</td>\n",
       "      <td>1.371920</td>\n",
       "      <td>0.688570</td>\n",
       "      <td>-0.319037</td>\n",
       "      <td>-0.123305</td>\n",
       "      <td>0.085595</td>\n",
       "      <td>2.298806</td>\n",
       "      <td>-0.676303</td>\n",
       "      <td>...</td>\n",
       "      <td>1.905029</td>\n",
       "      <td>128.0</td>\n",
       "      <td>48</td>\n",
       "      <td>0</td>\n",
       "      <td>Lilia</td>\n",
       "      <td>Male</td>\n",
       "      <td>Mercedes-Benz</td>\n",
       "      <td>2013</td>\n",
       "      <td>4.0</td>\n",
       "      <td>48</td>\n",
       "    </tr>\n",
       "  </tbody>\n",
       "</table>\n",
       "<p>5 rows × 91 columns</p>\n",
       "</div>"
      ],
      "text/plain": [
       "    booking_id  acceleration_x (Mean)  acceleration_x (Min)  \\\n",
       "0            0              -0.704740             -4.692294   \n",
       "1          119              -0.442342             -4.647354   \n",
       "2   8589934611               0.473412             -9.452309   \n",
       "3  25769803794               0.006433             -5.165726   \n",
       "4  25769803869              -0.132118             -2.209916   \n",
       "\n",
       "   acceleration_x (Max)  acceleration_x (Std)  acceleration_x (25th Quartile)  \\\n",
       "0              4.782614              0.930657                       -1.178906   \n",
       "1              6.865158              1.178955                       -1.104836   \n",
       "2              3.303998              1.020697                        0.000000   \n",
       "3              3.137119              0.985155                       -0.417916   \n",
       "4              1.371920              0.688570                       -0.319037   \n",
       "\n",
       "   acceleration_x (5th Quartile)  acceleration_x (75th Quartile)  \\\n",
       "0                      -0.744466                       -0.324344   \n",
       "1                      -0.479652                        0.070162   \n",
       "2                       0.450110                        1.019930   \n",
       "3                      -0.007626                        0.500011   \n",
       "4                      -0.123305                        0.085595   \n",
       "\n",
       "   acceleration_x (Kurt)  acceleration_x (Skew)  ...  bearing (Skew)  \\\n",
       "0               4.838760               0.600688  ...        0.082118   \n",
       "1               8.643552               1.253188  ...       -0.169949   \n",
       "2              17.882952              -2.195146  ...       -1.562295   \n",
       "3               2.791735              -0.386575  ...        1.534112   \n",
       "4               2.298806              -0.676303  ...        1.905029   \n",
       "\n",
       "   second (Max)  driver_id  label   name  gender      car_model  \\\n",
       "0        1589.0         48      0  Lilia    Male  Mercedes-Benz   \n",
       "1         809.0         48      1  Lilia    Male  Mercedes-Benz   \n",
       "2        1407.0         48      0  Lilia    Male  Mercedes-Benz   \n",
       "3         869.0         48      0  Lilia    Male  Mercedes-Benz   \n",
       "4         128.0         48      0  Lilia    Male  Mercedes-Benz   \n",
       "\n",
       "   car_make_year  rating  age  \n",
       "0           2013     4.0   48  \n",
       "1           2013     4.0   48  \n",
       "2           2013     4.0   48  \n",
       "3           2013     4.0   48  \n",
       "4           2013     4.0   48  \n",
       "\n",
       "[5 rows x 91 columns]"
      ]
     },
     "execution_count": 45,
     "metadata": {},
     "output_type": "execute_result"
    }
   ],
   "source": [
    "og_sensor_agg.head()"
   ]
  },
  {
   "cell_type": "markdown",
   "id": "dacfa92e",
   "metadata": {},
   "source": [
    "Net Acceleration feature generating"
   ]
  },
  {
   "cell_type": "code",
   "execution_count": null,
   "id": "3f853947",
   "metadata": {},
   "outputs": [],
   "source": [
    "multivariate_outlier_sensor_agg['acceleration_net (Mean)'] = np.sqrt((multivariate_outlier_sensor_agg['acceleration_x (Mean)']**2)+(multivariate_outlier_sensor_agg['acceleration_z (Mean)']**2))"
   ]
  },
  {
   "cell_type": "code",
   "execution_count": 46,
   "id": "b6f8ba58",
   "metadata": {},
   "outputs": [],
   "source": [
    "# Save aggregated data to csv\n",
    "og_sensor_agg.to_csv('og_sensor_agg.csv', index=False)\n",
    "univariate_outlier_sensor_agg.to_csv('univariate_outlier_sensor_agg.csv', index=False)\n",
    "multivariate_outlier_sensor_agg.to_csv('multivariate_outlier_sensor_agg.csv', index=False)"
   ]
  },
  {
   "cell_type": "markdown",
   "id": "d85895ea",
   "metadata": {},
   "source": [
    "# 5. Addressing Highly Correlated Columns<a id=\"5\"></a>\n",
    "\n",
    "<br>\n",
    "\n",
    "- [Back to content table](#content-table)"
   ]
  },
  {
   "cell_type": "code",
   "execution_count": 86,
   "id": "eac24095",
   "metadata": {},
   "outputs": [],
   "source": [
    "multivariate_outlier_sensor_agg = pd.read_csv('multivariate_outlier_sensor_agg.csv')"
   ]
  },
  {
   "cell_type": "code",
   "execution_count": 87,
   "id": "eb1feb67",
   "metadata": {},
   "outputs": [
    {
     "name": "stderr",
     "output_type": "stream",
     "text": [
      "C:\\Users\\quahj\\AppData\\Local\\Temp\\ipykernel_4632\\2294994537.py:2: FutureWarning: The default value of numeric_only in DataFrame.corr is deprecated. In a future version, it will default to False. Select only valid columns or specify the value of numeric_only to silence this warning.\n",
      "  corr = multivariate_outlier_sensor_agg.corr()\n"
     ]
    },
    {
     "data": {
      "text/plain": [
       "{'car_model', 'gender', 'name'}"
      ]
     },
     "metadata": {},
     "output_type": "display_data"
    }
   ],
   "source": [
    "# Compute the correlation matrix\n",
    "corr = multivariate_outlier_sensor_agg.corr()\n",
    "\n",
    "# Display columns not included in correlation\n",
    "set_A = set(multivariate_outlier_sensor_agg.columns)\n",
    "set_B = set(corr.columns)\n",
    "elements_not_in_B = set_A - set_B\n",
    "display(elements_not_in_B)"
   ]
  },
  {
   "cell_type": "code",
   "execution_count": 88,
   "id": "029f44a9",
   "metadata": {},
   "outputs": [],
   "source": [
    "# Remove columns not needed for plotting correlation\n",
    "# 'booking_id' and 'driver_id' are removed as well\n",
    "filter_columns = ['car_model', 'gender', 'name', 'booking_id', 'driver_id']\n",
    "filtered_df = multivariate_outlier_sensor_agg.drop(filter_columns, axis=1)"
   ]
  },
  {
   "cell_type": "code",
   "execution_count": 89,
   "id": "350ee95c",
   "metadata": {},
   "outputs": [
    {
     "name": "stdout",
     "output_type": "stream",
     "text": [
      "Total No. of columns: 86\n"
     ]
    }
   ],
   "source": [
    "print(f'Total No. of columns: {len(filtered_df.columns)}')"
   ]
  },
  {
   "cell_type": "code",
   "execution_count": 90,
   "id": "902890f7",
   "metadata": {},
   "outputs": [
    {
     "data": {
      "image/png": "[encoded data removed]",
      "text/plain": [
       "<Figure size 1100x900 with 2 Axes>"
      ]
     },
     "metadata": {},
     "output_type": "display_data"
    }
   ],
   "source": [
    "# Plot correlation matrix\n",
    "plotCorrelation(filtered_df, 'Sensor Data Correlation Heatmap (Aggregated)', annot=False)"
   ]
  },
  {
   "cell_type": "markdown",
   "id": "f7df481f",
   "metadata": {},
   "source": [
    "- Retrieve columns that have correlation greater than 0.6"
   ]
  },
  {
   "cell_type": "code",
   "execution_count": 91,
   "id": "fa719155",
   "metadata": {},
   "outputs": [],
   "source": [
    "def returnCorr(df=filtered_df, threshold = 0.6):\n",
    "    # Correlation matrix\n",
    "    corr_matrix = df.corr()\n",
    "\n",
    "    # Retrieve values that are highly correlated\n",
    "    threshold = threshold\n",
    "    correlated_values = []\n",
    "    for col in range(len(corr_matrix.columns)):\n",
    "        for row in range(col+1, len(corr_matrix.index)):\n",
    "            if abs(corr_matrix.iloc[row, col]) > threshold:\n",
    "                correlated_values.append([corr_matrix.columns[col], corr_matrix.index[row], corr_matrix.iloc[row, col]])\n",
    "    return correlated_values"
   ]
  },
  {
   "cell_type": "markdown",
   "id": "a86ff1a1",
   "metadata": {},
   "source": [
    "- Remove columns that are highly correlated (greater than 0.6)"
   ]
  },
  {
   "cell_type": "code",
   "execution_count": 92,
   "id": "8d047d8c",
   "metadata": {},
   "outputs": [],
   "source": [
    "def removeCorr(filter_df=filtered_df, threshold=0.6):\n",
    "    correlated_values = [0,1]\n",
    "    while True:\n",
    "        correlated_values = returnCorr(filter_df,threshold = threshold)\n",
    "        high_correlated_df = pd.DataFrame(correlated_values, columns=['Column Name', 'Row Name', 'Correlation Coefficient'])\n",
    "        high_correlated_df['Correlation Coefficient'] = high_correlated_df['Correlation Coefficient'].abs()\n",
    "        comb = np.concatenate((high_correlated_df.iloc[:, 0], high_correlated_df.iloc[:, 1]), axis =0)\n",
    "        unique, counts = np.unique(comb, return_counts=True)\n",
    "        df = pd.DataFrame({'Value': unique, 'Count': counts})\n",
    "        df.sort_values(by='Count', ascending=False, inplace=True)\n",
    "        if len(df) != 0:\n",
    "            filter_df = filter_df.drop(columns=[df.iloc[0][0]])\n",
    "        else:\n",
    "            break\n",
    "    return filter_df"
   ]
  },
  {
   "cell_type": "code",
   "execution_count": 93,
   "id": "7827e791",
   "metadata": {
    "scrolled": false
   },
   "outputs": [],
   "source": [
    "# Drop cols that are highly correlated\n",
    "newSensor_df = removeCorr(filtered_df)"
   ]
  },
  {
   "cell_type": "markdown",
   "id": "8fe3634d",
   "metadata": {},
   "source": [
    "- Adding back car_model and gender columns"
   ]
  },
  {
   "cell_type": "code",
   "execution_count": 94,
   "id": "a40b510d",
   "metadata": {},
   "outputs": [],
   "source": [
    "# Adding back gender and car_model\n",
    "newSensor_df['gender'] = multivariate_outlier_sensor_agg['gender'].copy()\n",
    "newSensor_df['car_model'] = multivariate_outlier_sensor_agg['car_model'].copy()"
   ]
  },
  {
   "cell_type": "code",
   "execution_count": 95,
   "id": "a46f99ee",
   "metadata": {},
   "outputs": [
    {
     "name": "stdout",
     "output_type": "stream",
     "text": [
      "Total No. of Columns: 55\n"
     ]
    }
   ],
   "source": [
    "# Total no. of cols after removing correlated columns\n",
    "print(f'Total No. of Columns: {len(newSensor_df.columns)}')"
   ]
  },
  {
   "cell_type": "markdown",
   "id": "f5c6aed0",
   "metadata": {},
   "source": [
    "Train-Test-Split"
   ]
  },
  {
   "cell_type": "code",
   "execution_count": 96,
   "id": "9aadd10a",
   "metadata": {},
   "outputs": [],
   "source": [
    "# Defining X and y\n",
    "X = newSensor_df.drop(['label'], axis=1)\n",
    "y = newSensor_df['label']"
   ]
  },
  {
   "cell_type": "code",
   "execution_count": 97,
   "id": "da672e60",
   "metadata": {},
   "outputs": [],
   "source": [
    "# Train and test set\n",
    "X_train, X_test, y_train, y_test = train_test_split(X, y, test_size=0.3, random_state=42, stratify=y)"
   ]
  },
  {
   "cell_type": "code",
   "execution_count": 98,
   "id": "16b01539",
   "metadata": {},
   "outputs": [
    {
     "name": "stdout",
     "output_type": "stream",
     "text": [
      "X_train shape: (13999, 54)\n",
      "X_test shape: (6000, 54)\n"
     ]
    }
   ],
   "source": [
    "# Dimensions\n",
    "print(f'X_train shape: {X_train.shape}')\n",
    "print(f'X_test shape: {X_test.shape}')"
   ]
  },
  {
   "cell_type": "markdown",
   "id": "d4c2e41b",
   "metadata": {},
   "source": [
    "# 6. Feature Selection<a id='6'></a>\n",
    "\n",
    "<br>\n",
    "\n",
    "- [Back to content table](#content-table)"
   ]
  },
  {
   "cell_type": "markdown",
   "id": "2641e547",
   "metadata": {},
   "source": [
    "- Recursive Feature Elimination with Cross Validation"
   ]
  },
  {
   "cell_type": "code",
   "execution_count": 99,
   "id": "c64adbb3",
   "metadata": {},
   "outputs": [],
   "source": [
    "# Categorical columns will not be passed into RFECV\n",
    "cat_columns = ['gender', 'car_model']\n",
    "\n",
    "# Storing column names for display purposes later\n",
    "X_train_num = X_train.drop(cat_columns, axis=1)\n",
    "col_names = X_train_num.columns"
   ]
  },
  {
   "cell_type": "code",
   "execution_count": 101,
   "id": "743143fd",
   "metadata": {
    "scrolled": true
   },
   "outputs": [],
   "source": [
    "# Folds\n",
    "kfold = StratifiedKFold(n_splits=4, random_state=42, shuffle=True)\n",
    "\n",
    "# RFECV pipeline with scaler\n",
    "scaler = StandardScaler()\n",
    "rf_classifier = RandomForestClassifier(random_state=42)\n",
    "rfecv = RFECV(rf_classifier, cv=kfold, scoring='f1')\n",
    "pipeline = Pipeline([('scaler', scaler), ('rfecv', rfecv)])\n",
    "\n",
    "# Retrieve relevant columns\n",
    "selector = pipeline.fit(X_train_num, y_train)"
   ]
  },
  {
   "cell_type": "code",
   "execution_count": 102,
   "id": "89990306",
   "metadata": {},
   "outputs": [
    {
     "name": "stdout",
     "output_type": "stream",
     "text": [
      "No. of Relevant Columns: 5\n"
     ]
    }
   ],
   "source": [
    "num_cols = selector.get_feature_names_out()\n",
    "print(f'No. of Relevant Columns: {len(num_cols)}')"
   ]
  },
  {
   "cell_type": "code",
   "execution_count": 103,
   "id": "54ea41e2",
   "metadata": {},
   "outputs": [
    {
     "name": "stdout",
     "output_type": "stream",
     "text": [
      "Relevant Columns: ['acceleration_z (Std)' 'speed (Std)' 'speed (Skew)' 'bearing (Std)'\n",
      " 'second (Max)']\n"
     ]
    }
   ],
   "source": [
    "print(f'Relevant Columns: {num_cols}')"
   ]
  },
  {
   "cell_type": "code",
   "execution_count": null,
   "id": "c008d79b",
   "metadata": {},
   "outputs": [],
   "source": [
    "# Accuracy achieved on validation set across each cv\n",
    "print(f'f-1 score produced with relevent columns: {selector[\"rfecv\"].cv_results_[\"mean_test_score\"].max():.3f}')"
   ]
  },
  {
   "cell_type": "code",
   "execution_count": 104,
   "id": "828049e1",
   "metadata": {},
   "outputs": [
    {
     "name": "stdout",
     "output_type": "stream",
     "text": [
      "Mean f-1 score: 0.301\n"
     ]
    }
   ],
   "source": [
    "# Accuracy achieved on validation set across each cv\n",
    "print(f'Mean f-1 score: {selector[\"rfecv\"].cv_results_[\"mean_test_score\"].mean():.3f}')"
   ]
  },
  {
   "cell_type": "markdown",
   "id": "472d26ee",
   "metadata": {},
   "source": [
    "- Using cross validation to evaluate model result"
   ]
  },
  {
   "cell_type": "code",
   "execution_count": 140,
   "id": "3a3b47c6",
   "metadata": {},
   "outputs": [],
   "source": [
    "# Train model\n",
    "def model_tester(name, pipeline, X_train, y_train):\n",
    "    with mlflow.start_run():\n",
    "        # Kfold\n",
    "        kfold = StratifiedKFold(n_splits=4, random_state=100, shuffle=True)\n",
    "        results = {}\n",
    "        for metric in ['accuracy', 'recall', 'precision', 'f1', 'roc_auc']: \n",
    "            cv_results = cross_val_score(pipeline, X_train, y_train, cv=kfold, scoring=metric).mean()\n",
    "            mlflow.log_metric(metric, cv_results)\n",
    "            results[metric] = cv_results\n",
    "\n",
    "        # Log results\n",
    "        mlflow.sklearn.log_model(pipeline.named_steps['model'], name)\n",
    "        print(f'{name} Trained')\n",
    "    return results"
   ]
  },
  {
   "cell_type": "markdown",
   "id": "441dee52",
   "metadata": {},
   "source": [
    "Manually checking performance of model with the categorical columns (gender and car_model)"
   ]
  },
  {
   "cell_type": "code",
   "execution_count": 156,
   "id": "9cd223c9",
   "metadata": {},
   "outputs": [
    {
     "name": "stderr",
     "output_type": "stream",
     "text": [
      "2023/02/07 13:16:25 INFO mlflow.tracking.fluent: Experiment with name 'Outlier_Removal_Comparison' does not exist. Creating a new experiment.\n"
     ]
    },
    {
     "data": {
      "text/plain": [
       "<Experiment: artifact_location='mlflow-artifacts:/276849074381385188', creation_time=1675746985355, experiment_id='276849074381385188', last_update_time=1675746985355, lifecycle_stage='active', name='Outlier_Removal_Comparison', tags={}>"
      ]
     },
     "execution_count": 156,
     "metadata": {},
     "output_type": "execute_result"
    }
   ],
   "source": [
    "# MLFlow tracking\n",
    "mlflow.set_tracking_uri(\"http://localhost:5000\")\n",
    "\n",
    "# Creating new experiment\n",
    "experiment_name=\"Feature_Selection_Comparison\"\n",
    "mlflow.set_experiment(experiment_name)"
   ]
  },
  {
   "cell_type": "code",
   "execution_count": 157,
   "id": "de276203",
   "metadata": {},
   "outputs": [
    {
     "name": "stdout",
     "output_type": "stream",
     "text": [
      "Model (Numerical Columns Only) Trained\n"
     ]
    }
   ],
   "source": [
    "# Train without categorical columns (only relevant columns extracted earlier from RFECV)\n",
    "X_train_num = X_train_num[num_cols]\n",
    "scaler = StandardScaler()\n",
    "\n",
    "name = 'Model (Numerical Columns Only)'\n",
    "rf_classifier = RandomForestClassifier(random_state=42)\n",
    "pipeline_num = Pipeline([('scaler', scaler), ('model', rf_classifier)])\n",
    "result_numerical = model_tester(name, pipeline_num, X_train_num, y_train)\n",
    "result_numerical['Model'] = name"
   ]
  },
  {
   "cell_type": "code",
   "execution_count": 158,
   "id": "aa64e226",
   "metadata": {},
   "outputs": [
    {
     "name": "stdout",
     "output_type": "stream",
     "text": [
      "Model (With Gender) Trained\n"
     ]
    }
   ],
   "source": [
    "# Train with gender column\n",
    "X_train_gender = X_train[np.append(num_cols, 'gender')].copy()\n",
    "col_transform = ColumnTransformer(\n",
    "    [('scale', StandardScaler(), num_cols),\n",
    "    ('ohe', OneHotEncoder(), ['gender'])]\n",
    ")\n",
    "\n",
    "name = 'Model (With Gender)'\n",
    "rf_classifier = RandomForestClassifier(random_state=42)\n",
    "pipeline_gender = Pipeline([('col_transform', col_transform), ('model', rf_classifier)])\n",
    "result_gender = model_tester(name, pipeline_gender, X_train_gender, y_train)\n",
    "result_gender['Model'] = name"
   ]
  },
  {
   "cell_type": "code",
   "execution_count": 159,
   "id": "f09d7bf3",
   "metadata": {},
   "outputs": [
    {
     "name": "stdout",
     "output_type": "stream",
     "text": [
      "Model (With Car Model) Trained\n"
     ]
    }
   ],
   "source": [
    "# Train with car model column\n",
    "X_train_car = X_train[np.append(num_cols, 'car_model')].copy()\n",
    "col_transform = ColumnTransformer(\n",
    "    [('scale', StandardScaler(), num_cols),\n",
    "    ('ohe', OneHotEncoder(), ['car_model'])]\n",
    ")\n",
    "\n",
    "name = 'Model (With Car Model)'\n",
    "rf_classifier = RandomForestClassifier(random_state=42)\n",
    "pipeline_car = Pipeline([('col_transform', col_transform), ('model', rf_classifier)])\n",
    "result_car_model = model_tester(name, pipeline_car, X_train_car, y_train)\n",
    "result_car_model['Model'] = name"
   ]
  },
  {
   "cell_type": "code",
   "execution_count": 160,
   "id": "8dace7cd",
   "metadata": {},
   "outputs": [
    {
     "name": "stdout",
     "output_type": "stream",
     "text": [
      "Model (With Car Model & Gender) Trained\n"
     ]
    }
   ],
   "source": [
    "# Train with car model and gender column\n",
    "X_train_cat = X_train[np.append(num_cols, ['car_model', 'gender'])].copy()\n",
    "col_transform = ColumnTransformer(\n",
    "    [('scale', StandardScaler(), num_cols),\n",
    "    ('ohe', OneHotEncoder(), ['car_model', 'gender'])]\n",
    ")\n",
    "\n",
    "rf_classifier = RandomForestClassifier(random_state=42)\n",
    "name = 'Model (With Car Model & Gender)'\n",
    "pipeline_cat = Pipeline([('col_transform', col_transform), ('model', rf_classifier)])\n",
    "result_cat = model_tester(name, pipeline_cat, X_train_cat, y_train)\n",
    "result_cat['Model'] = name "
   ]
  },
  {
   "cell_type": "code",
   "execution_count": 161,
   "id": "f5911c1c",
   "metadata": {},
   "outputs": [
    {
     "data": {
      "text/html": [
       "<div>\n",
       "<style scoped>\n",
       "    .dataframe tbody tr th:only-of-type {\n",
       "        vertical-align: middle;\n",
       "    }\n",
       "\n",
       "    .dataframe tbody tr th {\n",
       "        vertical-align: top;\n",
       "    }\n",
       "\n",
       "    .dataframe thead th {\n",
       "        text-align: right;\n",
       "    }\n",
       "</style>\n",
       "<table border=\"1\" class=\"dataframe\">\n",
       "  <thead>\n",
       "    <tr style=\"text-align: right;\">\n",
       "      <th></th>\n",
       "      <th>Model</th>\n",
       "      <th>accuracy</th>\n",
       "      <th>f1</th>\n",
       "      <th>recall</th>\n",
       "      <th>precision</th>\n",
       "      <th>roc_auc</th>\n",
       "    </tr>\n",
       "  </thead>\n",
       "  <tbody>\n",
       "    <tr>\n",
       "      <th>0</th>\n",
       "      <td>Model (Numerical Columns Only)</td>\n",
       "      <td>0.770126</td>\n",
       "      <td>0.329277</td>\n",
       "      <td>0.226100</td>\n",
       "      <td>0.606249</td>\n",
       "      <td>0.697010</td>\n",
       "    </tr>\n",
       "    <tr>\n",
       "      <th>1</th>\n",
       "      <td>Model (With Gender)</td>\n",
       "      <td>0.772055</td>\n",
       "      <td>0.323433</td>\n",
       "      <td>0.218370</td>\n",
       "      <td>0.623996</td>\n",
       "      <td>0.700120</td>\n",
       "    </tr>\n",
       "    <tr>\n",
       "      <th>2</th>\n",
       "      <td>Model (With Car Model)</td>\n",
       "      <td>0.772198</td>\n",
       "      <td>0.318414</td>\n",
       "      <td>0.213222</td>\n",
       "      <td>0.629606</td>\n",
       "      <td>0.702556</td>\n",
       "    </tr>\n",
       "    <tr>\n",
       "      <th>3</th>\n",
       "      <td>Model (With Car Model &amp; Gender)</td>\n",
       "      <td>0.771127</td>\n",
       "      <td>0.314504</td>\n",
       "      <td>0.210360</td>\n",
       "      <td>0.624362</td>\n",
       "      <td>0.702035</td>\n",
       "    </tr>\n",
       "  </tbody>\n",
       "</table>\n",
       "</div>"
      ],
      "text/plain": [
       "                             Model  accuracy        f1    recall  precision  \\\n",
       "0   Model (Numerical Columns Only)  0.770126  0.329277  0.226100   0.606249   \n",
       "1              Model (With Gender)  0.772055  0.323433  0.218370   0.623996   \n",
       "2           Model (With Car Model)  0.772198  0.318414  0.213222   0.629606   \n",
       "3  Model (With Car Model & Gender)  0.771127  0.314504  0.210360   0.624362   \n",
       "\n",
       "    roc_auc  \n",
       "0  0.697010  \n",
       "1  0.700120  \n",
       "2  0.702556  \n",
       "3  0.702035  "
      ]
     },
     "metadata": {},
     "output_type": "display_data"
    }
   ],
   "source": [
    "# Display results\n",
    "result = pd.DataFrame([result_numerical, result_gender, result_car_model, result_cat])\n",
    "display(result[['Model', 'accuracy', 'f1', 'recall', 'precision', 'roc_auc']])"
   ]
  },
  {
   "cell_type": "markdown",
   "id": "030c9baf",
   "metadata": {},
   "source": [
    "# 7. Outlier Removal Techniques Comparison<a id='7'></a>\n",
    "We have 3 sets of data to compare\n",
    "1. with all outliers \n",
    "2. without outliers (univariate detection)\n",
    "3. without outliers (multivariate detection)\n",
    "\n",
    "we will use number 3 to test which feature selection and imbalanced class handling methods are best\n",
    "\n",
    "<br>\n",
    "\n",
    "- [Back to content table](#content-table)"
   ]
  },
  {
   "cell_type": "code",
   "execution_count": 189,
   "id": "bf4ee001",
   "metadata": {},
   "outputs": [],
   "source": [
    "def split_data(data):\n",
    "    # Defining X and y\n",
    "    X = data.drop(['label'], axis=1)\n",
    "    y = data['label']\n",
    "\n",
    "    # Train and test set\n",
    "    X_train, X_test, y_train, y_test = train_test_split(X, y, test_size=0.2, random_state=42, stratify=y)\n",
    "\n",
    "    return X_train, X_test, y_train, y_test"
   ]
  },
  {
   "cell_type": "code",
   "execution_count": 190,
   "id": "9bda6843",
   "metadata": {},
   "outputs": [
    {
     "name": "stderr",
     "output_type": "stream",
     "text": [
      "2023/02/07 14:23:03 INFO mlflow.tracking.fluent: Experiment with name 'Outlier_Removal_Comparison' does not exist. Creating a new experiment.\n"
     ]
    },
    {
     "data": {
      "text/plain": [
       "<Experiment: artifact_location='mlflow-artifacts:/334139857518420483', creation_time=1675750983340, experiment_id='334139857518420483', last_update_time=1675750983340, lifecycle_stage='active', name='Outlier_Removal_Comparison', tags={}>"
      ]
     },
     "execution_count": 190,
     "metadata": {},
     "output_type": "execute_result"
    }
   ],
   "source": [
    "# Creating new experiment\n",
    "experiment_name=\"Outlier_Removal_Comparison\"\n",
    "mlflow.set_experiment(experiment_name)"
   ]
  },
  {
   "cell_type": "markdown",
   "id": "42f012da",
   "metadata": {},
   "source": [
    "### Original Data (With Outliers)"
   ]
  },
  {
   "cell_type": "code",
   "execution_count": 234,
   "id": "820f1c34",
   "metadata": {},
   "outputs": [],
   "source": [
    "# Original data (with outliers)\n",
    "og_sensor_agg = pd.read_csv('og_sensor_agg.csv')\n",
    "og_sensor_agg = og_sensor_agg[['acceleration_z (Std)', 'speed (Std)', 'speed (Skew)', 'bearing (Std)', 'second (Max)', 'car_model', 'label']]\n",
    "X_train_origin, X_test_origin, y_train_origin, y_test_origin = split_data(og_sensor_agg)"
   ]
  },
  {
   "cell_type": "code",
   "execution_count": 193,
   "id": "0be5dfd0",
   "metadata": {},
   "outputs": [
    {
     "name": "stdout",
     "output_type": "stream",
     "text": [
      "Model (With Outliers) Trained\n"
     ]
    }
   ],
   "source": [
    "# Original dataset\n",
    "col_transform = ColumnTransformer(\n",
    "    [('scale', StandardScaler(), num_cols),\n",
    "    ('ohe', OneHotEncoder(), ['car_model'])]\n",
    ")\n",
    "name = 'Model (With Outliers)'\n",
    "rf_classifier = RandomForestClassifier(random_state=42)\n",
    "pipeline_origin = Pipeline([('col_transform', col_transform), ('model', rf_classifier)])\n",
    "result_origin = model_tester(name, pipeline_origin, X_train_origin, y_train_origin)\n",
    "result_origin['Model'] = name "
   ]
  },
  {
   "cell_type": "markdown",
   "id": "ffe49eaf",
   "metadata": {},
   "source": [
    "### Inliers from Univariate Outlier Removal"
   ]
  },
  {
   "cell_type": "code",
   "execution_count": 194,
   "id": "36ba3100",
   "metadata": {},
   "outputs": [],
   "source": [
    "# Inliers (Univariate Outlier removal)\n",
    "univariate_outlier_sensor_agg = pd.read_csv('univariate_outlier_sensor_agg.csv')\n",
    "univariate_outlier_sensor_agg = univariate_outlier_sensor_agg[['acceleration_z (Std)', 'speed (Std)', 'speed (Skew)', 'bearing (Std)', 'second (Max)', 'car_model', 'label']]\n",
    "X_train_uni, X_test_uni, y_train_uni, y_test_uni = split_data(univariate_outlier_sensor_agg)"
   ]
  },
  {
   "cell_type": "code",
   "execution_count": 195,
   "id": "e11dcd16",
   "metadata": {},
   "outputs": [
    {
     "name": "stdout",
     "output_type": "stream",
     "text": [
      "Model (Univariate Outlier Removal) Trained\n"
     ]
    }
   ],
   "source": [
    "# Univariate outlier removal \n",
    "col_transform = ColumnTransformer(\n",
    "    [('scale', StandardScaler(), num_cols),\n",
    "    ('ohe', OneHotEncoder(), ['car_model'])]\n",
    ")\n",
    "name = 'Model (Univariate Outlier Removal)'\n",
    "rf_classifier = RandomForestClassifier(random_state=42)\n",
    "pipeline_uni = Pipeline([('col_transform', col_transform), ('model', rf_classifier)])\n",
    "result_uni = model_tester(name, pipeline_uni, X_train_uni, y_train_uni)\n",
    "result_uni['Model'] = name "
   ]
  },
  {
   "cell_type": "markdown",
   "id": "ac876ea1",
   "metadata": {},
   "source": [
    "### Inliers from Multivariate Outlier Removal"
   ]
  },
  {
   "cell_type": "code",
   "execution_count": 196,
   "id": "5c5ab2f4",
   "metadata": {},
   "outputs": [],
   "source": [
    "# Inliers (Multivariate Outlier removal)\n",
    "multivariate_outlier_sensor_agg = pd.read_csv('multivariate_outlier_sensor_agg.csv')\n",
    "multivariate_outlier_sensor_agg = multivariate_outlier_sensor_agg[['acceleration_z (Std)', 'speed (Std)', 'speed (Skew)', 'bearing (Std)', 'second (Max)', 'car_model', 'label']]\n",
    "X_train_multi, X_test_multi, y_train_multi, y_test_multi = split_data(multivariate_outlier_sensor_agg)"
   ]
  },
  {
   "cell_type": "code",
   "execution_count": 197,
   "id": "883cb02b",
   "metadata": {},
   "outputs": [
    {
     "name": "stdout",
     "output_type": "stream",
     "text": [
      "Model (Multivariate Outlier Removal) Trained\n"
     ]
    }
   ],
   "source": [
    "# Inliers (Multivariate Outlier removal)\n",
    "col_transform = ColumnTransformer(\n",
    "    [('scale', StandardScaler(), num_cols),\n",
    "    ('ohe', OneHotEncoder(), ['car_model'])]\n",
    ")\n",
    "name = 'Model (Multivariate Outlier Removal)'\n",
    "rf_classifier = RandomForestClassifier(random_state=42)\n",
    "pipeline_multi = Pipeline([('col_transform', col_transform), ('model', rf_classifier)])\n",
    "result_multi = model_tester(name, pipeline_multi, X_train_multi, y_train_multi)\n",
    "result_multi['Model'] = name "
   ]
  },
  {
   "cell_type": "code",
   "execution_count": 188,
   "id": "cd62a8ba",
   "metadata": {},
   "outputs": [
    {
     "data": {
      "text/html": [
       "<div>\n",
       "<style scoped>\n",
       "    .dataframe tbody tr th:only-of-type {\n",
       "        vertical-align: middle;\n",
       "    }\n",
       "\n",
       "    .dataframe tbody tr th {\n",
       "        vertical-align: top;\n",
       "    }\n",
       "\n",
       "    .dataframe thead th {\n",
       "        text-align: right;\n",
       "    }\n",
       "</style>\n",
       "<table border=\"1\" class=\"dataframe\">\n",
       "  <thead>\n",
       "    <tr style=\"text-align: right;\">\n",
       "      <th></th>\n",
       "      <th>Model</th>\n",
       "      <th>accuracy</th>\n",
       "      <th>f1</th>\n",
       "      <th>recall</th>\n",
       "      <th>precision</th>\n",
       "      <th>roc_auc</th>\n",
       "    </tr>\n",
       "  </thead>\n",
       "  <tbody>\n",
       "    <tr>\n",
       "      <th>0</th>\n",
       "      <td>Model (With Outliers)</td>\n",
       "      <td>0.774000</td>\n",
       "      <td>0.331982</td>\n",
       "      <td>0.225089</td>\n",
       "      <td>0.632901</td>\n",
       "      <td>0.704892</td>\n",
       "    </tr>\n",
       "    <tr>\n",
       "      <th>1</th>\n",
       "      <td>Model (Univariate Outlier Removal)</td>\n",
       "      <td>0.771500</td>\n",
       "      <td>0.328926</td>\n",
       "      <td>0.224338</td>\n",
       "      <td>0.616468</td>\n",
       "      <td>0.703967</td>\n",
       "    </tr>\n",
       "    <tr>\n",
       "      <th>2</th>\n",
       "      <td>Model (Multivariate Outlier Removal)</td>\n",
       "      <td>0.767485</td>\n",
       "      <td>0.311381</td>\n",
       "      <td>0.210563</td>\n",
       "      <td>0.598905</td>\n",
       "      <td>0.700348</td>\n",
       "    </tr>\n",
       "  </tbody>\n",
       "</table>\n",
       "</div>"
      ],
      "text/plain": [
       "                                  Model  accuracy        f1    recall  \\\n",
       "0                 Model (With Outliers)  0.774000  0.331982  0.225089   \n",
       "1    Model (Univariate Outlier Removal)  0.771500  0.328926  0.224338   \n",
       "2  Model (Multivariate Outlier Removal)  0.767485  0.311381  0.210563   \n",
       "\n",
       "   precision   roc_auc  \n",
       "0   0.632901  0.704892  \n",
       "1   0.616468  0.703967  \n",
       "2   0.598905  0.700348  "
      ]
     },
     "metadata": {},
     "output_type": "display_data"
    }
   ],
   "source": [
    "# Display results\n",
    "result = pd.DataFrame([result_origin, result_uni, result_multi])\n",
    "display(result[['Model', 'accuracy', 'f1', 'recall', 'precision', 'roc_auc']])"
   ]
  },
  {
   "cell_type": "markdown",
   "id": "f4cd8165",
   "metadata": {},
   "source": [
    "**Note that the scores above are NOT comparable with one another because these are just CV results, they are NOT compared against the same data which is supposed to be the holdout original sensor data with outlier**. Hence see below for more objective comparison 😊"
   ]
  },
  {
   "cell_type": "markdown",
   "id": "cc0b7af7",
   "metadata": {},
   "source": [
    "### Testing on original holdout set with outliers\n",
    "- We tested against the dataset with outliers because this is based on the assumption that the sensor we are using is the same as the taxi driver's\n",
    "\n",
    "A manual split function with shuffling will be made as the values of each dataset is different, thus, even setting random_state in the train_test_split may not result in the same split across the different datasets."
   ]
  },
  {
   "cell_type": "code",
   "execution_count": null,
   "id": "b273adf1",
   "metadata": {},
   "outputs": [],
   "source": [
    "# Shuffle indexes\n",
    "idx = np.arange(20000)\n",
    "np.random.shuffle(idx)\n",
    "train_idx = idx[:16000]\n",
    "test_idx = idx[16000:]"
   ]
  },
  {
   "cell_type": "code",
   "execution_count": 4,
   "id": "f2c2bcac",
   "metadata": {},
   "outputs": [],
   "source": [
    "def manual_split(data):\n",
    "    X = data.drop(['label'], axis=1)\n",
    "    y = data['label']\n",
    "\n",
    "    X_train = X.iloc[train_idx]\n",
    "    y_train = y.iloc[train_idx]\n",
    "\n",
    "    X_test = X.iloc[test_idx]\n",
    "    y_test = y.iloc[test_idx]\n",
    "\n",
    "    return X_train, X_test, y_train, y_test"
   ]
  },
  {
   "cell_type": "code",
   "execution_count": 5,
   "id": "7ad30de9",
   "metadata": {},
   "outputs": [],
   "source": [
    "# Original data (with outliers)\n",
    "og_sensor_agg = pd.read_csv('og_sensor_agg.csv')\n",
    "og_sensor_agg = og_sensor_agg[['acceleration_z (Std)', 'speed (Std)', 'speed (Skew)', 'bearing (Std)', 'second (Max)', 'car_model', 'label']]\n",
    "X_train_origin, X_test_origin, y_train_origin, y_test_origin = manual_split(og_sensor_agg)\n",
    "\n",
    "# Inliers (Univariate Outlier removal)\n",
    "univariate_outlier_sensor_agg = pd.read_csv('univariate_outlier_sensor_agg.csv')\n",
    "univariate_outlier_sensor_agg = univariate_outlier_sensor_agg[['acceleration_z (Std)', 'speed (Std)', 'speed (Skew)', 'bearing (Std)', 'second (Max)', 'car_model', 'label']]\n",
    "X_train_uni, X_test_uni, y_train_uni, y_test_uni = manual_split(univariate_outlier_sensor_agg)\n",
    "\n",
    "# Inliers (Multivariate Outlier removal)\n",
    "multivariate_outlier_sensor_agg = pd.read_csv('multivariate_outlier_sensor_agg.csv')\n",
    "multivariate_outlier_sensor_agg = multivariate_outlier_sensor_agg[['acceleration_z (Std)', 'speed (Std)', 'speed (Skew)', 'bearing (Std)', 'second (Max)', 'car_model', 'label']]\n",
    "X_train_multi, X_test_multi, y_train_multi, y_test_multi = manual_split(multivariate_outlier_sensor_agg)"
   ]
  },
  {
   "cell_type": "code",
   "execution_count": 8,
   "id": "698af445",
   "metadata": {},
   "outputs": [],
   "source": [
    "from sklearn import metrics\n",
    "\n",
    "def show_results(y_test, y_pred):\n",
    "    fig, ax = plt.subplots(2, 1, figsize=(5, 5))\n",
    "    # Plot confusion matrix\n",
    "    cm = metrics.confusion_matrix(y_test, y_pred)\n",
    "    sns.heatmap(cm, annot=True, cmap='Blues', fmt='g', linewidths=0.1, linecolor='gray', ax=ax[0])\n",
    "    ax[0].set_title('Confusion Matrix')\n",
    "\n",
    "    # Plot ROC Curve\n",
    "    fpr, tpr, thresholds = metrics.roc_curve(y_test,  y_pred)\n",
    "    ax[1].plot([0, 1], [0, 1], 'k--')\n",
    "    ax[1].plot(fpr, tpr)\n",
    "    ax[1].set_xlabel('False Positive Rate')\n",
    "    ax[1].set_ylabel('True Positive Rate')\n",
    "    ax[1].set_title(f'ROC Curve')\n",
    "    plt.tight_layout()\n",
    "    plt.show()\n",
    "\n",
    "    # Metrics\n",
    "    # Accuracy\n",
    "    accuracy_score = metrics.accuracy_score(y_test, y_pred)\n",
    "    print(f'\\nAccuracy Score: {accuracy_score:.3f}')\n",
    "\n",
    "    # Recall Score\n",
    "    recall_score = metrics.recall_score(y_test, y_pred)\n",
    "    print(f'\\nRecall Score: {recall_score:.3f}')\n",
    "\n",
    "    # Precision Score\n",
    "    precision_score = metrics.precision_score(y_test, y_pred)\n",
    "    print(f'\\nPrecision Score: {precision_score:.3f}')\n",
    "\n",
    "    # F1 Score\n",
    "    f1_score = metrics.f1_score(y_test, y_pred)\n",
    "    print(f'\\nF1 Score: {f1_score:.3f}')\n",
    "\n",
    "    # AUC Score\n",
    "    print(f'\\nAUC Score: {metrics.roc_auc_score(y_test, y_pred):.3f}')"
   ]
  },
  {
   "cell_type": "code",
   "execution_count": 272,
   "id": "4a5989a7",
   "metadata": {},
   "outputs": [],
   "source": [
    "# Original dataset\n",
    "col_transform = ColumnTransformer(\n",
    "    [('scale', StandardScaler(), num_cols),\n",
    "    ('ohe', OneHotEncoder(), ['car_model'])]\n",
    ")\n",
    "name = 'Model (With Outliers)'\n",
    "rf_classifier = RandomForestClassifier(random_state=42)\n",
    "pipeline_origin = Pipeline([('col_transform', col_transform), ('model', rf_classifier)])\n",
    "\n",
    "# Train on original dataset (with outliers)\n",
    "pipeline_origin.fit(X_train_origin, y_train_origin)\n",
    "# Test on original test set with outliers\n",
    "yhat_origin = pipeline_origin.predict(X_test_origin)"
   ]
  },
  {
   "cell_type": "code",
   "execution_count": 273,
   "id": "2e45d917",
   "metadata": {},
   "outputs": [
    {
     "data": {
      "image/png": "[encoded data removed]",
      "text/plain": [
       "<Figure size 500x500 with 3 Axes>"
      ]
     },
     "metadata": {},
     "output_type": "display_data"
    },
    {
     "name": "stdout",
     "output_type": "stream",
     "text": [
      "\n",
      "Accuracy Score: 0.771\n",
      "\n",
      "Recall Score: 0.226\n",
      "\n",
      "Precision Score: 0.612\n",
      "\n",
      "F1 Score: 0.331\n",
      "\n",
      "AUC Score: 0.589\n"
     ]
    }
   ],
   "source": [
    "show_results(y_test_origin, yhat_origin)"
   ]
  },
  {
   "cell_type": "code",
   "execution_count": 274,
   "id": "597be556",
   "metadata": {},
   "outputs": [],
   "source": [
    "# Univariate outlier removal \n",
    "col_transform = ColumnTransformer(\n",
    "    [('scale', StandardScaler(), num_cols),\n",
    "    ('ohe', OneHotEncoder(), ['car_model'])]\n",
    ")\n",
    "rf_classifier = RandomForestClassifier(random_state=42)\n",
    "pipeline_uni = Pipeline([('col_transform', col_transform), ('model', rf_classifier)])\n",
    "\n",
    "# Train on inliers from univariate outlier removal \n",
    "pipeline_uni.fit(X_train_uni, y_train_uni)\n",
    "# Test on original test set with outliers\n",
    "yhat_uni = pipeline_uni.predict(X_test_origin)"
   ]
  },
  {
   "cell_type": "code",
   "execution_count": 275,
   "id": "aae8ccbc",
   "metadata": {},
   "outputs": [
    {
     "data": {
      "image/png": "[encoded data removed]",
      "text/plain": [
       "<Figure size 500x500 with 3 Axes>"
      ]
     },
     "metadata": {},
     "output_type": "display_data"
    },
    {
     "name": "stdout",
     "output_type": "stream",
     "text": [
      "\n",
      "Accuracy Score: 0.772\n",
      "\n",
      "Recall Score: 0.232\n",
      "\n",
      "Precision Score: 0.617\n",
      "\n",
      "F1 Score: 0.338\n",
      "\n",
      "AUC Score: 0.592\n"
     ]
    }
   ],
   "source": [
    "show_results(y_test_origin, yhat_uni)"
   ]
  },
  {
   "cell_type": "code",
   "execution_count": 276,
   "id": "2b172ee0",
   "metadata": {},
   "outputs": [],
   "source": [
    "# Inliers (Multivariate Outlier removal)\n",
    "col_transform = ColumnTransformer(\n",
    "    [('scale', StandardScaler(), num_cols),\n",
    "    ('ohe', OneHotEncoder(), ['car_model'])]\n",
    ")\n",
    "rf_classifier = RandomForestClassifier(random_state=42)\n",
    "pipeline_multi = Pipeline([('col_transform', col_transform), ('model', rf_classifier)])\n",
    "\n",
    "# Train on inliers from Multivariate outlier removal \n",
    "pipeline_multi.fit(X_train_multi, y_train_multi)\n",
    "# Test on original test set with outliers\n",
    "yhat_multi = pipeline_multi.predict(X_test_origin)"
   ]
  },
  {
   "cell_type": "code",
   "execution_count": 277,
   "id": "125c94a8",
   "metadata": {},
   "outputs": [
    {
     "data": {
      "image/png": "[encoded data removed]",
      "text/plain": [
       "<Figure size 500x500 with 3 Axes>"
      ]
     },
     "metadata": {},
     "output_type": "display_data"
    },
    {
     "name": "stdout",
     "output_type": "stream",
     "text": [
      "\n",
      "Accuracy Score: 0.772\n",
      "\n",
      "Recall Score: 0.237\n",
      "\n",
      "Precision Score: 0.609\n",
      "\n",
      "F1 Score: 0.342\n",
      "\n",
      "AUC Score: 0.593\n"
     ]
    }
   ],
   "source": [
    "show_results(y_test_origin, yhat_multi)"
   ]
  },
  {
   "cell_type": "markdown",
   "id": "99fb4aa0",
   "metadata": {},
   "source": [
    "We tested the multivariate outlier removal training data with the original outlier testing data and seems like the multivariate removal data provided the best F1 score of (0.342) during testing.<br><br>\n",
    "\n",
    "Note that all three original, univariate and multivariate are splitted with the same indices to keep data leakage to a minimum."
   ]
  },
  {
   "cell_type": "markdown",
   "id": "9b67127a",
   "metadata": {},
   "source": [
    "# 8. Handling Imbalanced Classes<a id='8'></a>\n",
    "* Undersampling\n",
    "* Random Oversampling\n",
    "* SMOTE\n",
    "\n",
    "<br>\n",
    "\n",
    "- [Back to content table](#content-table)"
   ]
  },
  {
   "cell_type": "code",
   "execution_count": 281,
   "id": "ae320844",
   "metadata": {},
   "outputs": [
    {
     "name": "stderr",
     "output_type": "stream",
     "text": [
      "2023/02/07 15:29:53 INFO mlflow.tracking.fluent: Experiment with name 'SamplingMethods_Comparison' does not exist. Creating a new experiment.\n"
     ]
    },
    {
     "data": {
      "text/plain": [
       "<Experiment: artifact_location='mlflow-artifacts:/383827778368243504', creation_time=1675754993188, experiment_id='383827778368243504', last_update_time=1675754993188, lifecycle_stage='active', name='SamplingMethods_Comparison', tags={}>"
      ]
     },
     "execution_count": 281,
     "metadata": {},
     "output_type": "execute_result"
    }
   ],
   "source": [
    "# Creating new experiment\n",
    "experiment_name=\"SamplingMethods_Comparison\"\n",
    "mlflow.set_experiment(experiment_name)"
   ]
  },
  {
   "cell_type": "markdown",
   "id": "d2fc41a2",
   "metadata": {},
   "source": [
    "### Base (no sampling)"
   ]
  },
  {
   "cell_type": "code",
   "execution_count": 282,
   "id": "a1fd037f",
   "metadata": {},
   "outputs": [
    {
     "name": "stdout",
     "output_type": "stream",
     "text": [
      "Model (No Sampling) Trained\n"
     ]
    }
   ],
   "source": [
    "# No sampling methods\n",
    "col_transform = ColumnTransformer(\n",
    "    [('scale', StandardScaler(), num_cols),\n",
    "    ('ohe', OneHotEncoder(), ['car_model'])]\n",
    ")\n",
    "\n",
    "rf_classifier = RandomForestClassifier(random_state=42)\n",
    "pipeline_base = Pipeline([\n",
    "    ('col_transform', col_transform),\n",
    "    ('model', rf_classifier)])\n",
    "\n",
    "name = 'Model (No Sampling)'\n",
    "result_base = model_tester(name, pipeline_base, X_train_multi, y_train_multi)\n",
    "result_base['Model'] = name"
   ]
  },
  {
   "cell_type": "markdown",
   "id": "13aa2474",
   "metadata": {},
   "source": [
    "### Undersampling"
   ]
  },
  {
   "cell_type": "code",
   "execution_count": 283,
   "id": "daa9147e",
   "metadata": {
    "scrolled": true
   },
   "outputs": [
    {
     "name": "stderr",
     "output_type": "stream",
     "text": [
      "c:\\Users\\quahj\\anaconda3\\envs\\PAI\\lib\\site-packages\\sklearn\\cluster\\_kmeans.py:870: FutureWarning: The default value of `n_init` will change from 10 to 'auto' in 1.4. Set the value of `n_init` explicitly to suppress the warning\n",
      "  warnings.warn(\n",
      "c:\\Users\\quahj\\anaconda3\\envs\\PAI\\lib\\site-packages\\sklearn\\cluster\\_kmeans.py:870: FutureWarning: The default value of `n_init` will change from 10 to 'auto' in 1.4. Set the value of `n_init` explicitly to suppress the warning\n",
      "  warnings.warn(\n",
      "c:\\Users\\quahj\\anaconda3\\envs\\PAI\\lib\\site-packages\\sklearn\\cluster\\_kmeans.py:870: FutureWarning: The default value of `n_init` will change from 10 to 'auto' in 1.4. Set the value of `n_init` explicitly to suppress the warning\n",
      "  warnings.warn(\n",
      "c:\\Users\\quahj\\anaconda3\\envs\\PAI\\lib\\site-packages\\sklearn\\cluster\\_kmeans.py:870: FutureWarning: The default value of `n_init` will change from 10 to 'auto' in 1.4. Set the value of `n_init` explicitly to suppress the warning\n",
      "  warnings.warn(\n",
      "c:\\Users\\quahj\\anaconda3\\envs\\PAI\\lib\\site-packages\\sklearn\\cluster\\_kmeans.py:870: FutureWarning: The default value of `n_init` will change from 10 to 'auto' in 1.4. Set the value of `n_init` explicitly to suppress the warning\n",
      "  warnings.warn(\n",
      "c:\\Users\\quahj\\anaconda3\\envs\\PAI\\lib\\site-packages\\sklearn\\cluster\\_kmeans.py:870: FutureWarning: The default value of `n_init` will change from 10 to 'auto' in 1.4. Set the value of `n_init` explicitly to suppress the warning\n",
      "  warnings.warn(\n",
      "c:\\Users\\quahj\\anaconda3\\envs\\PAI\\lib\\site-packages\\sklearn\\cluster\\_kmeans.py:870: FutureWarning: The default value of `n_init` will change from 10 to 'auto' in 1.4. Set the value of `n_init` explicitly to suppress the warning\n",
      "  warnings.warn(\n",
      "c:\\Users\\quahj\\anaconda3\\envs\\PAI\\lib\\site-packages\\sklearn\\cluster\\_kmeans.py:870: FutureWarning: The default value of `n_init` will change from 10 to 'auto' in 1.4. Set the value of `n_init` explicitly to suppress the warning\n",
      "  warnings.warn(\n",
      "c:\\Users\\quahj\\anaconda3\\envs\\PAI\\lib\\site-packages\\sklearn\\cluster\\_kmeans.py:870: FutureWarning: The default value of `n_init` will change from 10 to 'auto' in 1.4. Set the value of `n_init` explicitly to suppress the warning\n",
      "  warnings.warn(\n",
      "c:\\Users\\quahj\\anaconda3\\envs\\PAI\\lib\\site-packages\\sklearn\\cluster\\_kmeans.py:870: FutureWarning: The default value of `n_init` will change from 10 to 'auto' in 1.4. Set the value of `n_init` explicitly to suppress the warning\n",
      "  warnings.warn(\n",
      "c:\\Users\\quahj\\anaconda3\\envs\\PAI\\lib\\site-packages\\sklearn\\cluster\\_kmeans.py:870: FutureWarning: The default value of `n_init` will change from 10 to 'auto' in 1.4. Set the value of `n_init` explicitly to suppress the warning\n",
      "  warnings.warn(\n",
      "c:\\Users\\quahj\\anaconda3\\envs\\PAI\\lib\\site-packages\\sklearn\\cluster\\_kmeans.py:870: FutureWarning: The default value of `n_init` will change from 10 to 'auto' in 1.4. Set the value of `n_init` explicitly to suppress the warning\n",
      "  warnings.warn(\n",
      "c:\\Users\\quahj\\anaconda3\\envs\\PAI\\lib\\site-packages\\sklearn\\cluster\\_kmeans.py:870: FutureWarning: The default value of `n_init` will change from 10 to 'auto' in 1.4. Set the value of `n_init` explicitly to suppress the warning\n",
      "  warnings.warn(\n",
      "c:\\Users\\quahj\\anaconda3\\envs\\PAI\\lib\\site-packages\\sklearn\\cluster\\_kmeans.py:870: FutureWarning: The default value of `n_init` will change from 10 to 'auto' in 1.4. Set the value of `n_init` explicitly to suppress the warning\n",
      "  warnings.warn(\n",
      "c:\\Users\\quahj\\anaconda3\\envs\\PAI\\lib\\site-packages\\sklearn\\cluster\\_kmeans.py:870: FutureWarning: The default value of `n_init` will change from 10 to 'auto' in 1.4. Set the value of `n_init` explicitly to suppress the warning\n",
      "  warnings.warn(\n",
      "c:\\Users\\quahj\\anaconda3\\envs\\PAI\\lib\\site-packages\\sklearn\\cluster\\_kmeans.py:870: FutureWarning: The default value of `n_init` will change from 10 to 'auto' in 1.4. Set the value of `n_init` explicitly to suppress the warning\n",
      "  warnings.warn(\n",
      "c:\\Users\\quahj\\anaconda3\\envs\\PAI\\lib\\site-packages\\sklearn\\cluster\\_kmeans.py:870: FutureWarning: The default value of `n_init` will change from 10 to 'auto' in 1.4. Set the value of `n_init` explicitly to suppress the warning\n",
      "  warnings.warn(\n",
      "c:\\Users\\quahj\\anaconda3\\envs\\PAI\\lib\\site-packages\\sklearn\\cluster\\_kmeans.py:870: FutureWarning: The default value of `n_init` will change from 10 to 'auto' in 1.4. Set the value of `n_init` explicitly to suppress the warning\n",
      "  warnings.warn(\n",
      "c:\\Users\\quahj\\anaconda3\\envs\\PAI\\lib\\site-packages\\sklearn\\cluster\\_kmeans.py:870: FutureWarning: The default value of `n_init` will change from 10 to 'auto' in 1.4. Set the value of `n_init` explicitly to suppress the warning\n",
      "  warnings.warn(\n",
      "c:\\Users\\quahj\\anaconda3\\envs\\PAI\\lib\\site-packages\\sklearn\\cluster\\_kmeans.py:870: FutureWarning: The default value of `n_init` will change from 10 to 'auto' in 1.4. Set the value of `n_init` explicitly to suppress the warning\n",
      "  warnings.warn(\n"
     ]
    },
    {
     "name": "stdout",
     "output_type": "stream",
     "text": [
      "Model (Under Sampling - Cluster Centroids) Trained\n"
     ]
    }
   ],
   "source": [
    "from imblearn.pipeline import Pipeline as imb_Pipeline\n",
    "from imblearn.under_sampling import ClusterCentroids\n",
    "\n",
    "col_transform = ColumnTransformer(\n",
    "    [('scale', StandardScaler(), num_cols),\n",
    "    ('ohe', OneHotEncoder(), ['car_model'])]\n",
    ")\n",
    "\n",
    "us_pipeline = imb_Pipeline(steps=[\n",
    "    ('col_transform', col_transform),\n",
    "    ('us', ClusterCentroids(random_state=42)),\n",
    "    ('model', RandomForestClassifier(random_state=42))\n",
    "])\n",
    "\n",
    "name = 'Model (Under Sampling - Cluster Centroids)'\n",
    "result_us = model_tester(name, us_pipeline, X_train_multi, y_train_multi)\n",
    "result_us['Model'] = name"
   ]
  },
  {
   "cell_type": "markdown",
   "id": "a034cbe4",
   "metadata": {},
   "source": [
    "Ignore depreciation warnings..."
   ]
  },
  {
   "cell_type": "markdown",
   "id": "35c4519d",
   "metadata": {},
   "source": [
    "### Oversampling SMOTE"
   ]
  },
  {
   "cell_type": "code",
   "execution_count": 285,
   "id": "16f9d124",
   "metadata": {},
   "outputs": [
    {
     "name": "stdout",
     "output_type": "stream",
     "text": [
      "Model (SMOTE) Trained\n"
     ]
    }
   ],
   "source": [
    "from imblearn.over_sampling import SMOTE\n",
    "\n",
    "col_transform = ColumnTransformer(\n",
    "    [('scale', StandardScaler(), num_cols),\n",
    "    ('ohe', OneHotEncoder(), ['car_model'])]\n",
    ")\n",
    "\n",
    "smote_pipeline = imb_Pipeline(steps=[\n",
    "    ('col_transform', col_transform),\n",
    "    ('os', SMOTE(random_state=42)),\n",
    "    ('model', RandomForestClassifier(random_state=42))\n",
    "])\n",
    "\n",
    "name = 'Model (SMOTE)'\n",
    "result_smote = model_tester(name, smote_pipeline, X_train_multi, y_train_multi)\n",
    "result_smote['Model'] = name"
   ]
  },
  {
   "cell_type": "markdown",
   "id": "1877d529",
   "metadata": {},
   "source": [
    "### Oversampling Random"
   ]
  },
  {
   "cell_type": "code",
   "execution_count": 286,
   "id": "d8c9e3ce",
   "metadata": {},
   "outputs": [
    {
     "name": "stdout",
     "output_type": "stream",
     "text": [
      "Model (Random Oversampling) Trained\n"
     ]
    }
   ],
   "source": [
    "from imblearn.over_sampling import RandomOverSampler\n",
    "\n",
    "col_transform = ColumnTransformer(\n",
    "    [('scale', StandardScaler(), num_cols),\n",
    "    ('ohe', OneHotEncoder(), ['car_model'])]\n",
    ")\n",
    "\n",
    "random_os_pipeline = imb_Pipeline(steps=[\n",
    "    ('col_transform', col_transform),\n",
    "    ('os', RandomOverSampler(random_state=42)),\n",
    "    ('model', RandomForestClassifier(random_state=42))\n",
    "])\n",
    "\n",
    "name = 'Model (Random Oversampling)'\n",
    "result_random_os = model_tester(name, random_os_pipeline, X_train_multi, y_train_multi)\n",
    "result_random_os['Model'] = name"
   ]
  },
  {
   "cell_type": "code",
   "execution_count": 133,
   "id": "12ead6a6",
   "metadata": {},
   "outputs": [
    {
     "data": {
      "text/html": [
       "<div>\n",
       "<style scoped>\n",
       "    .dataframe tbody tr th:only-of-type {\n",
       "        vertical-align: middle;\n",
       "    }\n",
       "\n",
       "    .dataframe tbody tr th {\n",
       "        vertical-align: top;\n",
       "    }\n",
       "\n",
       "    .dataframe thead th {\n",
       "        text-align: right;\n",
       "    }\n",
       "</style>\n",
       "<table border=\"1\" class=\"dataframe\">\n",
       "  <thead>\n",
       "    <tr style=\"text-align: right;\">\n",
       "      <th></th>\n",
       "      <th>Model</th>\n",
       "      <th>Accuracy</th>\n",
       "      <th>Recall</th>\n",
       "      <th>F1</th>\n",
       "    </tr>\n",
       "  </thead>\n",
       "  <tbody>\n",
       "    <tr>\n",
       "      <th>0</th>\n",
       "      <td>Base</td>\n",
       "      <td>0.779786</td>\n",
       "      <td>0.189986</td>\n",
       "      <td>0.300914</td>\n",
       "    </tr>\n",
       "    <tr>\n",
       "      <th>1</th>\n",
       "      <td>UnderSampleCC</td>\n",
       "      <td>0.459286</td>\n",
       "      <td>0.827754</td>\n",
       "      <td>0.433260</td>\n",
       "    </tr>\n",
       "    <tr>\n",
       "      <th>2</th>\n",
       "      <td>OversampleSMOTE</td>\n",
       "      <td>0.727857</td>\n",
       "      <td>0.369099</td>\n",
       "      <td>0.403734</td>\n",
       "    </tr>\n",
       "    <tr>\n",
       "      <th>3</th>\n",
       "      <td>OversampleRandom</td>\n",
       "      <td>0.770714</td>\n",
       "      <td>0.236624</td>\n",
       "      <td>0.339896</td>\n",
       "    </tr>\n",
       "  </tbody>\n",
       "</table>\n",
       "</div>"
      ],
      "text/plain": [
       "              Model  Accuracy    Recall        F1\n",
       "0              Base  0.779786  0.189986  0.300914\n",
       "1     UnderSampleCC  0.459286  0.827754  0.433260\n",
       "2   OversampleSMOTE  0.727857  0.369099  0.403734\n",
       "3  OversampleRandom  0.770714  0.236624  0.339896"
      ]
     },
     "metadata": {},
     "output_type": "display_data"
    }
   ],
   "source": [
    "# Display results\n",
    "result = pd.DataFrame([result_base, result_us, result_smote, result_random_os])\n",
    "display(result[['Model', 'accuracy', 'f1', 'recall', 'precision', 'roc_auc']])"
   ]
  },
  {
   "cell_type": "markdown",
   "id": "55cc3e59",
   "metadata": {},
   "source": [
    "# 9. Model Comparison<a id='9'></a>\n",
    "\n",
    "<br>\n",
    "\n",
    "- [Back to content table](#content-table)"
   ]
  },
  {
   "cell_type": "code",
   "execution_count": 288,
   "id": "a2896731",
   "metadata": {},
   "outputs": [
    {
     "name": "stderr",
     "output_type": "stream",
     "text": [
      "2023/02/07 16:00:42 INFO mlflow.tracking.fluent: Experiment with name 'Model_Comparison' does not exist. Creating a new experiment.\n"
     ]
    },
    {
     "data": {
      "text/plain": [
       "<Experiment: artifact_location='mlflow-artifacts:/304381444826432551', creation_time=1675756842270, experiment_id='304381444826432551', last_update_time=1675756842270, lifecycle_stage='active', name='Model_Comparison', tags={}>"
      ]
     },
     "execution_count": 288,
     "metadata": {},
     "output_type": "execute_result"
    }
   ],
   "source": [
    "# Creating new experiment\n",
    "experiment_name=\"Model_Comparison\"\n",
    "mlflow.set_experiment(experiment_name)"
   ]
  },
  {
   "cell_type": "code",
   "execution_count": 291,
   "id": "fe5790e6",
   "metadata": {},
   "outputs": [
    {
     "name": "stdout",
     "output_type": "stream",
     "text": [
      "LogisticRegression Trained\n",
      "KNeighbors Trained\n",
      "DecisionTree Trained\n",
      "RandomForest Trained\n",
      "GradientBoosting Trained\n",
      "BaggingClassifier Trained\n",
      "GaussianNaiveBayes Trained\n",
      "SupportVectorClassifier Trained\n",
      "SGDClassifier Trained\n",
      "AdaBoost Trained\n"
     ]
    },
    {
     "name": "stderr",
     "output_type": "stream",
     "text": [
      "c:\\Users\\quahj\\anaconda3\\envs\\PAI\\lib\\site-packages\\sklearn\\metrics\\_classification.py:1344: UndefinedMetricWarning: Precision is ill-defined and being set to 0.0 due to no predicted samples. Use `zero_division` parameter to control this behavior.\n",
      "  _warn_prf(average, modifier, msg_start, len(result))\n",
      "c:\\Users\\quahj\\anaconda3\\envs\\PAI\\lib\\site-packages\\sklearn\\metrics\\_classification.py:1344: UndefinedMetricWarning: Precision is ill-defined and being set to 0.0 due to no predicted samples. Use `zero_division` parameter to control this behavior.\n",
      "  _warn_prf(average, modifier, msg_start, len(result))\n",
      "c:\\Users\\quahj\\anaconda3\\envs\\PAI\\lib\\site-packages\\sklearn\\metrics\\_classification.py:1344: UndefinedMetricWarning: Precision is ill-defined and being set to 0.0 due to no predicted samples. Use `zero_division` parameter to control this behavior.\n",
      "  _warn_prf(average, modifier, msg_start, len(result))\n",
      "c:\\Users\\quahj\\anaconda3\\envs\\PAI\\lib\\site-packages\\sklearn\\metrics\\_classification.py:1344: UndefinedMetricWarning: Precision is ill-defined and being set to 0.0 due to no predicted samples. Use `zero_division` parameter to control this behavior.\n",
      "  _warn_prf(average, modifier, msg_start, len(result))\n"
     ]
    },
    {
     "name": "stdout",
     "output_type": "stream",
     "text": [
      "DummyClassifier (Frequent) Trained\n",
      "DummyClassifier (Stratified) Trained\n",
      "DummyClassifier (Uniform) Trained\n"
     ]
    }
   ],
   "source": [
    "# Model Comparisons\n",
    "random_state = 42\n",
    "models = [\n",
    "    ('LogisticRegression', LogisticRegression(random_state=random_state)),\n",
    "    ('KNeighbors', KNeighborsClassifier()),\n",
    "    ('DecisionTree', DecisionTreeClassifier(random_state=random_state)),\n",
    "    ('RandomForest', RandomForestClassifier(random_state=random_state)),\n",
    "    ('GradientBoosting', GradientBoostingClassifier(random_state=random_state)),\n",
    "    ('BaggingClassifier', BaggingClassifier(random_state=random_state)),\n",
    "    ('GaussianNaiveBayes', GaussianNB()),\n",
    "    ('SupportVectorClassifier', SVC(random_state=random_state)),\n",
    "    ('SGDClassifier', SGDClassifier(random_state=random_state)),\n",
    "    ('AdaBoost', AdaBoostClassifier(random_state=random_state)),\n",
    "    ('DummyClassifier (Frequent)', DummyClassifier(strategy='most_frequent',random_state=random_state)),\n",
    "    ('DummyClassifier (Stratified)', DummyClassifier(strategy='stratified',random_state=random_state)),\n",
    "    ('DummyClassifier (Uniform)', DummyClassifier(strategy='uniform',random_state=random_state))\n",
    "]\n",
    "\n",
    "results = [] # Store results\n",
    "\n",
    "for name, model in models:\n",
    "    # Classifier\n",
    "    col_transform = ColumnTransformer(\n",
    "        [('scale', StandardScaler(), num_cols),\n",
    "        ('ohe', OneHotEncoder(), ['car_model'])]\n",
    "    )\n",
    "    model_pipeline = imb_Pipeline(steps=[\n",
    "        ('col_transform', col_transform),\n",
    "        ('os', SMOTE(random_state=42)),\n",
    "        ('model', model)\n",
    "    ])\n",
    "    # Train classifier\n",
    "    model_result = model_tester(name, model_pipeline, X_train_multi, y_train_multi)\n",
    "    model_result['Model'] = name\n",
    "    results.append(model_result)"
   ]
  },
  {
   "cell_type": "code",
   "execution_count": 295,
   "id": "fde1246f",
   "metadata": {},
   "outputs": [
    {
     "data": {
      "text/html": [
       "<div>\n",
       "<style scoped>\n",
       "    .dataframe tbody tr th:only-of-type {\n",
       "        vertical-align: middle;\n",
       "    }\n",
       "\n",
       "    .dataframe tbody tr th {\n",
       "        vertical-align: top;\n",
       "    }\n",
       "\n",
       "    .dataframe thead th {\n",
       "        text-align: right;\n",
       "    }\n",
       "</style>\n",
       "<table border=\"1\" class=\"dataframe\">\n",
       "  <thead>\n",
       "    <tr style=\"text-align: right;\">\n",
       "      <th></th>\n",
       "      <th>Model</th>\n",
       "      <th>accuracy</th>\n",
       "      <th>f1</th>\n",
       "      <th>recall</th>\n",
       "      <th>precision</th>\n",
       "      <th>roc_auc</th>\n",
       "    </tr>\n",
       "  </thead>\n",
       "  <tbody>\n",
       "    <tr>\n",
       "      <th>4</th>\n",
       "      <td>GradientBoosting</td>\n",
       "      <td>0.638500</td>\n",
       "      <td>0.475494</td>\n",
       "      <td>0.656481</td>\n",
       "      <td>0.372765</td>\n",
       "      <td>0.716019</td>\n",
       "    </tr>\n",
       "    <tr>\n",
       "      <th>9</th>\n",
       "      <td>AdaBoost</td>\n",
       "      <td>0.646750</td>\n",
       "      <td>0.473760</td>\n",
       "      <td>0.636700</td>\n",
       "      <td>0.377425</td>\n",
       "      <td>0.713945</td>\n",
       "    </tr>\n",
       "    <tr>\n",
       "      <th>3</th>\n",
       "      <td>RandomForest</td>\n",
       "      <td>0.694375</td>\n",
       "      <td>0.438283</td>\n",
       "      <td>0.477715</td>\n",
       "      <td>0.405024</td>\n",
       "      <td>0.693331</td>\n",
       "    </tr>\n",
       "    <tr>\n",
       "      <th>8</th>\n",
       "      <td>SGDClassifier</td>\n",
       "      <td>0.533688</td>\n",
       "      <td>0.421569</td>\n",
       "      <td>0.680506</td>\n",
       "      <td>0.306641</td>\n",
       "      <td>0.620254</td>\n",
       "    </tr>\n",
       "    <tr>\n",
       "      <th>5</th>\n",
       "      <td>BaggingClassifier</td>\n",
       "      <td>0.681000</td>\n",
       "      <td>0.416666</td>\n",
       "      <td>0.456432</td>\n",
       "      <td>0.383333</td>\n",
       "      <td>0.665199</td>\n",
       "    </tr>\n",
       "    <tr>\n",
       "      <th>7</th>\n",
       "      <td>SupportVectorClassifier</td>\n",
       "      <td>0.554937</td>\n",
       "      <td>0.415785</td>\n",
       "      <td>0.634202</td>\n",
       "      <td>0.309346</td>\n",
       "      <td>0.615588</td>\n",
       "    </tr>\n",
       "    <tr>\n",
       "      <th>2</th>\n",
       "      <td>DecisionTree</td>\n",
       "      <td>0.627875</td>\n",
       "      <td>0.408200</td>\n",
       "      <td>0.514266</td>\n",
       "      <td>0.338496</td>\n",
       "      <td>0.589966</td>\n",
       "    </tr>\n",
       "    <tr>\n",
       "      <th>0</th>\n",
       "      <td>LogisticRegression</td>\n",
       "      <td>0.590688</td>\n",
       "      <td>0.407802</td>\n",
       "      <td>0.564847</td>\n",
       "      <td>0.319157</td>\n",
       "      <td>0.624297</td>\n",
       "    </tr>\n",
       "    <tr>\n",
       "      <th>6</th>\n",
       "      <td>GaussianNaiveBayes</td>\n",
       "      <td>0.249500</td>\n",
       "      <td>0.399119</td>\n",
       "      <td>0.998498</td>\n",
       "      <td>0.249406</td>\n",
       "      <td>0.602735</td>\n",
       "    </tr>\n",
       "    <tr>\n",
       "      <th>1</th>\n",
       "      <td>KNeighbors</td>\n",
       "      <td>0.574000</td>\n",
       "      <td>0.364724</td>\n",
       "      <td>0.490227</td>\n",
       "      <td>0.290430</td>\n",
       "      <td>0.567152</td>\n",
       "    </tr>\n",
       "    <tr>\n",
       "      <th>12</th>\n",
       "      <td>DummyClassifier (Uniform)</td>\n",
       "      <td>0.504375</td>\n",
       "      <td>0.340376</td>\n",
       "      <td>0.512269</td>\n",
       "      <td>0.254858</td>\n",
       "      <td>0.500000</td>\n",
       "    </tr>\n",
       "    <tr>\n",
       "      <th>11</th>\n",
       "      <td>DummyClassifier (Stratified)</td>\n",
       "      <td>0.505500</td>\n",
       "      <td>0.339676</td>\n",
       "      <td>0.509514</td>\n",
       "      <td>0.254757</td>\n",
       "      <td>0.506839</td>\n",
       "    </tr>\n",
       "    <tr>\n",
       "      <th>10</th>\n",
       "      <td>DummyClassifier (Frequent)</td>\n",
       "      <td>0.750375</td>\n",
       "      <td>0.000000</td>\n",
       "      <td>0.000000</td>\n",
       "      <td>0.000000</td>\n",
       "      <td>0.500000</td>\n",
       "    </tr>\n",
       "  </tbody>\n",
       "</table>\n",
       "</div>"
      ],
      "text/plain": [
       "                           Model  accuracy        f1    recall  precision  \\\n",
       "4               GradientBoosting  0.638500  0.475494  0.656481   0.372765   \n",
       "9                       AdaBoost  0.646750  0.473760  0.636700   0.377425   \n",
       "3                   RandomForest  0.694375  0.438283  0.477715   0.405024   \n",
       "8                  SGDClassifier  0.533688  0.421569  0.680506   0.306641   \n",
       "5              BaggingClassifier  0.681000  0.416666  0.456432   0.383333   \n",
       "7        SupportVectorClassifier  0.554937  0.415785  0.634202   0.309346   \n",
       "2                   DecisionTree  0.627875  0.408200  0.514266   0.338496   \n",
       "0             LogisticRegression  0.590688  0.407802  0.564847   0.319157   \n",
       "6             GaussianNaiveBayes  0.249500  0.399119  0.998498   0.249406   \n",
       "1                     KNeighbors  0.574000  0.364724  0.490227   0.290430   \n",
       "12     DummyClassifier (Uniform)  0.504375  0.340376  0.512269   0.254858   \n",
       "11  DummyClassifier (Stratified)  0.505500  0.339676  0.509514   0.254757   \n",
       "10    DummyClassifier (Frequent)  0.750375  0.000000  0.000000   0.000000   \n",
       "\n",
       "     roc_auc  \n",
       "4   0.716019  \n",
       "9   0.713945  \n",
       "3   0.693331  \n",
       "8   0.620254  \n",
       "5   0.665199  \n",
       "7   0.615588  \n",
       "2   0.589966  \n",
       "0   0.624297  \n",
       "6   0.602735  \n",
       "1   0.567152  \n",
       "12  0.500000  \n",
       "11  0.506839  \n",
       "10  0.500000  "
      ]
     },
     "metadata": {},
     "output_type": "display_data"
    }
   ],
   "source": [
    "# Results\n",
    "result = pd.DataFrame(results).sort_values(by=['f1'], ascending=False)\n",
    "display(result[['Model', 'accuracy', 'f1', 'recall', 'precision', 'roc_auc']])"
   ]
  },
  {
   "cell_type": "code",
   "execution_count": 296,
   "id": "a5a4c28b",
   "metadata": {},
   "outputs": [],
   "source": [
    "# Display results\n",
    "col_transform = ColumnTransformer(\n",
    "    [('scale', StandardScaler(), num_cols),\n",
    "    ('ohe', OneHotEncoder(), ['car_model'])]\n",
    ")\n",
    "model_pipeline = imb_Pipeline(steps=[\n",
    "    ('col_transform', col_transform),\n",
    "    ('os', SMOTE(random_state=42)),\n",
    "    ('model',  GradientBoostingClassifier(random_state=42))\n",
    "])\n",
    "\n",
    "# Train on original dataset (with outliers)\n",
    "model_pipeline.fit(X_train_multi, y_train_multi)\n",
    "\n",
    "# Test on original test set with outliers\n",
    "yhat_gbc = model_pipeline.predict(X_test_origin)"
   ]
  },
  {
   "cell_type": "code",
   "execution_count": 297,
   "id": "9f2501f0",
   "metadata": {},
   "outputs": [
    {
     "data": {
      "image/png": "[encoded data removed]",
      "text/plain": [
       "<Figure size 500x500 with 3 Axes>"
      ]
     },
     "metadata": {},
     "output_type": "display_data"
    },
    {
     "name": "stdout",
     "output_type": "stream",
     "text": [
      "\n",
      "Accuracy Score: 0.642\n",
      "\n",
      "Recall Score: 0.684\n",
      "\n",
      "Precision Score: 0.379\n",
      "\n",
      "F1 Score: 0.488\n",
      "\n",
      "AUC Score: 0.656\n"
     ]
    }
   ],
   "source": [
    "show_results(y_test_origin, yhat_gbc)"
   ]
  },
  {
   "cell_type": "markdown",
   "id": "96671322",
   "metadata": {},
   "source": [
    "# 10. Hyperparameter Tuning <a id='10'></a>\n",
    "- Hyperband Search used\n",
    "\n",
    "Hyperband is a popular algorithm for hyperparameter tuning in machine learning. It's a bandit-based method that balances exploration and exploitation to efficiently search the hyperparameter space. The balance of exploration and exploitation can be choosen in `Dask`'s aggressive parameter.\n",
    "\n",
    "<br>\n",
    "\n",
    "- [Back to content table](#content-table)"
   ]
  },
  {
   "cell_type": "code",
   "execution_count": 359,
   "id": "6354ceab",
   "metadata": {},
   "outputs": [],
   "source": [
    "# from dask_ml.model_selection import RandomizedSearchCV\n",
    "from sklearn.model_selection import RandomizedSearchCV"
   ]
  },
  {
   "cell_type": "code",
   "execution_count": 361,
   "id": "1f6d5391",
   "metadata": {},
   "outputs": [
    {
     "name": "stdout",
     "output_type": "stream",
     "text": [
      "Fitting 5 folds for each of 100 candidates, totalling 500 fits\n"
     ]
    },
    {
     "data": {
      "text/html": [
       "<style>#sk-container-id-3 {color: black;background-color: white;}#sk-container-id-3 pre{padding: 0;}#sk-container-id-3 div.sk-toggleable {background-color: white;}#sk-container-id-3 label.sk-toggleable__label {cursor: pointer;display: block;width: 100%;margin-bottom: 0;padding: 0.3em;box-sizing: border-box;text-align: center;}#sk-container-id-3 label.sk-toggleable__label-arrow:before {content: \"▸\";float: left;margin-right: 0.25em;color: #696969;}#sk-container-id-3 label.sk-toggleable__label-arrow:hover:before {color: black;}#sk-container-id-3 div.sk-estimator:hover label.sk-toggleable__label-arrow:before {color: black;}#sk-container-id-3 div.sk-toggleable__content {max-height: 0;max-width: 0;overflow: hidden;text-align: left;background-color: #f0f8ff;}#sk-container-id-3 div.sk-toggleable__content pre {margin: 0.2em;color: black;border-radius: 0.25em;background-color: #f0f8ff;}#sk-container-id-3 input.sk-toggleable__control:checked~div.sk-toggleable__content {max-height: 200px;max-width: 100%;overflow: auto;}#sk-container-id-3 input.sk-toggleable__control:checked~label.sk-toggleable__label-arrow:before {content: \"▾\";}#sk-container-id-3 div.sk-estimator input.sk-toggleable__control:checked~label.sk-toggleable__label {background-color: #d4ebff;}#sk-container-id-3 div.sk-label input.sk-toggleable__control:checked~label.sk-toggleable__label {background-color: #d4ebff;}#sk-container-id-3 input.sk-hidden--visually {border: 0;clip: rect(1px 1px 1px 1px);clip: rect(1px, 1px, 1px, 1px);height: 1px;margin: -1px;overflow: hidden;padding: 0;position: absolute;width: 1px;}#sk-container-id-3 div.sk-estimator {font-family: monospace;background-color: #f0f8ff;border: 1px dotted black;border-radius: 0.25em;box-sizing: border-box;margin-bottom: 0.5em;}#sk-container-id-3 div.sk-estimator:hover {background-color: #d4ebff;}#sk-container-id-3 div.sk-parallel-item::after {content: \"\";width: 100%;border-bottom: 1px solid gray;flex-grow: 1;}#sk-container-id-3 div.sk-label:hover label.sk-toggleable__label {background-color: #d4ebff;}#sk-container-id-3 div.sk-serial::before {content: \"\";position: absolute;border-left: 1px solid gray;box-sizing: border-box;top: 0;bottom: 0;left: 50%;z-index: 0;}#sk-container-id-3 div.sk-serial {display: flex;flex-direction: column;align-items: center;background-color: white;padding-right: 0.2em;padding-left: 0.2em;position: relative;}#sk-container-id-3 div.sk-item {position: relative;z-index: 1;}#sk-container-id-3 div.sk-parallel {display: flex;align-items: stretch;justify-content: center;background-color: white;position: relative;}#sk-container-id-3 div.sk-item::before, #sk-container-id-3 div.sk-parallel-item::before {content: \"\";position: absolute;border-left: 1px solid gray;box-sizing: border-box;top: 0;bottom: 0;left: 50%;z-index: -1;}#sk-container-id-3 div.sk-parallel-item {display: flex;flex-direction: column;z-index: 1;position: relative;background-color: white;}#sk-container-id-3 div.sk-parallel-item:first-child::after {align-self: flex-end;width: 50%;}#sk-container-id-3 div.sk-parallel-item:last-child::after {align-self: flex-start;width: 50%;}#sk-container-id-3 div.sk-parallel-item:only-child::after {width: 0;}#sk-container-id-3 div.sk-dashed-wrapped {border: 1px dashed gray;margin: 0 0.4em 0.5em 0.4em;box-sizing: border-box;padding-bottom: 0.4em;background-color: white;}#sk-container-id-3 div.sk-label label {font-family: monospace;font-weight: bold;display: inline-block;line-height: 1.2em;}#sk-container-id-3 div.sk-label-container {text-align: center;}#sk-container-id-3 div.sk-container {/* jupyter's `normalize.less` sets `[hidden] { display: none; }` but bootstrap.min.css set `[hidden] { display: none !important; }` so we also need the `!important` here to be able to override the default hidden behavior on the sphinx rendered scikit-learn.org. See: https://github.com/scikit-learn/scikit-learn/issues/21755 */display: inline-block !important;position: relative;}#sk-container-id-3 div.sk-text-repr-fallback {display: none;}</style><div id=\"sk-container-id-3\" class=\"sk-top-container\"><div class=\"sk-text-repr-fallback\"><pre>RandomizedSearchCV(estimator=Pipeline(steps=[(&#x27;col_transform&#x27;,\n",
       "                                              ColumnTransformer(transformers=[(&#x27;scale&#x27;,\n",
       "                                                                               StandardScaler(),\n",
       "                                                                               array([&#x27;acceleration_z (Std)&#x27;, &#x27;speed (Std)&#x27;, &#x27;speed (Skew)&#x27;,\n",
       "       &#x27;bearing (Std)&#x27;, &#x27;second (Max)&#x27;], dtype=object)),\n",
       "                                                                              (&#x27;ohe&#x27;,\n",
       "                                                                               OneHotEncoder(),\n",
       "                                                                               [&#x27;car_model&#x27;])])),\n",
       "                                             (&#x27;os&#x27;, SMOTE(random_state=42)),\n",
       "                                             (&#x27;model&#x27;,\n",
       "                                              GradientBoostingClassifier(random_state=42))]),\n",
       "                   n_iter=100, n_jobs=10,\n",
       "                   param_distributions={&#x27;model__learning_rate&#x27;: array([0.1       , 0.03162278, 0.01      , 0.00316228, 0.001     ]),\n",
       "                                        &#x27;model__loss&#x27;: [&#x27;log_loss&#x27;, &#x27;deviance&#x27;,\n",
       "                                                        &#x27;exponential&#x27;],\n",
       "                                        &#x27;model__max_depth&#x27;: array([2, 3, 4, 5, 6]),\n",
       "                                        &#x27;model__n_estimators&#x27;: array([ 50, 100, 150, 200, 250, 300]),\n",
       "                                        &#x27;model__subsample&#x27;: array([0.8       , 0.86666667, 0.93333333, 1.        ])},\n",
       "                   scoring=&#x27;f1&#x27;, verbose=1)</pre><b>In a Jupyter environment, please rerun this cell to show the HTML representation or trust the notebook. <br />On GitHub, the HTML representation is unable to render, please try loading this page with nbviewer.org.</b></div><div class=\"sk-container\" hidden><div class=\"sk-item sk-dashed-wrapped\"><div class=\"sk-label-container\"><div class=\"sk-label sk-toggleable\"><input class=\"sk-toggleable__control sk-hidden--visually\" id=\"sk-estimator-id-17\" type=\"checkbox\" ><label for=\"sk-estimator-id-17\" class=\"sk-toggleable__label sk-toggleable__label-arrow\">RandomizedSearchCV</label><div class=\"sk-toggleable__content\"><pre>RandomizedSearchCV(estimator=Pipeline(steps=[(&#x27;col_transform&#x27;,\n",
       "                                              ColumnTransformer(transformers=[(&#x27;scale&#x27;,\n",
       "                                                                               StandardScaler(),\n",
       "                                                                               array([&#x27;acceleration_z (Std)&#x27;, &#x27;speed (Std)&#x27;, &#x27;speed (Skew)&#x27;,\n",
       "       &#x27;bearing (Std)&#x27;, &#x27;second (Max)&#x27;], dtype=object)),\n",
       "                                                                              (&#x27;ohe&#x27;,\n",
       "                                                                               OneHotEncoder(),\n",
       "                                                                               [&#x27;car_model&#x27;])])),\n",
       "                                             (&#x27;os&#x27;, SMOTE(random_state=42)),\n",
       "                                             (&#x27;model&#x27;,\n",
       "                                              GradientBoostingClassifier(random_state=42))]),\n",
       "                   n_iter=100, n_jobs=10,\n",
       "                   param_distributions={&#x27;model__learning_rate&#x27;: array([0.1       , 0.03162278, 0.01      , 0.00316228, 0.001     ]),\n",
       "                                        &#x27;model__loss&#x27;: [&#x27;log_loss&#x27;, &#x27;deviance&#x27;,\n",
       "                                                        &#x27;exponential&#x27;],\n",
       "                                        &#x27;model__max_depth&#x27;: array([2, 3, 4, 5, 6]),\n",
       "                                        &#x27;model__n_estimators&#x27;: array([ 50, 100, 150, 200, 250, 300]),\n",
       "                                        &#x27;model__subsample&#x27;: array([0.8       , 0.86666667, 0.93333333, 1.        ])},\n",
       "                   scoring=&#x27;f1&#x27;, verbose=1)</pre></div></div></div><div class=\"sk-parallel\"><div class=\"sk-parallel-item\"><div class=\"sk-item\"><div class=\"sk-label-container\"><div class=\"sk-label sk-toggleable\"><input class=\"sk-toggleable__control sk-hidden--visually\" id=\"sk-estimator-id-18\" type=\"checkbox\" ><label for=\"sk-estimator-id-18\" class=\"sk-toggleable__label sk-toggleable__label-arrow\">estimator: Pipeline</label><div class=\"sk-toggleable__content\"><pre>Pipeline(steps=[(&#x27;col_transform&#x27;,\n",
       "                 ColumnTransformer(transformers=[(&#x27;scale&#x27;, StandardScaler(),\n",
       "                                                  array([&#x27;acceleration_z (Std)&#x27;, &#x27;speed (Std)&#x27;, &#x27;speed (Skew)&#x27;,\n",
       "       &#x27;bearing (Std)&#x27;, &#x27;second (Max)&#x27;], dtype=object)),\n",
       "                                                 (&#x27;ohe&#x27;, OneHotEncoder(),\n",
       "                                                  [&#x27;car_model&#x27;])])),\n",
       "                (&#x27;os&#x27;, SMOTE(random_state=42)),\n",
       "                (&#x27;model&#x27;, GradientBoostingClassifier(random_state=42))])</pre></div></div></div><div class=\"sk-serial\"><div class=\"sk-item\"><div class=\"sk-serial\"><div class=\"sk-item sk-dashed-wrapped\"><div class=\"sk-label-container\"><div class=\"sk-label sk-toggleable\"><input class=\"sk-toggleable__control sk-hidden--visually\" id=\"sk-estimator-id-19\" type=\"checkbox\" ><label for=\"sk-estimator-id-19\" class=\"sk-toggleable__label sk-toggleable__label-arrow\">col_transform: ColumnTransformer</label><div class=\"sk-toggleable__content\"><pre>ColumnTransformer(transformers=[(&#x27;scale&#x27;, StandardScaler(),\n",
       "                                 array([&#x27;acceleration_z (Std)&#x27;, &#x27;speed (Std)&#x27;, &#x27;speed (Skew)&#x27;,\n",
       "       &#x27;bearing (Std)&#x27;, &#x27;second (Max)&#x27;], dtype=object)),\n",
       "                                (&#x27;ohe&#x27;, OneHotEncoder(), [&#x27;car_model&#x27;])])</pre></div></div></div><div class=\"sk-parallel\"><div class=\"sk-parallel-item\"><div class=\"sk-item\"><div class=\"sk-label-container\"><div class=\"sk-label sk-toggleable\"><input class=\"sk-toggleable__control sk-hidden--visually\" id=\"sk-estimator-id-20\" type=\"checkbox\" ><label for=\"sk-estimator-id-20\" class=\"sk-toggleable__label sk-toggleable__label-arrow\">scale</label><div class=\"sk-toggleable__content\"><pre>[&#x27;acceleration_z (Std)&#x27; &#x27;speed (Std)&#x27; &#x27;speed (Skew)&#x27; &#x27;bearing (Std)&#x27;\n",
       " &#x27;second (Max)&#x27;]</pre></div></div></div><div class=\"sk-serial\"><div class=\"sk-item\"><div class=\"sk-estimator sk-toggleable\"><input class=\"sk-toggleable__control sk-hidden--visually\" id=\"sk-estimator-id-21\" type=\"checkbox\" ><label for=\"sk-estimator-id-21\" class=\"sk-toggleable__label sk-toggleable__label-arrow\">StandardScaler</label><div class=\"sk-toggleable__content\"><pre>StandardScaler()</pre></div></div></div></div></div></div><div class=\"sk-parallel-item\"><div class=\"sk-item\"><div class=\"sk-label-container\"><div class=\"sk-label sk-toggleable\"><input class=\"sk-toggleable__control sk-hidden--visually\" id=\"sk-estimator-id-22\" type=\"checkbox\" ><label for=\"sk-estimator-id-22\" class=\"sk-toggleable__label sk-toggleable__label-arrow\">ohe</label><div class=\"sk-toggleable__content\"><pre>[&#x27;car_model&#x27;]</pre></div></div></div><div class=\"sk-serial\"><div class=\"sk-item\"><div class=\"sk-estimator sk-toggleable\"><input class=\"sk-toggleable__control sk-hidden--visually\" id=\"sk-estimator-id-23\" type=\"checkbox\" ><label for=\"sk-estimator-id-23\" class=\"sk-toggleable__label sk-toggleable__label-arrow\">OneHotEncoder</label><div class=\"sk-toggleable__content\"><pre>OneHotEncoder()</pre></div></div></div></div></div></div></div></div><div class=\"sk-item\"><div class=\"sk-estimator sk-toggleable\"><input class=\"sk-toggleable__control sk-hidden--visually\" id=\"sk-estimator-id-24\" type=\"checkbox\" ><label for=\"sk-estimator-id-24\" class=\"sk-toggleable__label sk-toggleable__label-arrow\">SMOTE</label><div class=\"sk-toggleable__content\"><pre>SMOTE(random_state=42)</pre></div></div></div><div class=\"sk-item\"><div class=\"sk-estimator sk-toggleable\"><input class=\"sk-toggleable__control sk-hidden--visually\" id=\"sk-estimator-id-25\" type=\"checkbox\" ><label for=\"sk-estimator-id-25\" class=\"sk-toggleable__label sk-toggleable__label-arrow\">GradientBoostingClassifier</label><div class=\"sk-toggleable__content\"><pre>GradientBoostingClassifier(random_state=42)</pre></div></div></div></div></div></div></div></div></div></div></div></div>"
      ],
      "text/plain": [
       "RandomizedSearchCV(estimator=Pipeline(steps=[('col_transform',\n",
       "                                              ColumnTransformer(transformers=[('scale',\n",
       "                                                                               StandardScaler(),\n",
       "                                                                               array(['acceleration_z (Std)', 'speed (Std)', 'speed (Skew)',\n",
       "       'bearing (Std)', 'second (Max)'], dtype=object)),\n",
       "                                                                              ('ohe',\n",
       "                                                                               OneHotEncoder(),\n",
       "                                                                               ['car_model'])])),\n",
       "                                             ('os', SMOTE(random_state=42)),\n",
       "                                             ('model',\n",
       "                                              GradientBoostingClassifier(random_state=42))]),\n",
       "                   n_iter=100, n_jobs=10,\n",
       "                   param_distributions={'model__learning_rate': array([0.1       , 0.03162278, 0.01      , 0.00316228, 0.001     ]),\n",
       "                                        'model__loss': ['log_loss', 'deviance',\n",
       "                                                        'exponential'],\n",
       "                                        'model__max_depth': array([2, 3, 4, 5, 6]),\n",
       "                                        'model__n_estimators': array([ 50, 100, 150, 200, 250, 300]),\n",
       "                                        'model__subsample': array([0.8       , 0.86666667, 0.93333333, 1.        ])},\n",
       "                   scoring='f1', verbose=1)"
      ]
     },
     "execution_count": 361,
     "metadata": {},
     "output_type": "execute_result"
    }
   ],
   "source": [
    "col_transform = ColumnTransformer(\n",
    "    [('scale', StandardScaler(), num_cols),\n",
    "    ('ohe', OneHotEncoder(), ['car_model'])]\n",
    ")\n",
    "model_pipeline = imb_Pipeline(steps=[\n",
    "    ('col_transform', col_transform),\n",
    "    ('os', SMOTE(random_state=42)),\n",
    "    ('model',  GradientBoostingClassifier(random_state=42))\n",
    "])\n",
    "\n",
    "param_grid = {\n",
    "    # LR has a logscaled affect\n",
    "    'model__learning_rate': np.logspace(3, 1, num=5) / 10000,\n",
    "    'model__n_estimators': np.linspace(50,300,num=6).astype(int),\n",
    "    'model__max_depth': np.arange(2,7),\n",
    "    'model__subsample': np.linspace(0.8,1,num=4),\n",
    "    'model__loss': ['log_loss', 'deviance', 'exponential']\n",
    "}\n",
    "\n",
    "hpt_xboosting = RandomizedSearchCV(model_pipeline,param_grid, scoring = 'f1', n_jobs=10, verbose=1, n_iter=100, cv=5)\n",
    "\n",
    "hpt_xboosting.fit(X_train_multi, y_train_multi)"
   ]
  },
  {
   "cell_type": "markdown",
   "id": "423ba4ff",
   "metadata": {},
   "source": [
    "We did 100/1800 trials (about 6% of trials)"
   ]
  },
  {
   "cell_type": "code",
   "execution_count": 367,
   "id": "cd02c5e1",
   "metadata": {},
   "outputs": [
    {
     "data": {
      "text/html": [
       "<div>\n",
       "<style scoped>\n",
       "    .dataframe tbody tr th:only-of-type {\n",
       "        vertical-align: middle;\n",
       "    }\n",
       "\n",
       "    .dataframe tbody tr th {\n",
       "        vertical-align: top;\n",
       "    }\n",
       "\n",
       "    .dataframe thead th {\n",
       "        text-align: right;\n",
       "    }\n",
       "</style>\n",
       "<table border=\"1\" class=\"dataframe\">\n",
       "  <thead>\n",
       "    <tr style=\"text-align: right;\">\n",
       "      <th></th>\n",
       "      <th>params</th>\n",
       "      <th>mean_test_score</th>\n",
       "      <th>rank_test_score</th>\n",
       "    </tr>\n",
       "  </thead>\n",
       "  <tbody>\n",
       "    <tr>\n",
       "      <th>75</th>\n",
       "      <td>{'model__subsample': 0.9333333333333333, 'mode...</td>\n",
       "      <td>0.483970</td>\n",
       "      <td>1</td>\n",
       "    </tr>\n",
       "    <tr>\n",
       "      <th>91</th>\n",
       "      <td>{'model__subsample': 1.0, 'model__n_estimators...</td>\n",
       "      <td>0.482613</td>\n",
       "      <td>2</td>\n",
       "    </tr>\n",
       "    <tr>\n",
       "      <th>11</th>\n",
       "      <td>{'model__subsample': 0.9333333333333333, 'mode...</td>\n",
       "      <td>0.482047</td>\n",
       "      <td>3</td>\n",
       "    </tr>\n",
       "    <tr>\n",
       "      <th>22</th>\n",
       "      <td>{'model__subsample': 0.8666666666666667, 'mode...</td>\n",
       "      <td>0.481926</td>\n",
       "      <td>4</td>\n",
       "    </tr>\n",
       "    <tr>\n",
       "      <th>60</th>\n",
       "      <td>{'model__subsample': 0.8666666666666667, 'mode...</td>\n",
       "      <td>0.481018</td>\n",
       "      <td>5</td>\n",
       "    </tr>\n",
       "    <tr>\n",
       "      <th>...</th>\n",
       "      <td>...</td>\n",
       "      <td>...</td>\n",
       "      <td>...</td>\n",
       "    </tr>\n",
       "    <tr>\n",
       "      <th>88</th>\n",
       "      <td>{'model__subsample': 0.9333333333333333, 'mode...</td>\n",
       "      <td>0.456285</td>\n",
       "      <td>96</td>\n",
       "    </tr>\n",
       "    <tr>\n",
       "      <th>97</th>\n",
       "      <td>{'model__subsample': 0.8666666666666667, 'mode...</td>\n",
       "      <td>0.455549</td>\n",
       "      <td>97</td>\n",
       "    </tr>\n",
       "    <tr>\n",
       "      <th>20</th>\n",
       "      <td>{'model__subsample': 1.0, 'model__n_estimators...</td>\n",
       "      <td>0.455199</td>\n",
       "      <td>98</td>\n",
       "    </tr>\n",
       "    <tr>\n",
       "      <th>87</th>\n",
       "      <td>{'model__subsample': 0.9333333333333333, 'mode...</td>\n",
       "      <td>0.454543</td>\n",
       "      <td>99</td>\n",
       "    </tr>\n",
       "    <tr>\n",
       "      <th>74</th>\n",
       "      <td>{'model__subsample': 1.0, 'model__n_estimators...</td>\n",
       "      <td>0.454139</td>\n",
       "      <td>100</td>\n",
       "    </tr>\n",
       "  </tbody>\n",
       "</table>\n",
       "<p>100 rows × 3 columns</p>\n",
       "</div>"
      ],
      "text/plain": [
       "                                               params  mean_test_score  \\\n",
       "75  {'model__subsample': 0.9333333333333333, 'mode...         0.483970   \n",
       "91  {'model__subsample': 1.0, 'model__n_estimators...         0.482613   \n",
       "11  {'model__subsample': 0.9333333333333333, 'mode...         0.482047   \n",
       "22  {'model__subsample': 0.8666666666666667, 'mode...         0.481926   \n",
       "60  {'model__subsample': 0.8666666666666667, 'mode...         0.481018   \n",
       "..                                                ...              ...   \n",
       "88  {'model__subsample': 0.9333333333333333, 'mode...         0.456285   \n",
       "97  {'model__subsample': 0.8666666666666667, 'mode...         0.455549   \n",
       "20  {'model__subsample': 1.0, 'model__n_estimators...         0.455199   \n",
       "87  {'model__subsample': 0.9333333333333333, 'mode...         0.454543   \n",
       "74  {'model__subsample': 1.0, 'model__n_estimators...         0.454139   \n",
       "\n",
       "    rank_test_score  \n",
       "75                1  \n",
       "91                2  \n",
       "11                3  \n",
       "22                4  \n",
       "60                5  \n",
       "..              ...  \n",
       "88               96  \n",
       "97               97  \n",
       "20               98  \n",
       "87               99  \n",
       "74              100  \n",
       "\n",
       "[100 rows x 3 columns]"
      ]
     },
     "execution_count": 367,
     "metadata": {},
     "output_type": "execute_result"
    }
   ],
   "source": [
    "results.sort_values('rank_test_score')"
   ]
  },
  {
   "cell_type": "markdown",
   "id": "9ff908f5",
   "metadata": {},
   "source": [
    "Lets log all the experiments during hyperparameter tuning (takes about 10 seconds only), sort by f1 score in MLFlow to easily observe the best hyperparameters too"
   ]
  },
  {
   "cell_type": "code",
   "execution_count": 385,
   "id": "1fe94235",
   "metadata": {},
   "outputs": [
    {
     "name": "stderr",
     "output_type": "stream",
     "text": [
      "2023/02/07 18:40:14 INFO mlflow.tracking.fluent: Experiment with name 'Hyperparameter_Tuning' does not exist. Creating a new experiment.\n"
     ]
    }
   ],
   "source": [
    "# Creating new experiment\n",
    "experiment_name=\"Hyperparameter_Tuning\"\n",
    "mlflow.set_experiment(experiment_name)\n",
    "\n",
    "for index, row in results.iterrows():\n",
    "    with mlflow.start_run():\n",
    "        # Log F1 Score\n",
    "        mlflow.log_metric('f1', row['mean_test_score'])\n",
    "        # log ranking\n",
    "        mlflow.log_metric('ranking', row['rank_test_score'])\n",
    "        # Log hyperparameters\n",
    "        for param, value in row['params'].items():\n",
    "            mlflow.log_param(param, value)"
   ]
  },
  {
   "cell_type": "markdown",
   "id": "719da9e5",
   "metadata": {},
   "source": [
    "### Final test on best model (based on f1-score)"
   ]
  },
  {
   "cell_type": "code",
   "execution_count": null,
   "id": "2d024798",
   "metadata": {},
   "outputs": [],
   "source": [
    "xboosting_tuned = hpt_xboosting.best_estimator_"
   ]
  },
  {
   "cell_type": "code",
   "execution_count": 17,
   "id": "01bb401c",
   "metadata": {},
   "outputs": [],
   "source": [
    "y_hat_final = xboosting_tuned.predict(X_test_origin)"
   ]
  },
  {
   "cell_type": "code",
   "execution_count": 18,
   "id": "d3445065",
   "metadata": {},
   "outputs": [
    {
     "data": {
      "image/png": "[encoded data removed]",
      "text/plain": [
       "<Figure size 500x500 with 3 Axes>"
      ]
     },
     "metadata": {},
     "output_type": "display_data"
    },
    {
     "name": "stdout",
     "output_type": "stream",
     "text": [
      "\n",
      "Accuracy Score: 0.649\n",
      "\n",
      "Recall Score: 0.671\n",
      "\n",
      "Precision Score: 0.384\n",
      "\n",
      "F1 Score: 0.489\n",
      "\n",
      "AUC Score: 0.657\n"
     ]
    }
   ],
   "source": [
    "show_results(y_test_origin, y_hat_final)"
   ]
  },
  {
   "cell_type": "markdown",
   "id": "0226401d",
   "metadata": {},
   "source": [
    "Now lets retrain the model with all the data and save it\n",
    "- takes a few seconds\n",
    "<br><br>\n",
    "\n",
    "\n",
    "Best params:\n",
    "- LR: 0.0316227\n",
    "- Loss: exponential\n",
    "- Max depth: 2\n",
    "- n_estimators: 300\n",
    "- subsample: 0.93333"
   ]
  },
  {
   "cell_type": "code",
   "execution_count": 31,
   "id": "953b11a8",
   "metadata": {},
   "outputs": [],
   "source": [
    "col_transform = ColumnTransformer(\n",
    "    [('scale', StandardScaler(), ['acceleration_z (Std)', 'speed (Std)', 'speed (Skew)', 'bearing (Std)', 'second (Max)']),\n",
    "    ('ohe', OneHotEncoder(), ['car_model'])]\n",
    ")\n",
    "model_pipeline = imb_Pipeline(steps=[\n",
    "    ('col_transform', col_transform),\n",
    "    ('os', SMOTE(random_state=42)),\n",
    "    ('model',  GradientBoostingClassifier(random_state=42))\n",
    "])\n",
    "\n",
    "xboosting_tuned = model_pipeline.fit(multivariate_outlier_sensor_agg.drop(columns=['label']),multivariate_outlier_sensor_agg['label'])"
   ]
  },
  {
   "cell_type": "code",
   "execution_count": 34,
   "id": "4e991f53",
   "metadata": {},
   "outputs": [],
   "source": [
    "import pickle\n",
    "\n",
    "filename = 'XBoostingTuned.pkl'\n",
    "with open(filename, 'wb') as file:\n",
    "    pickle.dump(xboosting_tuned, file)"
   ]
  },
  {
   "cell_type": "markdown",
   "id": "574db020",
   "metadata": {},
   "source": [
    "# 11. Training unsupervised models <a id='11'></a>\n",
    "- Useful for analysis part of our app\n",
    "- kPrototype + PCA\n",
    "\n",
    "<br>\n",
    "\n",
    "- [Back to content table](#content-table)"
   ]
  },
  {
   "cell_type": "code",
   "execution_count": 2,
   "id": "20044970",
   "metadata": {},
   "outputs": [],
   "source": [
    "from kmodes.kprototypes import KPrototypes\n",
    "from sklearn.neighbors import DistanceMetric\n",
    "from sklearn.metrics import silhouette_score, silhouette_samples, euclidean_distances, davies_bouldin_score, calinski_harabasz_score"
   ]
  },
  {
   "cell_type": "code",
   "execution_count": 11,
   "id": "6a9cd9bc",
   "metadata": {},
   "outputs": [],
   "source": [
    "num_cols = ['acceleration_z (Std)', 'speed (Std)', 'speed (Skew)', 'bearing (Std)', 'second (Max)']"
   ]
  },
  {
   "cell_type": "code",
   "execution_count": 20,
   "id": "56c2c940",
   "metadata": {},
   "outputs": [
    {
     "data": {
      "text/html": [
       "<div>\n",
       "<style scoped>\n",
       "    .dataframe tbody tr th:only-of-type {\n",
       "        vertical-align: middle;\n",
       "    }\n",
       "\n",
       "    .dataframe tbody tr th {\n",
       "        vertical-align: top;\n",
       "    }\n",
       "\n",
       "    .dataframe thead th {\n",
       "        text-align: right;\n",
       "    }\n",
       "</style>\n",
       "<table border=\"1\" class=\"dataframe\">\n",
       "  <thead>\n",
       "    <tr style=\"text-align: right;\">\n",
       "      <th></th>\n",
       "      <th>acceleration_z (Std)</th>\n",
       "      <th>speed (Std)</th>\n",
       "      <th>speed (Skew)</th>\n",
       "      <th>bearing (Std)</th>\n",
       "      <th>second (Max)</th>\n",
       "      <th>car_model</th>\n",
       "      <th>label</th>\n",
       "    </tr>\n",
       "  </thead>\n",
       "  <tbody>\n",
       "    <tr>\n",
       "      <th>0</th>\n",
       "      <td>1.096421</td>\n",
       "      <td>7.010870</td>\n",
       "      <td>0.151116</td>\n",
       "      <td>128.977014</td>\n",
       "      <td>1589.0</td>\n",
       "      <td>Mercedes-Benz</td>\n",
       "      <td>0</td>\n",
       "    </tr>\n",
       "    <tr>\n",
       "      <th>1</th>\n",
       "      <td>2.818097</td>\n",
       "      <td>1.916799</td>\n",
       "      <td>0.550355</td>\n",
       "      <td>118.891451</td>\n",
       "      <td>809.0</td>\n",
       "      <td>Mercedes-Benz</td>\n",
       "      <td>1</td>\n",
       "    </tr>\n",
       "    <tr>\n",
       "      <th>2</th>\n",
       "      <td>1.186513</td>\n",
       "      <td>9.029713</td>\n",
       "      <td>-0.683999</td>\n",
       "      <td>70.580133</td>\n",
       "      <td>1407.0</td>\n",
       "      <td>Mercedes-Benz</td>\n",
       "      <td>0</td>\n",
       "    </tr>\n",
       "    <tr>\n",
       "      <th>3</th>\n",
       "      <td>0.990569</td>\n",
       "      <td>7.964312</td>\n",
       "      <td>0.802410</td>\n",
       "      <td>91.795896</td>\n",
       "      <td>869.0</td>\n",
       "      <td>Mercedes-Benz</td>\n",
       "      <td>0</td>\n",
       "    </tr>\n",
       "    <tr>\n",
       "      <th>4</th>\n",
       "      <td>1.018549</td>\n",
       "      <td>4.972506</td>\n",
       "      <td>0.365089</td>\n",
       "      <td>33.265059</td>\n",
       "      <td>128.0</td>\n",
       "      <td>Mercedes-Benz</td>\n",
       "      <td>0</td>\n",
       "    </tr>\n",
       "    <tr>\n",
       "      <th>...</th>\n",
       "      <td>...</td>\n",
       "      <td>...</td>\n",
       "      <td>...</td>\n",
       "      <td>...</td>\n",
       "      <td>...</td>\n",
       "      <td>...</td>\n",
       "      <td>...</td>\n",
       "    </tr>\n",
       "    <tr>\n",
       "      <th>19994</th>\n",
       "      <td>1.331511</td>\n",
       "      <td>7.456193</td>\n",
       "      <td>-0.153840</td>\n",
       "      <td>90.030578</td>\n",
       "      <td>1439.0</td>\n",
       "      <td>Honda</td>\n",
       "      <td>0</td>\n",
       "    </tr>\n",
       "    <tr>\n",
       "      <th>19995</th>\n",
       "      <td>1.227215</td>\n",
       "      <td>5.326666</td>\n",
       "      <td>0.416506</td>\n",
       "      <td>129.313882</td>\n",
       "      <td>853.0</td>\n",
       "      <td>Honda</td>\n",
       "      <td>0</td>\n",
       "    </tr>\n",
       "    <tr>\n",
       "      <th>19996</th>\n",
       "      <td>1.021091</td>\n",
       "      <td>6.533076</td>\n",
       "      <td>0.529696</td>\n",
       "      <td>95.485810</td>\n",
       "      <td>1709.0</td>\n",
       "      <td>Honda</td>\n",
       "      <td>1</td>\n",
       "    </tr>\n",
       "    <tr>\n",
       "      <th>19997</th>\n",
       "      <td>1.102779</td>\n",
       "      <td>7.854344</td>\n",
       "      <td>-1.029153</td>\n",
       "      <td>83.628294</td>\n",
       "      <td>538.0</td>\n",
       "      <td>Honda</td>\n",
       "      <td>0</td>\n",
       "    </tr>\n",
       "    <tr>\n",
       "      <th>19998</th>\n",
       "      <td>0.921645</td>\n",
       "      <td>3.392061</td>\n",
       "      <td>1.680842</td>\n",
       "      <td>101.350146</td>\n",
       "      <td>239.0</td>\n",
       "      <td>Honda</td>\n",
       "      <td>0</td>\n",
       "    </tr>\n",
       "  </tbody>\n",
       "</table>\n",
       "<p>19999 rows × 7 columns</p>\n",
       "</div>"
      ],
      "text/plain": [
       "       acceleration_z (Std)  speed (Std)  speed (Skew)  bearing (Std)  \\\n",
       "0                  1.096421     7.010870      0.151116     128.977014   \n",
       "1                  2.818097     1.916799      0.550355     118.891451   \n",
       "2                  1.186513     9.029713     -0.683999      70.580133   \n",
       "3                  0.990569     7.964312      0.802410      91.795896   \n",
       "4                  1.018549     4.972506      0.365089      33.265059   \n",
       "...                     ...          ...           ...            ...   \n",
       "19994              1.331511     7.456193     -0.153840      90.030578   \n",
       "19995              1.227215     5.326666      0.416506     129.313882   \n",
       "19996              1.021091     6.533076      0.529696      95.485810   \n",
       "19997              1.102779     7.854344     -1.029153      83.628294   \n",
       "19998              0.921645     3.392061      1.680842     101.350146   \n",
       "\n",
       "       second (Max)      car_model  label  \n",
       "0            1589.0  Mercedes-Benz      0  \n",
       "1             809.0  Mercedes-Benz      1  \n",
       "2            1407.0  Mercedes-Benz      0  \n",
       "3             869.0  Mercedes-Benz      0  \n",
       "4             128.0  Mercedes-Benz      0  \n",
       "...             ...            ...    ...  \n",
       "19994        1439.0          Honda      0  \n",
       "19995         853.0          Honda      0  \n",
       "19996        1709.0          Honda      1  \n",
       "19997         538.0          Honda      0  \n",
       "19998         239.0          Honda      0  \n",
       "\n",
       "[19999 rows x 7 columns]"
      ]
     },
     "execution_count": 20,
     "metadata": {},
     "output_type": "execute_result"
    }
   ],
   "source": [
    "multivariate_outlier_sensor_agg"
   ]
  },
  {
   "cell_type": "code",
   "execution_count": 38,
   "id": "e0b9a08f",
   "metadata": {},
   "outputs": [],
   "source": [
    "scaler = StandardScaler().fit(multivariate_outlier_sensor_agg[num_cols])\n",
    "\n",
    "# Save scaler\n",
    "filename = 'scaler.pkl'\n",
    "with open(filename, 'wb') as file:\n",
    "    pickle.dump(scaler, file)"
   ]
  },
  {
   "cell_type": "code",
   "execution_count": 45,
   "id": "2867b13c",
   "metadata": {},
   "outputs": [],
   "source": [
    "multi_scaled = scaler.transform(multivariate_outlier_sensor_agg[num_cols])\n",
    "\n",
    "multi_scaled = pd.DataFrame(multi_scaled, columns=num_cols)\n",
    "\n",
    "multi_scaled = pd.concat([multi_scaled,multivariate_outlier_sensor_agg[['car_model','label']]], axis = 1)"
   ]
  },
  {
   "cell_type": "code",
   "execution_count": 49,
   "id": "16d81cae",
   "metadata": {},
   "outputs": [],
   "source": [
    "cat_position = [5,6]\n",
    "\n",
    "\n",
    "def run_kprototype(start=2,end=9,data=multi_scaled,category_position=cat_position):\n",
    "    cost = []\n",
    "    for cluster in range(start, end):\n",
    "        try:\n",
    "            kPro = KPrototypes(n_jobs = -1, n_clusters = cluster, random_state = 123,max_iter=500)\n",
    "            cluster_label02 =  kPro.fit_predict(data, categorical = category_position)\n",
    "            cost.append([cluster,kPro.cost_])\n",
    "        except:\n",
    "            pass\n",
    "    return cost"
   ]
  },
  {
   "cell_type": "code",
   "execution_count": 50,
   "id": "6bb32151",
   "metadata": {},
   "outputs": [],
   "source": [
    "costs = run_kprototype()"
   ]
  },
  {
   "cell_type": "code",
   "execution_count": 51,
   "id": "277d5fb9",
   "metadata": {
    "scrolled": false
   },
   "outputs": [
    {
     "data": {
      "text/plain": [
       "[[2, 92891.67590798748],\n",
       " [3, 80886.28053866465],\n",
       " [4, 72105.44395133924],\n",
       " [5, 67571.87502402253],\n",
       " [6, 47615.07958689554],\n",
       " [7, 43918.52690971426],\n",
       " [8, 41877.908765218286]]"
      ]
     },
     "execution_count": 51,
     "metadata": {},
     "output_type": "execute_result"
    }
   ],
   "source": [
    "costs"
   ]
  },
  {
   "cell_type": "code",
   "execution_count": 76,
   "id": "a524e681",
   "metadata": {},
   "outputs": [],
   "source": [
    "# Creating new experiment\n",
    "mlflow.set_tracking_uri(\"http://localhost:5000\")\n",
    "experiment_name=\"Clusters_Comparison\"\n",
    "mlflow.set_experiment(experiment_name)\n",
    "\n",
    "for cluster, cost in costs:\n",
    "    with mlflow.start_run():\n",
    "        # Log no. of clusters\n",
    "        mlflow.log_param('n_cluster', cluster)\n",
    "        # log cost\n",
    "        mlflow.log_metric('cost', cost)"
   ]
  },
  {
   "cell_type": "code",
   "execution_count": 52,
   "id": "15fffba6",
   "metadata": {},
   "outputs": [
    {
     "data": {
      "image/png": "[encoded data removed]",
      "text/plain": [
       "<Figure size 700x500 with 1 Axes>"
      ]
     },
     "metadata": {},
     "output_type": "display_data"
    }
   ],
   "source": [
    "result_df = pd.DataFrame(\n",
    "    costs, columns = [\n",
    "        'n-cluster', 'Cost'\n",
    "        ]\n",
    "    )\n",
    "\n",
    "fig, ax1  = plt.subplots(figsize=(7,5))\n",
    "\n",
    "fig.suptitle('Elbow Curve Graph')\n",
    "sns.lineplot(x='n-cluster', y='Cost', data = result_df, marker= 'o', ax=ax1)\n",
    "ax1.set_title('Cost using all categories as kmodes for kPrototype', fontsize=8)\n",
    "plt.show()"
   ]
  },
  {
   "cell_type": "markdown",
   "id": "f2266bc6",
   "metadata": {},
   "source": [
    "Looks like there should be 6 clusters"
   ]
  },
  {
   "cell_type": "code",
   "execution_count": 53,
   "id": "49915ca4",
   "metadata": {},
   "outputs": [],
   "source": [
    "kPro = KPrototypes(n_jobs = 8, n_clusters = 6, random_state = 123,max_iter=500)\n",
    "cluster_labels = kPro.fit_predict(multi_scaled, categorical=[5,6])"
   ]
  },
  {
   "cell_type": "code",
   "execution_count": 93,
   "id": "a8604383",
   "metadata": {},
   "outputs": [
    {
     "data": {
      "text/html": [
       "<div>\n",
       "<style scoped>\n",
       "    .dataframe tbody tr th:only-of-type {\n",
       "        vertical-align: middle;\n",
       "    }\n",
       "\n",
       "    .dataframe tbody tr th {\n",
       "        vertical-align: top;\n",
       "    }\n",
       "\n",
       "    .dataframe thead th {\n",
       "        text-align: right;\n",
       "    }\n",
       "</style>\n",
       "<table border=\"1\" class=\"dataframe\">\n",
       "  <thead>\n",
       "    <tr style=\"text-align: right;\">\n",
       "      <th></th>\n",
       "      <th>acceleration_z (Std)</th>\n",
       "      <th>speed (Std)</th>\n",
       "      <th>speed (Skew)</th>\n",
       "      <th>bearing (Std)</th>\n",
       "      <th>second (Max)</th>\n",
       "      <th>car_model</th>\n",
       "      <th>label</th>\n",
       "      <th>Cluster</th>\n",
       "    </tr>\n",
       "  </thead>\n",
       "  <tbody>\n",
       "    <tr>\n",
       "      <th>0</th>\n",
       "      <td>0.027987</td>\n",
       "      <td>0.428256</td>\n",
       "      <td>-0.191503</td>\n",
       "      <td>1.388323</td>\n",
       "      <td>-0.012160</td>\n",
       "      <td>Mercedes-Benz</td>\n",
       "      <td>0</td>\n",
       "      <td>3</td>\n",
       "    </tr>\n",
       "    <tr>\n",
       "      <th>1</th>\n",
       "      <td>3.253814</td>\n",
       "      <td>-2.334746</td>\n",
       "      <td>0.343246</td>\n",
       "      <td>1.025095</td>\n",
       "      <td>-0.012263</td>\n",
       "      <td>Mercedes-Benz</td>\n",
       "      <td>1</td>\n",
       "      <td>4</td>\n",
       "    </tr>\n",
       "    <tr>\n",
       "      <th>2</th>\n",
       "      <td>0.196788</td>\n",
       "      <td>1.523268</td>\n",
       "      <td>-1.310074</td>\n",
       "      <td>-0.714816</td>\n",
       "      <td>-0.012184</td>\n",
       "      <td>Mercedes-Benz</td>\n",
       "      <td>0</td>\n",
       "      <td>0</td>\n",
       "    </tr>\n",
       "    <tr>\n",
       "      <th>3</th>\n",
       "      <td>-0.170343</td>\n",
       "      <td>0.945398</td>\n",
       "      <td>0.680853</td>\n",
       "      <td>0.049261</td>\n",
       "      <td>-0.012255</td>\n",
       "      <td>Mercedes-Benz</td>\n",
       "      <td>0</td>\n",
       "      <td>1</td>\n",
       "    </tr>\n",
       "    <tr>\n",
       "      <th>4</th>\n",
       "      <td>-0.117919</td>\n",
       "      <td>-0.677344</td>\n",
       "      <td>0.095097</td>\n",
       "      <td>-2.058702</td>\n",
       "      <td>-0.012352</td>\n",
       "      <td>Mercedes-Benz</td>\n",
       "      <td>0</td>\n",
       "      <td>2</td>\n",
       "    </tr>\n",
       "    <tr>\n",
       "      <th>...</th>\n",
       "      <td>...</td>\n",
       "      <td>...</td>\n",
       "      <td>...</td>\n",
       "      <td>...</td>\n",
       "      <td>...</td>\n",
       "      <td>...</td>\n",
       "      <td>...</td>\n",
       "      <td>...</td>\n",
       "    </tr>\n",
       "    <tr>\n",
       "      <th>19994</th>\n",
       "      <td>0.468465</td>\n",
       "      <td>0.669797</td>\n",
       "      <td>-0.599968</td>\n",
       "      <td>-0.014316</td>\n",
       "      <td>-0.012180</td>\n",
       "      <td>Honda</td>\n",
       "      <td>0</td>\n",
       "      <td>1</td>\n",
       "    </tr>\n",
       "    <tr>\n",
       "      <th>19995</th>\n",
       "      <td>0.273050</td>\n",
       "      <td>-0.485249</td>\n",
       "      <td>0.163966</td>\n",
       "      <td>1.400455</td>\n",
       "      <td>-0.012257</td>\n",
       "      <td>Honda</td>\n",
       "      <td>0</td>\n",
       "      <td>3</td>\n",
       "    </tr>\n",
       "    <tr>\n",
       "      <th>19996</th>\n",
       "      <td>-0.113156</td>\n",
       "      <td>0.169102</td>\n",
       "      <td>0.315575</td>\n",
       "      <td>0.182151</td>\n",
       "      <td>-0.012144</td>\n",
       "      <td>Honda</td>\n",
       "      <td>1</td>\n",
       "      <td>3</td>\n",
       "    </tr>\n",
       "    <tr>\n",
       "      <th>19997</th>\n",
       "      <td>0.039900</td>\n",
       "      <td>0.885752</td>\n",
       "      <td>-1.772380</td>\n",
       "      <td>-0.244892</td>\n",
       "      <td>-0.012298</td>\n",
       "      <td>Honda</td>\n",
       "      <td>0</td>\n",
       "      <td>0</td>\n",
       "    </tr>\n",
       "    <tr>\n",
       "      <th>19998</th>\n",
       "      <td>-0.299483</td>\n",
       "      <td>-1.534571</td>\n",
       "      <td>1.857443</td>\n",
       "      <td>0.393353</td>\n",
       "      <td>-0.012338</td>\n",
       "      <td>Honda</td>\n",
       "      <td>0</td>\n",
       "      <td>3</td>\n",
       "    </tr>\n",
       "  </tbody>\n",
       "</table>\n",
       "<p>19999 rows × 8 columns</p>\n",
       "</div>"
      ],
      "text/plain": [
       "       acceleration_z (Std)  speed (Std)  speed (Skew)  bearing (Std)  \\\n",
       "0                  0.027987     0.428256     -0.191503       1.388323   \n",
       "1                  3.253814    -2.334746      0.343246       1.025095   \n",
       "2                  0.196788     1.523268     -1.310074      -0.714816   \n",
       "3                 -0.170343     0.945398      0.680853       0.049261   \n",
       "4                 -0.117919    -0.677344      0.095097      -2.058702   \n",
       "...                     ...          ...           ...            ...   \n",
       "19994              0.468465     0.669797     -0.599968      -0.014316   \n",
       "19995              0.273050    -0.485249      0.163966       1.400455   \n",
       "19996             -0.113156     0.169102      0.315575       0.182151   \n",
       "19997              0.039900     0.885752     -1.772380      -0.244892   \n",
       "19998             -0.299483    -1.534571      1.857443       0.393353   \n",
       "\n",
       "       second (Max)      car_model  label  Cluster  \n",
       "0         -0.012160  Mercedes-Benz      0        3  \n",
       "1         -0.012263  Mercedes-Benz      1        4  \n",
       "2         -0.012184  Mercedes-Benz      0        0  \n",
       "3         -0.012255  Mercedes-Benz      0        1  \n",
       "4         -0.012352  Mercedes-Benz      0        2  \n",
       "...             ...            ...    ...      ...  \n",
       "19994     -0.012180          Honda      0        1  \n",
       "19995     -0.012257          Honda      0        3  \n",
       "19996     -0.012144          Honda      1        3  \n",
       "19997     -0.012298          Honda      0        0  \n",
       "19998     -0.012338          Honda      0        3  \n",
       "\n",
       "[19999 rows x 8 columns]"
      ]
     },
     "execution_count": 93,
     "metadata": {},
     "output_type": "execute_result"
    }
   ],
   "source": [
    "multi_scaled_cluster = pd.concat([multi_scaled,pd.DataFrame(cluster_labels,columns=['Cluster'])],axis=1)\n",
    "multi_scaled_cluster"
   ]
  },
  {
   "cell_type": "code",
   "execution_count": 76,
   "id": "1efb7e1a",
   "metadata": {},
   "outputs": [],
   "source": [
    "cats = ['car_model', 'label']\n",
    "\n",
    "#callback function for the function below\n",
    "def cluster_category_analysis(cluster,nominal,clustered_data):\n",
    "    cluster_size = clustered_data[clustered_data['Cluster']==cluster]['Cluster'].count()\n",
    "    cluster_info_df = pd.DataFrame(columns=['Cluster','Attribute Name','Attribute Cluster Make up (%)'])\n",
    "    cluster_lst = []\n",
    "    for nominal_attr in clustered_data[nominal].unique():\n",
    "        attr_cluster_count = clustered_data[(clustered_data['Cluster']==cluster) & (clustered_data[nominal]==nominal_attr)]['Cluster'].count()\n",
    "        perc = (attr_cluster_count/cluster_size)*100\n",
    "        attr_perc_df = pd.DataFrame([[cluster,f'{nominal}:{nominal_attr}',perc]],columns=['Cluster','Attribute Name','Attribute Cluster Make up (%)'])\n",
    "        cluster_info_df = pd.concat([cluster_info_df,attr_perc_df])\n",
    "        cluster_lst.append(cluster)\n",
    "    cluster_info_df.index = cluster_lst\n",
    "    return cluster_info_df\n",
    "\n",
    "def cluster_analysis(cluster,clustered_data,nominal_cats):\n",
    "    nominal_info = pd.DataFrame(columns=['Cluster','Attribute Name','Attribute Cluster Make up (%)'])\n",
    "    for nominal in nominal_cats:\n",
    "        nominal_info = pd.concat([nominal_info,cluster_category_analysis(cluster,nominal,clustered_data)])\n",
    "    cluster_mask = clustered_data['Cluster']==cluster\n",
    "    cluster_means = pd.DataFrame([clustered_data[cluster_mask].drop(columns=nominal_cats).mean()]).drop(columns=['Cluster'])\n",
    "    cluster_df = pd.DataFrame([cluster],columns=['Cluster'])\n",
    "    cluster_means = pd.concat([cluster_df,cluster_means],axis=1)\n",
    "    cluster_means.index = [cluster]\n",
    "    return cluster_means, nominal_info"
   ]
  },
  {
   "cell_type": "markdown",
   "id": "4a34737e",
   "metadata": {},
   "source": [
    "### Centriod Information"
   ]
  },
  {
   "cell_type": "markdown",
   "id": "51c53fa7",
   "metadata": {},
   "source": [
    "Scaled Centriods"
   ]
  },
  {
   "cell_type": "code",
   "execution_count": 61,
   "id": "4092af23",
   "metadata": {},
   "outputs": [
    {
     "data": {
      "text/html": [
       "<div>\n",
       "<style scoped>\n",
       "    .dataframe tbody tr th:only-of-type {\n",
       "        vertical-align: middle;\n",
       "    }\n",
       "\n",
       "    .dataframe tbody tr th {\n",
       "        vertical-align: top;\n",
       "    }\n",
       "\n",
       "    .dataframe thead th {\n",
       "        text-align: right;\n",
       "    }\n",
       "</style>\n",
       "<table border=\"1\" class=\"dataframe\">\n",
       "  <thead>\n",
       "    <tr style=\"text-align: right;\">\n",
       "      <th></th>\n",
       "      <th>acceleration_z (Std)</th>\n",
       "      <th>speed (Std)</th>\n",
       "      <th>speed (Skew)</th>\n",
       "      <th>bearing (Std)</th>\n",
       "      <th>second (Max)</th>\n",
       "      <th>car_model</th>\n",
       "      <th>label</th>\n",
       "    </tr>\n",
       "  </thead>\n",
       "  <tbody>\n",
       "    <tr>\n",
       "      <th>0</th>\n",
       "      <td>-0.1420351538585575</td>\n",
       "      <td>0.2259404761103533</td>\n",
       "      <td>-1.1319263896359906</td>\n",
       "      <td>-1.268081694493574</td>\n",
       "      <td>-0.012251758689738712</td>\n",
       "      <td>Toyota</td>\n",
       "      <td>0</td>\n",
       "    </tr>\n",
       "    <tr>\n",
       "      <th>1</th>\n",
       "      <td>-0.04084730860184828</td>\n",
       "      <td>1.0423688613899547</td>\n",
       "      <td>-0.37697712845674686</td>\n",
       "      <td>0.29453104216849013</td>\n",
       "      <td>-0.012216728925631649</td>\n",
       "      <td>Toyota</td>\n",
       "      <td>0</td>\n",
       "    </tr>\n",
       "    <tr>\n",
       "      <th>2</th>\n",
       "      <td>-0.17854909282421863</td>\n",
       "      <td>-0.6492570713940703</td>\n",
       "      <td>0.5730041172729022</td>\n",
       "      <td>-0.649275531068672</td>\n",
       "      <td>-0.01226719419794361</td>\n",
       "      <td>Toyota</td>\n",
       "      <td>0</td>\n",
       "    </tr>\n",
       "    <tr>\n",
       "      <th>3</th>\n",
       "      <td>-0.13386251893498663</td>\n",
       "      <td>-0.5589762190495824</td>\n",
       "      <td>0.39450139121640104</td>\n",
       "      <td>0.9067844486488882</td>\n",
       "      <td>-0.012267789475065285</td>\n",
       "      <td>Toyota</td>\n",
       "      <td>0</td>\n",
       "    </tr>\n",
       "    <tr>\n",
       "      <th>4</th>\n",
       "      <td>4.9663662590644755</td>\n",
       "      <td>-1.1223562361375723</td>\n",
       "      <td>1.2155575239134022</td>\n",
       "      <td>0.15064292066218088</td>\n",
       "      <td>-0.012208971065783312</td>\n",
       "      <td>Toyota</td>\n",
       "      <td>1</td>\n",
       "    </tr>\n",
       "    <tr>\n",
       "      <th>5</th>\n",
       "      <td>0.02471568298596009</td>\n",
       "      <td>0.36063331469508025</td>\n",
       "      <td>0.4457990287083271</td>\n",
       "      <td>0.5451095850724059</td>\n",
       "      <td>81.64149255459975</td>\n",
       "      <td>Chevrolet</td>\n",
       "      <td>0</td>\n",
       "    </tr>\n",
       "  </tbody>\n",
       "</table>\n",
       "</div>"
      ],
      "text/plain": [
       "   acceleration_z (Std)          speed (Std)          speed (Skew)  \\\n",
       "0   -0.1420351538585575   0.2259404761103533   -1.1319263896359906   \n",
       "1  -0.04084730860184828   1.0423688613899547  -0.37697712845674686   \n",
       "2  -0.17854909282421863  -0.6492570713940703    0.5730041172729022   \n",
       "3  -0.13386251893498663  -0.5589762190495824   0.39450139121640104   \n",
       "4    4.9663662590644755  -1.1223562361375723    1.2155575239134022   \n",
       "5   0.02471568298596009  0.36063331469508025    0.4457990287083271   \n",
       "\n",
       "         bearing (Std)           second (Max)  car_model label  \n",
       "0   -1.268081694493574  -0.012251758689738712     Toyota     0  \n",
       "1  0.29453104216849013  -0.012216728925631649     Toyota     0  \n",
       "2   -0.649275531068672   -0.01226719419794361     Toyota     0  \n",
       "3   0.9067844486488882  -0.012267789475065285     Toyota     0  \n",
       "4  0.15064292066218088  -0.012208971065783312     Toyota     1  \n",
       "5   0.5451095850724059      81.64149255459975  Chevrolet     0  "
      ]
     },
     "execution_count": 61,
     "metadata": {},
     "output_type": "execute_result"
    }
   ],
   "source": [
    "num_cols.append('car_model')\n",
    "num_cols.append('label')\n",
    "\n",
    "centroids = pd.DataFrame(kPro.cluster_centroids_,columns=num_cols)\n",
    "centroids"
   ]
  },
  {
   "cell_type": "markdown",
   "id": "84fda31c",
   "metadata": {},
   "source": [
    "Unscaled Centriods (inverse transform)"
   ]
  },
  {
   "cell_type": "code",
   "execution_count": 75,
   "id": "ed6f5155",
   "metadata": {},
   "outputs": [
    {
     "data": {
      "text/html": [
       "<div>\n",
       "<style scoped>\n",
       "    .dataframe tbody tr th:only-of-type {\n",
       "        vertical-align: middle;\n",
       "    }\n",
       "\n",
       "    .dataframe tbody tr th {\n",
       "        vertical-align: top;\n",
       "    }\n",
       "\n",
       "    .dataframe thead th {\n",
       "        text-align: right;\n",
       "    }\n",
       "</style>\n",
       "<table border=\"1\" class=\"dataframe\">\n",
       "  <thead>\n",
       "    <tr style=\"text-align: right;\">\n",
       "      <th></th>\n",
       "      <th>acceleration_z (Std)</th>\n",
       "      <th>speed (Std)</th>\n",
       "      <th>speed (Skew)</th>\n",
       "      <th>bearing (Std)</th>\n",
       "      <th>second (Max)</th>\n",
       "      <th>car_model</th>\n",
       "      <th>label</th>\n",
       "    </tr>\n",
       "  </thead>\n",
       "  <tbody>\n",
       "    <tr>\n",
       "      <th>0</th>\n",
       "      <td>1.005678</td>\n",
       "      <td>6.637867</td>\n",
       "      <td>-0.550996</td>\n",
       "      <td>55.217848</td>\n",
       "      <td>8.918545e+02</td>\n",
       "      <td>Toyota</td>\n",
       "      <td>0</td>\n",
       "    </tr>\n",
       "    <tr>\n",
       "      <th>1</th>\n",
       "      <td>1.059683</td>\n",
       "      <td>8.143094</td>\n",
       "      <td>0.012643</td>\n",
       "      <td>98.606202</td>\n",
       "      <td>1.157543e+03</td>\n",
       "      <td>Toyota</td>\n",
       "      <td>0</td>\n",
       "    </tr>\n",
       "    <tr>\n",
       "      <th>2</th>\n",
       "      <td>0.986189</td>\n",
       "      <td>5.024289</td>\n",
       "      <td>0.721891</td>\n",
       "      <td>72.399956</td>\n",
       "      <td>7.747815e+02</td>\n",
       "      <td>Toyota</td>\n",
       "      <td>0</td>\n",
       "    </tr>\n",
       "    <tr>\n",
       "      <th>3</th>\n",
       "      <td>1.010039</td>\n",
       "      <td>5.190737</td>\n",
       "      <td>0.588622</td>\n",
       "      <td>115.606363</td>\n",
       "      <td>7.702666e+02</td>\n",
       "      <td>Toyota</td>\n",
       "      <td>0</td>\n",
       "    </tr>\n",
       "    <tr>\n",
       "      <th>4</th>\n",
       "      <td>3.732114</td>\n",
       "      <td>4.152049</td>\n",
       "      <td>1.201616</td>\n",
       "      <td>94.610926</td>\n",
       "      <td>1.216384e+03</td>\n",
       "      <td>Toyota</td>\n",
       "      <td>1</td>\n",
       "    </tr>\n",
       "    <tr>\n",
       "      <th>5</th>\n",
       "      <td>1.094675</td>\n",
       "      <td>6.886196</td>\n",
       "      <td>0.626921</td>\n",
       "      <td>105.563902</td>\n",
       "      <td>6.193160e+08</td>\n",
       "      <td>Chevrolet</td>\n",
       "      <td>0</td>\n",
       "    </tr>\n",
       "  </tbody>\n",
       "</table>\n",
       "</div>"
      ],
      "text/plain": [
       "   acceleration_z (Std)  speed (Std)  speed (Skew)  bearing (Std)  \\\n",
       "0              1.005678     6.637867     -0.550996      55.217848   \n",
       "1              1.059683     8.143094      0.012643      98.606202   \n",
       "2              0.986189     5.024289      0.721891      72.399956   \n",
       "3              1.010039     5.190737      0.588622     115.606363   \n",
       "4              3.732114     4.152049      1.201616      94.610926   \n",
       "5              1.094675     6.886196      0.626921     105.563902   \n",
       "\n",
       "   second (Max)  car_model label  \n",
       "0  8.918545e+02     Toyota     0  \n",
       "1  1.157543e+03     Toyota     0  \n",
       "2  7.747815e+02     Toyota     0  \n",
       "3  7.702666e+02     Toyota     0  \n",
       "4  1.216384e+03     Toyota     1  \n",
       "5  6.193160e+08  Chevrolet     0  "
      ]
     },
     "execution_count": 75,
     "metadata": {},
     "output_type": "execute_result"
    }
   ],
   "source": [
    "pd.concat([pd.DataFrame(scaler.inverse_transform(centroids[['acceleration_z (Std)','speed (Std)', 'speed (Skew)', 'bearing (Std)', 'second (Max)']]),columns=['acceleration_z (Std)','speed (Std)', 'speed (Skew)', 'bearing (Std)', 'second (Max)']),centroids[['car_model','label']]], axis=1)"
   ]
  },
  {
   "cell_type": "code",
   "execution_count": 94,
   "id": "47642f09",
   "metadata": {},
   "outputs": [
    {
     "name": "stdout",
     "output_type": "stream",
     "text": [
      "\n",
      "Cluster: 0\n"
     ]
    },
    {
     "data": {
      "text/plain": [
       "(   Cluster  acceleration_z (Std)  speed (Std)  speed (Skew)  bearing (Std)  \\\n",
       " 0        0             -0.142035      0.22594     -1.131926      -1.268082   \n",
       " \n",
       "    second (Max)  \n",
       " 0     -0.012252  ,\n",
       "   Cluster           Attribute Name  Attribute Cluster Make up (%)\n",
       " 0       0  car_model:Mercedes-Benz                       5.164319\n",
       " 0       0        car_model:Hyundai                      10.026828\n",
       " 0       0         car_model:Toyota                      20.456070\n",
       " 0       0     car_model:Volkswagen                      12.709591\n",
       " 0       0            car_model:BMW                       2.213280\n",
       " 0       0          car_model:Mazda                      11.032864\n",
       " 0       0         car_model:Nissan                      12.072435\n",
       " 0       0          car_model:Honda                       7.176392\n",
       " 0       0      car_model:Chevrolet                       8.819584\n",
       " 0       0           car_model:Ford                      10.328638\n",
       " 0       0                  label:0                      86.150235\n",
       " 0       0                  label:1                      13.849765)"
      ]
     },
     "metadata": {},
     "output_type": "display_data"
    },
    {
     "name": "stdout",
     "output_type": "stream",
     "text": [
      "\n",
      "Cluster: 1\n"
     ]
    },
    {
     "data": {
      "text/plain": [
       "(   Cluster  acceleration_z (Std)  speed (Std)  speed (Skew)  bearing (Std)  \\\n",
       " 1        1             -0.040847     1.042369     -0.376977       0.294531   \n",
       " \n",
       "    second (Max)  \n",
       " 1     -0.012217  ,\n",
       "   Cluster           Attribute Name  Attribute Cluster Make up (%)\n",
       " 1       1  car_model:Mercedes-Benz                       5.337362\n",
       " 1       1        car_model:Hyundai                      10.976838\n",
       " 1       1         car_model:Toyota                      20.359181\n",
       " 1       1     car_model:Volkswagen                      13.175562\n",
       " 1       1            car_model:BMW                       2.047667\n",
       " 1       1          car_model:Mazda                      11.077543\n",
       " 1       1         car_model:Nissan                      12.269218\n",
       " 1       1          car_model:Honda                       7.351460\n",
       " 1       1      car_model:Chevrolet                       7.334676\n",
       " 1       1           car_model:Ford                      10.070493\n",
       " 1       1                  label:0                      70.510238\n",
       " 1       1                  label:1                      29.489762)"
      ]
     },
     "metadata": {},
     "output_type": "display_data"
    },
    {
     "name": "stdout",
     "output_type": "stream",
     "text": [
      "\n",
      "Cluster: 2\n"
     ]
    },
    {
     "data": {
      "text/plain": [
       "(   Cluster  acceleration_z (Std)  speed (Std)  speed (Skew)  bearing (Std)  \\\n",
       " 2        2             -0.178549    -0.649257      0.573004      -0.649276   \n",
       " \n",
       "    second (Max)  \n",
       " 2     -0.012267  ,\n",
       "   Cluster           Attribute Name  Attribute Cluster Make up (%)\n",
       " 2       2  car_model:Mercedes-Benz                       5.634662\n",
       " 2       2        car_model:Hyundai                      10.598047\n",
       " 2       2         car_model:Toyota                      20.606184\n",
       " 2       2     car_model:Volkswagen                      13.201790\n",
       " 2       2            car_model:BMW                       1.830757\n",
       " 2       2          car_model:Mazda                      10.496338\n",
       " 2       2         car_model:Nissan                      12.144020\n",
       " 2       2          car_model:Honda                       7.689178\n",
       " 2       2      car_model:Chevrolet                       7.282343\n",
       " 2       2           car_model:Ford                      10.516680\n",
       " 2       2                  label:0                      76.769731\n",
       " 2       2                  label:1                      23.230269)"
      ]
     },
     "metadata": {},
     "output_type": "display_data"
    },
    {
     "name": "stdout",
     "output_type": "stream",
     "text": [
      "\n",
      "Cluster: 3\n"
     ]
    },
    {
     "data": {
      "text/plain": [
       "(   Cluster  acceleration_z (Std)  speed (Std)  speed (Skew)  bearing (Std)  \\\n",
       " 3        3             -0.133863    -0.558976      0.394501       0.906784   \n",
       " \n",
       "    second (Max)  \n",
       " 3     -0.012268  ,\n",
       "   Cluster           Attribute Name  Attribute Cluster Make up (%)\n",
       " 3       3  car_model:Mercedes-Benz                       5.813953\n",
       " 3       3        car_model:Hyundai                      11.504581\n",
       " 3       3         car_model:Toyota                      19.855532\n",
       " 3       3     car_model:Volkswagen                      13.002114\n",
       " 3       3            car_model:BMW                       1.955603\n",
       " 3       3          car_model:Mazda                      10.324172\n",
       " 3       3         car_model:Nissan                      12.455955\n",
       " 3       3          car_model:Honda                       7.381959\n",
       " 3       3      car_model:Chevrolet                       7.540521\n",
       " 3       3           car_model:Ford                      10.165610\n",
       " 3       3                  label:0                      76.391825\n",
       " 3       3                  label:1                      23.608175)"
      ]
     },
     "metadata": {},
     "output_type": "display_data"
    },
    {
     "name": "stdout",
     "output_type": "stream",
     "text": [
      "\n",
      "Cluster: 4\n"
     ]
    },
    {
     "data": {
      "text/plain": [
       "(   Cluster  acceleration_z (Std)  speed (Std)  speed (Skew)  bearing (Std)  \\\n",
       " 4        4              4.966366    -1.122356      1.215558       0.150643   \n",
       " \n",
       "    second (Max)  \n",
       " 4     -0.012209  ,\n",
       "   Cluster           Attribute Name  Attribute Cluster Make up (%)\n",
       " 4       4  car_model:Mercedes-Benz                       4.310345\n",
       " 4       4        car_model:Hyundai                      12.931034\n",
       " 4       4         car_model:Toyota                      18.534483\n",
       " 4       4     car_model:Volkswagen                      15.948276\n",
       " 4       4            car_model:BMW                       1.939655\n",
       " 4       4          car_model:Mazda                      11.637931\n",
       " 4       4         car_model:Nissan                      12.715517\n",
       " 4       4          car_model:Honda                       6.034483\n",
       " 4       4      car_model:Chevrolet                       6.681034\n",
       " 4       4           car_model:Ford                       9.267241\n",
       " 4       4                  label:0                      26.724138\n",
       " 4       4                  label:1                      73.275862)"
      ]
     },
     "metadata": {},
     "output_type": "display_data"
    },
    {
     "name": "stdout",
     "output_type": "stream",
     "text": [
      "\n",
      "Cluster: 5\n"
     ]
    },
    {
     "data": {
      "text/plain": [
       "(   Cluster  acceleration_z (Std)  speed (Std)  speed (Skew)  bearing (Std)  \\\n",
       " 5        5              0.024716     0.360633      0.445799        0.54511   \n",
       " \n",
       "    second (Max)  \n",
       " 5     81.641493  ,\n",
       "   Cluster           Attribute Name  Attribute Cluster Make up (%)\n",
       " 5       5  car_model:Mercedes-Benz                      33.333333\n",
       " 5       5        car_model:Hyundai                      33.333333\n",
       " 5       5         car_model:Toyota                       0.000000\n",
       " 5       5     car_model:Volkswagen                       0.000000\n",
       " 5       5            car_model:BMW                       0.000000\n",
       " 5       5          car_model:Mazda                       0.000000\n",
       " 5       5         car_model:Nissan                       0.000000\n",
       " 5       5          car_model:Honda                       0.000000\n",
       " 5       5      car_model:Chevrolet                      33.333333\n",
       " 5       5           car_model:Ford                       0.000000\n",
       " 5       5                  label:0                     100.000000\n",
       " 5       5                  label:1                       0.000000)"
      ]
     },
     "metadata": {},
     "output_type": "display_data"
    }
   ],
   "source": [
    "cluster_cat_info = pd.DataFrame(columns=['Attribute Name','Attribute Cluster Make up (%)'])\n",
    "cluster_means_info = pd.DataFrame(columns=multi_scaled_cluster.drop(columns=cats).columns)\n",
    "for i in range(6):\n",
    "    clustered_results = cluster_analysis(i,multi_scaled_cluster, cats)\n",
    "    print(f'\\nCluster: {i}')\n",
    "    display(clustered_results)\n",
    "    cluster_cat_info = pd.concat([clustered_results[1],cluster_cat_info])\n",
    "    cluster_means_info = pd.concat([clustered_results[0],cluster_means_info])"
   ]
  },
  {
   "cell_type": "code",
   "execution_count": 95,
   "id": "f0467dff",
   "metadata": {},
   "outputs": [
    {
     "name": "stdout",
     "output_type": "stream",
     "text": [
      "Cluster 0 count: 2982\n",
      "Cluster 1 count: 5958\n",
      "Cluster 2 count: 4916\n",
      "Cluster 3 count: 5676\n",
      "Cluster 4 count: 464\n",
      "Cluster 5 count: 3\n"
     ]
    }
   ],
   "source": [
    "for i in range(6):\n",
    "    print(f\"Cluster {i} count: {len(multi_scaled_cluster[multi_scaled_cluster['Cluster']==i])}\")"
   ]
  },
  {
   "cell_type": "markdown",
   "id": "0415e662",
   "metadata": {},
   "source": [
    "Note that the normal observed distribution for safe and dangerous trips is 25% to 75%:<br>\n",
    "So from the information above we can start interperting the clusters:\n",
    "- Cluster 1 & 4 has higher than 25% dangerous drivers (observed average dangerous trip). <br><br>\n",
    "Cluster 4 contains 73% dangerous drivers, which is way higher than the observed average dangerous trip of 25%, which means cluster 4 can mean that it contains dangerous drivers. Therefore, we should warn drivers to that are frequently getting trips labelled as 4. Seems like the main cause for its high percentage of dangerous label could be attributed to accelerating (std), bearing (std) & speed (skewness), which makes sense, people should not like violent trips...where you speed up very quickly (acceleration) or turn a lot (bearing)<br><br>\n",
    "Cluster 1 contains 30% dangerous drivers, which could mean these are drivers on the verge of being labelled as dangerous. Cluster 1 also have its centriod distant closest to Cluster 4's centriod. If the trip is labelled as Cluster 1, we can warn the driver to drive more safely before being flagged as a dangerous driver in the future.\n",
    "\n",
    "- Cluster 0 has the highest safety label at 84% and looking at the attributes it can tell us the characteristics of safe drivers. Seems like safer drivers have lower acceleration standard deviation and speed skewness, which means these drivers are more careful. Drivers frequently labelled as cluster 6 can be given a praise to let them know they are doing good.\n",
    "\n",
    "- Cluster 5 are clearly outliers, and looking at the values, these are trips where the drivers that clearly driving dangerously especially with the high acceleration (std), speed (skewness) & bearing (std) but these trips are still labelled as safe. This could happen when the client is perhaps nice or in a hurry. Drivers that are labeled as Cluster 5 will also get the same warning as Cluster 1, where we will warn the driver to drive more safely otherwise they will be labelled as dangerous drivers. Another analysis would be since there is only 3/20000 datapoints in this cluster it could also mean the sensor of drivers in Cluster 5 are faulty.\n",
    "\n",
    "- Cluster 2 & 3 are characteristics of the average driver. They will not get a warning."
   ]
  },
  {
   "cell_type": "code",
   "execution_count": 100,
   "id": "36edeee5",
   "metadata": {},
   "outputs": [
    {
     "data": {
      "text/plain": [
       "'car_model'"
      ]
     },
     "execution_count": 100,
     "metadata": {},
     "output_type": "execute_result"
    }
   ],
   "source": [
    "num_cols.pop()\n",
    "num_cols.pop()"
   ]
  },
  {
   "cell_type": "code",
   "execution_count": 115,
   "id": "1f7d5a9c",
   "metadata": {},
   "outputs": [
    {
     "data": {
      "text/plain": [
       "array([[-0.02304285,  1.32594631],\n",
       "       [ 2.84561168,  0.33602516],\n",
       "       [-1.97122707,  0.08830167],\n",
       "       ...,\n",
       "       [ 0.13058933,  0.20231733],\n",
       "       [-1.82090733,  0.17480115],\n",
       "       [ 2.24338056, -0.37964689]])"
      ]
     },
     "execution_count": 115,
     "metadata": {},
     "output_type": "execute_result"
    }
   ],
   "source": [
    "principal_components"
   ]
  },
  {
   "cell_type": "code",
   "execution_count": 114,
   "id": "7877361f",
   "metadata": {},
   "outputs": [
    {
     "data": {
      "text/html": [
       "<div>\n",
       "<style scoped>\n",
       "    .dataframe tbody tr th:only-of-type {\n",
       "        vertical-align: middle;\n",
       "    }\n",
       "\n",
       "    .dataframe tbody tr th {\n",
       "        vertical-align: top;\n",
       "    }\n",
       "\n",
       "    .dataframe thead th {\n",
       "        text-align: right;\n",
       "    }\n",
       "</style>\n",
       "<table border=\"1\" class=\"dataframe\">\n",
       "  <thead>\n",
       "    <tr style=\"text-align: right;\">\n",
       "      <th></th>\n",
       "      <th>acceleration_z (Std)</th>\n",
       "      <th>speed (Std)</th>\n",
       "      <th>speed (Skew)</th>\n",
       "      <th>bearing (Std)</th>\n",
       "      <th>second (Max)</th>\n",
       "      <th>car_model</th>\n",
       "      <th>label</th>\n",
       "      <th>Cluster</th>\n",
       "    </tr>\n",
       "  </thead>\n",
       "  <tbody>\n",
       "    <tr>\n",
       "      <th>0</th>\n",
       "      <td>0.027987</td>\n",
       "      <td>0.428256</td>\n",
       "      <td>-0.191503</td>\n",
       "      <td>1.388323</td>\n",
       "      <td>-0.012160</td>\n",
       "      <td>Mercedes-Benz</td>\n",
       "      <td>0</td>\n",
       "      <td>3</td>\n",
       "    </tr>\n",
       "    <tr>\n",
       "      <th>1</th>\n",
       "      <td>3.253814</td>\n",
       "      <td>-2.334746</td>\n",
       "      <td>0.343246</td>\n",
       "      <td>1.025095</td>\n",
       "      <td>-0.012263</td>\n",
       "      <td>Mercedes-Benz</td>\n",
       "      <td>1</td>\n",
       "      <td>4</td>\n",
       "    </tr>\n",
       "    <tr>\n",
       "      <th>2</th>\n",
       "      <td>0.196788</td>\n",
       "      <td>1.523268</td>\n",
       "      <td>-1.310074</td>\n",
       "      <td>-0.714816</td>\n",
       "      <td>-0.012184</td>\n",
       "      <td>Mercedes-Benz</td>\n",
       "      <td>0</td>\n",
       "      <td>0</td>\n",
       "    </tr>\n",
       "    <tr>\n",
       "      <th>3</th>\n",
       "      <td>-0.170343</td>\n",
       "      <td>0.945398</td>\n",
       "      <td>0.680853</td>\n",
       "      <td>0.049261</td>\n",
       "      <td>-0.012255</td>\n",
       "      <td>Mercedes-Benz</td>\n",
       "      <td>0</td>\n",
       "      <td>1</td>\n",
       "    </tr>\n",
       "    <tr>\n",
       "      <th>4</th>\n",
       "      <td>-0.117919</td>\n",
       "      <td>-0.677344</td>\n",
       "      <td>0.095097</td>\n",
       "      <td>-2.058702</td>\n",
       "      <td>-0.012352</td>\n",
       "      <td>Mercedes-Benz</td>\n",
       "      <td>0</td>\n",
       "      <td>2</td>\n",
       "    </tr>\n",
       "    <tr>\n",
       "      <th>...</th>\n",
       "      <td>...</td>\n",
       "      <td>...</td>\n",
       "      <td>...</td>\n",
       "      <td>...</td>\n",
       "      <td>...</td>\n",
       "      <td>...</td>\n",
       "      <td>...</td>\n",
       "      <td>...</td>\n",
       "    </tr>\n",
       "    <tr>\n",
       "      <th>19994</th>\n",
       "      <td>0.468465</td>\n",
       "      <td>0.669797</td>\n",
       "      <td>-0.599968</td>\n",
       "      <td>-0.014316</td>\n",
       "      <td>-0.012180</td>\n",
       "      <td>Honda</td>\n",
       "      <td>0</td>\n",
       "      <td>1</td>\n",
       "    </tr>\n",
       "    <tr>\n",
       "      <th>19995</th>\n",
       "      <td>0.273050</td>\n",
       "      <td>-0.485249</td>\n",
       "      <td>0.163966</td>\n",
       "      <td>1.400455</td>\n",
       "      <td>-0.012257</td>\n",
       "      <td>Honda</td>\n",
       "      <td>0</td>\n",
       "      <td>3</td>\n",
       "    </tr>\n",
       "    <tr>\n",
       "      <th>19996</th>\n",
       "      <td>-0.113156</td>\n",
       "      <td>0.169102</td>\n",
       "      <td>0.315575</td>\n",
       "      <td>0.182151</td>\n",
       "      <td>-0.012144</td>\n",
       "      <td>Honda</td>\n",
       "      <td>1</td>\n",
       "      <td>3</td>\n",
       "    </tr>\n",
       "    <tr>\n",
       "      <th>19997</th>\n",
       "      <td>0.039900</td>\n",
       "      <td>0.885752</td>\n",
       "      <td>-1.772380</td>\n",
       "      <td>-0.244892</td>\n",
       "      <td>-0.012298</td>\n",
       "      <td>Honda</td>\n",
       "      <td>0</td>\n",
       "      <td>0</td>\n",
       "    </tr>\n",
       "    <tr>\n",
       "      <th>19998</th>\n",
       "      <td>-0.299483</td>\n",
       "      <td>-1.534571</td>\n",
       "      <td>1.857443</td>\n",
       "      <td>0.393353</td>\n",
       "      <td>-0.012338</td>\n",
       "      <td>Honda</td>\n",
       "      <td>0</td>\n",
       "      <td>3</td>\n",
       "    </tr>\n",
       "  </tbody>\n",
       "</table>\n",
       "<p>19999 rows × 8 columns</p>\n",
       "</div>"
      ],
      "text/plain": [
       "       acceleration_z (Std)  speed (Std)  speed (Skew)  bearing (Std)  \\\n",
       "0                  0.027987     0.428256     -0.191503       1.388323   \n",
       "1                  3.253814    -2.334746      0.343246       1.025095   \n",
       "2                  0.196788     1.523268     -1.310074      -0.714816   \n",
       "3                 -0.170343     0.945398      0.680853       0.049261   \n",
       "4                 -0.117919    -0.677344      0.095097      -2.058702   \n",
       "...                     ...          ...           ...            ...   \n",
       "19994              0.468465     0.669797     -0.599968      -0.014316   \n",
       "19995              0.273050    -0.485249      0.163966       1.400455   \n",
       "19996             -0.113156     0.169102      0.315575       0.182151   \n",
       "19997              0.039900     0.885752     -1.772380      -0.244892   \n",
       "19998             -0.299483    -1.534571      1.857443       0.393353   \n",
       "\n",
       "       second (Max)      car_model  label  Cluster  \n",
       "0         -0.012160  Mercedes-Benz      0        3  \n",
       "1         -0.012263  Mercedes-Benz      1        4  \n",
       "2         -0.012184  Mercedes-Benz      0        0  \n",
       "3         -0.012255  Mercedes-Benz      0        1  \n",
       "4         -0.012352  Mercedes-Benz      0        2  \n",
       "...             ...            ...    ...      ...  \n",
       "19994     -0.012180          Honda      0        1  \n",
       "19995     -0.012257          Honda      0        3  \n",
       "19996     -0.012144          Honda      1        3  \n",
       "19997     -0.012298          Honda      0        0  \n",
       "19998     -0.012338          Honda      0        3  \n",
       "\n",
       "[19999 rows x 8 columns]"
      ]
     },
     "execution_count": 114,
     "metadata": {},
     "output_type": "execute_result"
    }
   ],
   "source": [
    "multi_scaled_cluster"
   ]
  },
  {
   "cell_type": "code",
   "execution_count": 109,
   "id": "1b2c8c89",
   "metadata": {},
   "outputs": [
    {
     "data": {
      "image/png": "[encoded data removed]",
      "text/plain": [
       "<Figure size 640x480 with 1 Axes>"
      ]
     },
     "metadata": {},
     "output_type": "display_data"
    }
   ],
   "source": [
    "from sklearn.decomposition import PCA\n",
    "\n",
    "pca = PCA(n_components=2)\n",
    "principal_components = pca.fit_transform(multi_scaled_cluster[num_cols])\n",
    "\n",
    "clusters = [0, 1, 2, 3, 4, 5]\n",
    "colors = ['red', 'green', 'blue', 'cyan', 'magenta', 'yellow']\n",
    "for cluster, color in zip(clusters, colors):\n",
    "    plt.scatter(principal_components[multi_scaled_cluster['Cluster'] == cluster, 0], \n",
    "                principal_components[multi_scaled_cluster['Cluster'] == cluster, 1], \n",
    "                c=color, label=f\"Cluster: {cluster}\")\n",
    "    \n",
    "plt.xlabel('First Principal Component')\n",
    "plt.ylabel('Second Principal Component')\n",
    "plt.ylim(-6,6)\n",
    "plt.title('Clusters (PCA)')\n",
    "plt.legend()\n",
    "plt.show()"
   ]
  },
  {
   "cell_type": "code",
   "execution_count": 10,
   "id": "6bc09814",
   "metadata": {},
   "outputs": [
    {
     "data": {
      "text/html": [
       "<div>\n",
       "<style scoped>\n",
       "    .dataframe tbody tr th:only-of-type {\n",
       "        vertical-align: middle;\n",
       "    }\n",
       "\n",
       "    .dataframe tbody tr th {\n",
       "        vertical-align: top;\n",
       "    }\n",
       "\n",
       "    .dataframe thead th {\n",
       "        text-align: right;\n",
       "    }\n",
       "</style>\n",
       "<table border=\"1\" class=\"dataframe\">\n",
       "  <thead>\n",
       "    <tr style=\"text-align: right;\">\n",
       "      <th></th>\n",
       "      <th>acceleration_z (Std)</th>\n",
       "      <th>speed (Std)</th>\n",
       "      <th>speed (Skew)</th>\n",
       "      <th>bearing (Std)</th>\n",
       "      <th>second (Max)</th>\n",
       "    </tr>\n",
       "  </thead>\n",
       "  <tbody>\n",
       "    <tr>\n",
       "      <th>0</th>\n",
       "      <td>0.279491</td>\n",
       "      <td>-0.61261</td>\n",
       "      <td>0.691250</td>\n",
       "      <td>0.262149</td>\n",
       "      <td>0.006785</td>\n",
       "    </tr>\n",
       "    <tr>\n",
       "      <th>1</th>\n",
       "      <td>0.153612</td>\n",
       "      <td>0.43018</td>\n",
       "      <td>0.003788</td>\n",
       "      <td>0.822762</td>\n",
       "      <td>0.338228</td>\n",
       "    </tr>\n",
       "  </tbody>\n",
       "</table>\n",
       "</div>"
      ],
      "text/plain": [
       "   acceleration_z (Std)  speed (Std)  speed (Skew)  bearing (Std)  \\\n",
       "0              0.279491     -0.61261      0.691250       0.262149   \n",
       "1              0.153612      0.43018      0.003788       0.822762   \n",
       "\n",
       "   second (Max)  \n",
       "0      0.006785  \n",
       "1      0.338228  "
      ]
     },
     "execution_count": 10,
     "metadata": {},
     "output_type": "execute_result"
    }
   ],
   "source": [
    "pd.DataFrame(pca.components_, columns=['acceleration_z (Std)', 'speed (Std)', 'speed (Skew)', 'bearing (Std)', 'second (Max)'])"
   ]
  },
  {
   "cell_type": "markdown",
   "id": "daf7c2e3",
   "metadata": {},
   "source": [
    "- PC1: We can see that positive acceleration and bearing standard deviation, while negative speed (std) will give a higher PC1\n",
    "- PC2: We can see that positive acceleration, speed (skew), bearing and second (Max)"
   ]
  },
  {
   "cell_type": "code",
   "execution_count": 110,
   "id": "a72dbe57",
   "metadata": {},
   "outputs": [],
   "source": [
    "# Save unsupervised models\n",
    "filename = 'unsupervised_model.pkl'\n",
    "with open(filename, 'wb') as file:\n",
    "    pickle.dump(kPro, file)\n",
    "\n",
    "filename = 'pca.pkl'\n",
    "with open(filename, 'wb') as file:\n",
    "    pickle.dump(pca, file)"
   ]
  },
  {
   "cell_type": "markdown",
   "id": "7f135fed",
   "metadata": {},
   "source": [
    "To conclude we trained 1 main supervised learning model to predict the safe and dangerous labels of trips, and also trained 2 unsupervised learning model for analysis for our application."
   ]
  }
 ],
 "metadata": {
  "kernelspec": {
   "display_name": "Python 3 (ipykernel)",
   "language": "python",
   "name": "python3"
  },
  "language_info": {
   "codemirror_mode": {
    "name": "ipython",
    "version": 3
   },
   "file_extension": ".py",
   "mimetype": "text/x-python",
   "name": "python",
   "nbconvert_exporter": "python",
   "pygments_lexer": "ipython3",
   "version": "3.9.12"
  },
  "vscode": {
   "interpreter": {
    "hash": "f398278b8238c6261b90d6b084dc560774c1eef473eb20b6be62b1f66ff48efb"
   }
  }
 },
 "nbformat": 4,
 "nbformat_minor": 5
}
